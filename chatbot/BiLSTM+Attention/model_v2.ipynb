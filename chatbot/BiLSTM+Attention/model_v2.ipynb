{
  "nbformat": 4,
  "nbformat_minor": 0,
  "metadata": {
    "colab": {
      "name": "model_v2.ipynb",
      "provenance": [],
      "collapsed_sections": [],
      "machine_shape": "hm",
      "include_colab_link": true
    },
    "kernelspec": {
      "name": "python3",
      "display_name": "Python 3"
    },
    "language_info": {
      "name": "python"
    }
  },
  "cells": [
    {
      "cell_type": "markdown",
      "metadata": {
        "id": "view-in-github",
        "colab_type": "text"
      },
      "source": [
        "<a href=\"https://colab.research.google.com/github/Ayman-Abdeen/chatboot-/blob/main/chatbot/BiLSTM%2BAttention/model_v2.ipynb\" target=\"_parent\"><img src=\"https://colab.research.google.com/assets/colab-badge.svg\" alt=\"Open In Colab\"/></a>"
      ]
    },
    {
      "cell_type": "code",
      "source": [
        "!nvidia-smi"
      ],
      "metadata": {
        "id": "8q1MVvk0V1gm",
        "outputId": "762dbeed-80b3-4503-e744-35c3b19a1c5f",
        "colab": {
          "base_uri": "https://localhost:8080/"
        }
      },
      "execution_count": 14,
      "outputs": [
        {
          "output_type": "stream",
          "name": "stdout",
          "text": [
            "NVIDIA-SMI has failed because it couldn't communicate with the NVIDIA driver. Make sure that the latest NVIDIA driver is installed and running.\n",
            "\n"
          ]
        }
      ]
    },
    {
      "cell_type": "code",
      "source": [
        "from google.colab import drive\n",
        "drive.mount('/content/drive')"
      ],
      "metadata": {
        "id": "hdeCk6l21qPR",
        "outputId": "227210d5-e414-4d2f-c606-ae9103b6da33",
        "colab": {
          "base_uri": "https://localhost:8080/"
        }
      },
      "execution_count": 106,
      "outputs": [
        {
          "output_type": "stream",
          "name": "stdout",
          "text": [
            "Drive already mounted at /content/drive; to attempt to forcibly remount, call drive.mount(\"/content/drive\", force_remount=True).\n"
          ]
        }
      ]
    },
    {
      "cell_type": "code",
      "source": [
        "!pip install --user -U nltk\n",
        "import nltk\n",
        "from nltk.corpus import stopwords\n",
        "nltk.download('stopwords')\n",
        "stops = set(stopwords.words('english'))"
      ],
      "metadata": {
        "colab": {
          "base_uri": "https://localhost:8080/"
        },
        "id": "AzsZd4VYG3Bx",
        "outputId": "f43b4e6a-c912-4e4a-967c-e6157d01f30d"
      },
      "execution_count": 15,
      "outputs": [
        {
          "output_type": "stream",
          "name": "stdout",
          "text": [
            "Requirement already satisfied: nltk in /root/.local/lib/python3.7/site-packages (3.6.7)\n",
            "Requirement already satisfied: click in /usr/local/lib/python3.7/dist-packages (from nltk) (7.1.2)\n",
            "Requirement already satisfied: joblib in /usr/local/lib/python3.7/dist-packages (from nltk) (1.1.0)\n",
            "Requirement already satisfied: regex>=2021.8.3 in /root/.local/lib/python3.7/site-packages (from nltk) (2022.1.18)\n",
            "Requirement already satisfied: tqdm in /usr/local/lib/python3.7/dist-packages (from nltk) (4.62.3)\n",
            "[nltk_data] Downloading package stopwords to /root/nltk_data...\n",
            "[nltk_data]   Package stopwords is already up-to-date!\n"
          ]
        }
      ]
    },
    {
      "cell_type": "code",
      "source": [
        "from keras import backend as K\n",
        "from keras.layers import Layer\n",
        "from keras.preprocessing.sequence import pad_sequences\n",
        "import numpy as np\n",
        "import itertools\n",
        "\n",
        "'''\n",
        "This configuration file provides a series of predefined functions\n",
        "'''\n",
        "\n",
        "\n",
        "# ------------------custom function------------------ #\n",
        "\n",
        "def text_to_word_list(text):  # 文本分词\n",
        "    text = str(text)\n",
        "    text = text.lower()\n",
        "    # Text cleaning rules for English text\n",
        "    import re\n",
        "    text = re.sub(r\"[^A-Za-z0-9^,!.\\/'+-=]\", \" \", text)\n",
        "    text = re.sub(r\"what's\", \"what is \", text)\n",
        "    text = re.sub(r\"\\'s\", \" \", text)\n",
        "    text = re.sub(r\"\\'ve\", \" have \", text)\n",
        "    text = re.sub(r\"can't\", \"cannot \", text)\n",
        "    text = re.sub(r\"n't\", \" not \", text)\n",
        "    text = re.sub(r\"i'm\", \"i am \", text)\n",
        "    text = re.sub(r\"\\'re\", \" are \", text)\n",
        "    text = re.sub(r\"\\'d\", \" would \", text)\n",
        "    text = re.sub(r\"\\'ll\", \" will \", text)\n",
        "    text = re.sub(r\",\", \" \", text)\n",
        "    text = re.sub(r\"\\.\", \" \", text)\n",
        "    text = re.sub(r\"!\", \" ! \", text)\n",
        "    text = re.sub(r\"\\/\", \" \", text)\n",
        "    text = re.sub(r\"\\^\", \" ^ \", text)\n",
        "    text = re.sub(r\"\\+\", \" + \", text)\n",
        "    text = re.sub(r\"\\-\", \" - \", text)\n",
        "    text = re.sub(r\"\\=\", \" = \", text)\n",
        "    text = re.sub(r\"'\", \" \", text)\n",
        "    text = re.sub(r\"(\\d+)(k)\", r\"\\g<1>000\", text)\n",
        "    text = re.sub(r\":\", \" : \", text)\n",
        "    text = re.sub(r\" e g \", \" eg \", text)\n",
        "    text = re.sub(r\" b g \", \" bg \", text)\n",
        "    text = re.sub(r\" u s \", \" american \", text)\n",
        "    text = re.sub(r\"\\0s\", \"0\", text)\n",
        "    text = re.sub(r\" 9 11 \", \"911\", text)\n",
        "    text = re.sub(r\"e - mail\", \"email\", text)\n",
        "    text = re.sub(r\"j k\", \"jk\", text)\n",
        "    text = re.sub(r\"\\s{2,}\", \" \", text)\n",
        "\n",
        "    text = text.split()\n",
        "\n",
        "    return text\n",
        "\n",
        "def make_w2v_embeddings(flag, word2vec, df, embedding_dim):  # 将词转化为词向量\n",
        "    vocabs = {}  # 词序号\n",
        "    vocabs_count = 0  # 词个数计数器\n",
        "\n",
        "    vocabs_not_w2v = {}  # 无法用词向量表示的词\n",
        "    vocabs_not_w2v_count = 0  # Word count that cannot be represented by word vectors\n",
        "\n",
        "    # 停用词\n",
        "    # stops = set(open('data/stopwords.txt').read().strip().split('\\n'))\n",
        "\n",
        "    for index, row in df.iterrows():\n",
        "        # 打印处理进度\n",
        "        if index != 0 and index % 1000 == 0:\n",
        "            print(str(index) + \" sentences embedded.\")\n",
        "\n",
        "        for question in ['question1', 'question2']:\n",
        "            q2n = []  # q2n -> question to numbers representation\n",
        "            words = text_to_word_list(row[question])\n",
        "\n",
        "            for word in words:\n",
        "                # if word in stops:  # remove stop words\n",
        "                # continue\n",
        "                # The word of OOV is put into a dictionary that cannot be represented by a word vector, and the value is 1\n",
        "                if word not in word2vec and word not in vocabs_not_w2v:  \n",
        "                    vocabs_not_w2v_count += 1\n",
        "                    vocabs_not_w2v[word] = 1   \n",
        "                if word not in vocabs:  # Non-OOV words, extract the corresponding id\n",
        "                    vocabs_count += 1\n",
        "                    vocabs[word] = vocabs_count\n",
        "                    q2n.append(vocabs_count)\n",
        "                else:\n",
        "                    q2n.append(vocabs[word])\n",
        "            df.at[index, question + '_n'] = q2n\n",
        "\n",
        "    embeddings = 1 * np.random.randn(len(vocabs) + 1, embedding_dim)  # 随机初始化一个形状为[全部词个数，词向量维度]的矩阵\n",
        "    '''\n",
        "    词1 [a1, a2, a3, ..., a60]\n",
        "    词2 [b1, b2, b3, ..., b60]\n",
        "    词3 [c1, c2, c3, ..., c60]\n",
        "    '''\n",
        "    embeddings[0] = 0  # 第一行用0填充，因为不存在index为0的词\n",
        "\n",
        "    for index in vocabs:\n",
        "        vocab_word = vocabs[index]\n",
        "        if vocab_word in word2vec:\n",
        "            embeddings[index] = word2vec[vocab_word]\n",
        "    del word2vec\n",
        "\n",
        "    return df, embeddings\n",
        "\n",
        "\n",
        "def split_and_zero_padding(df, max_seq_length):  # 调整tokens长度\n",
        "\n",
        "    # 训练集矩阵转换成字典\n",
        "    X = {'left': df['question1_n'], 'right': df['question2_n']}\n",
        "\n",
        "    # 调整到规定长度\n",
        "    for dataset, side in itertools.product([X], ['left', 'right']):\n",
        "        dataset[side] = pad_sequences(dataset[side], padding='pre', truncating='post', maxlen=max_seq_length)\n",
        "\n",
        "    return dataset\n",
        "\n",
        "\n",
        "class ManDist(Layer):  # 封装成keras层的曼哈顿距离计算\n",
        "\n",
        "    # 初始化ManDist层，此时不需要任何参数输入\n",
        "    def __init__(self, **kwargs):\n",
        "        self.result = None\n",
        "        super(ManDist, self).__init__(**kwargs)\n",
        "\n",
        "    # Automatically build ManDist layer\n",
        "    def build(self, input_shape):\n",
        "        super(ManDist, self).build(input_shape)\n",
        "\n",
        "    # Calculate Manhattan distance\n",
        "    def call(self, x, **kwargs):\n",
        "        self.result = K.exp(-K.sum(K.abs(x[0] - x[1]), axis=1, keepdims=True))\n",
        "        return self.result\n",
        "\n",
        "    # return result\n",
        "    def compute_output_shape(self, input_shape):\n",
        "        return K.int_shape(self.result)"
      ],
      "metadata": {
        "id": "6WqiKm9jiNZv"
      },
      "execution_count": 16,
      "outputs": []
    },
    {
      "cell_type": "markdown",
      "source": [
        ""
      ],
      "metadata": {
        "id": "gnYJFm6O7s3x"
      }
    },
    {
      "cell_type": "code",
      "execution_count": 19,
      "metadata": {
        "id": "nAYrj7QKg9vy"
      },
      "outputs": [],
      "source": [
        "# Basic package\n",
        "from time import time\n",
        "import pandas as pd\n",
        "from sklearn.model_selection import train_test_split\n",
        "import keras\n",
        "from gensim.models import KeyedVectors\n",
        "from keras.models import Model\n",
        "from keras.layers import Input, Embedding, LSTM, Dense, Flatten, Activation, RepeatVector, Permute, Lambda, \\\n",
        "    Bidirectional, TimeDistributed, Dropout, Conv1D, GlobalMaxPool1D\n",
        "from keras.layers.merge import multiply, concatenate\n",
        "import keras.backend as K\n",
        "from tensorflow.keras.optimizers import Adam\n",
        "import matplotlib.pyplot as plt"
      ]
    },
    {
      "cell_type": "code",
      "source": [
        "!pip install wget"
      ],
      "metadata": {
        "id": "8BGLNAFEX-lQ",
        "outputId": "75b6a7d9-5779-40a0-c706-2b06d746ae1f",
        "colab": {
          "base_uri": "https://localhost:8080/"
        }
      },
      "execution_count": 5,
      "outputs": [
        {
          "output_type": "stream",
          "name": "stdout",
          "text": [
            "Collecting wget\n",
            "  Downloading wget-3.2.zip (10 kB)\n",
            "Building wheels for collected packages: wget\n",
            "  Building wheel for wget (setup.py) ... \u001b[?25l\u001b[?25hdone\n",
            "  Created wheel for wget: filename=wget-3.2-py3-none-any.whl size=9675 sha256=758ea9a7b1b81c73a1bc5e0803bb333cb92296ab8f4b3a9a0a43bfc03bfff714\n",
            "  Stored in directory: /root/.cache/pip/wheels/a1/b6/7c/0e63e34eb06634181c63adacca38b79ff8f35c37e3c13e3c02\n",
            "Successfully built wget\n",
            "Installing collected packages: wget\n",
            "Successfully installed wget-3.2\n"
          ]
        }
      ]
    },
    {
      "cell_type": "code",
      "source": [
        "#!pip install wget\n",
        "\n",
        "import wget\n",
        "url = 'https://s3.amazonaws.com/dl4j-distribution/GoogleNews-vectors-negative300.bin.gz'\n",
        "filename = wget.download(url)"
      ],
      "metadata": {
        "id": "wQbCm59mj2_F"
      },
      "execution_count": 6,
      "outputs": []
    },
    {
      "cell_type": "code",
      "source": [
        "! pip install kaggle\n",
        "! mkdir -p ~/.kaggle\n",
        "! cp kaggle.json ~/.kaggle/\n",
        "! chmod 600 ~/.kaggle/kaggle.json\n",
        "! kaggle competitions download quora-question-pairs -f train.csv.zip\n",
        "#! kaggle competitions download quora-question-pairs -f test.csv.zip"
      ],
      "metadata": {
        "id": "Im__Fm2-m17Z",
        "outputId": "b5f17617-79dd-4dee-9335-546395ab35eb",
        "colab": {
          "base_uri": "https://localhost:8080/"
        }
      },
      "execution_count": 8,
      "outputs": [
        {
          "output_type": "stream",
          "name": "stdout",
          "text": [
            "Requirement already satisfied: kaggle in /usr/local/lib/python3.7/dist-packages (1.5.12)\n",
            "Requirement already satisfied: python-slugify in /usr/local/lib/python3.7/dist-packages (from kaggle) (5.0.2)\n",
            "Requirement already satisfied: tqdm in /usr/local/lib/python3.7/dist-packages (from kaggle) (4.62.3)\n",
            "Requirement already satisfied: six>=1.10 in /usr/local/lib/python3.7/dist-packages (from kaggle) (1.15.0)\n",
            "Requirement already satisfied: requests in /usr/local/lib/python3.7/dist-packages (from kaggle) (2.23.0)\n",
            "Requirement already satisfied: urllib3 in /usr/local/lib/python3.7/dist-packages (from kaggle) (1.24.3)\n",
            "Requirement already satisfied: certifi in /usr/local/lib/python3.7/dist-packages (from kaggle) (2021.10.8)\n",
            "Requirement already satisfied: python-dateutil in /usr/local/lib/python3.7/dist-packages (from kaggle) (2.8.2)\n",
            "Requirement already satisfied: text-unidecode>=1.3 in /usr/local/lib/python3.7/dist-packages (from python-slugify->kaggle) (1.3)\n",
            "Requirement already satisfied: chardet<4,>=3.0.2 in /usr/local/lib/python3.7/dist-packages (from requests->kaggle) (3.0.4)\n",
            "Requirement already satisfied: idna<3,>=2.5 in /usr/local/lib/python3.7/dist-packages (from requests->kaggle) (2.10)\n",
            "Downloading train.csv.zip to /content\n",
            " 24% 5.00M/21.2M [00:00<00:00, 20.8MB/s]\n",
            "100% 21.2M/21.2M [00:00<00:00, 60.9MB/s]\n"
          ]
        }
      ]
    },
    {
      "cell_type": "code",
      "source": [
        "#! unzip -o test.csv.zip\n",
        "! unzip -o train.csv.zip"
      ],
      "metadata": {
        "id": "9Hb2fGMynFYm",
        "outputId": "f23438dd-e63e-4679-d6d4-8cc3e49da633",
        "colab": {
          "base_uri": "https://localhost:8080/"
        }
      },
      "execution_count": 9,
      "outputs": [
        {
          "output_type": "stream",
          "name": "stdout",
          "text": [
            "Archive:  train.csv.zip\n",
            "  inflating: train.csv               \n"
          ]
        }
      ]
    },
    {
      "cell_type": "code",
      "source": [
        "url = ''\n",
        "filename = wget.download(url)"
      ],
      "metadata": {
        "id": "pmPaWuL9yBWJ"
      },
      "execution_count": 98,
      "outputs": []
    },
    {
      "cell_type": "code",
      "source": [
        "!wget https://github.com/14H034160212/HHH-An-Online-Question-Answering-System-for-Medical-Questions/blob/master/Data/Model_train_dev_test_dataset/Other_model_train_dev_test_dataset/train.csv"
      ],
      "metadata": {
        "id": "9SxDhijU09-i",
        "outputId": "ad082c92-fafb-48e3-bdaa-fc6c29f9c825",
        "colab": {
          "base_uri": "https://localhost:8080/"
        }
      },
      "execution_count": 102,
      "outputs": [
        {
          "output_type": "stream",
          "name": "stdout",
          "text": [
            "--2022-01-26 00:41:27--  https://github.com/14H034160212/HHH-An-Online-Question-Answering-System-for-Medical-Questions/blob/master/Data/Model_train_dev_test_dataset/Other_model_train_dev_test_dataset/train.csv\n",
            "Resolving github.com (github.com)... 140.82.121.4\n",
            "Connecting to github.com (github.com)|140.82.121.4|:443... connected.\n",
            "HTTP request sent, awaiting response... 200 OK\n",
            "Length: unspecified [text/html]\n",
            "Saving to: ‘train.csv’\n",
            "\n",
            "train.csv               [ <=>                ] 174.29K  --.-KB/s    in 0.03s   \n",
            "\n",
            "2022-01-26 00:41:27 (5.27 MB/s) - ‘train.csv’ saved [178472]\n",
            "\n"
          ]
        }
      ]
    },
    {
      "cell_type": "code",
      "source": [
        "# ------------------Preloading------------------ #\n",
        "\n",
        "# Chinese and English training options, English training set is used by default\n",
        "TRAIN_CSV = './train_K.csv'\n",
        "TRAIN_CSV_git = './train.csv'\n",
        "flag = 'en'\n",
        "embedding_path = 'GoogleNews-vectors-negative300.bin.gz'\n",
        "embedding_dim = 300\n",
        "max_seq_length = 32\n",
        "savepath = './en_SiameseLSTM.h5'"
      ],
      "metadata": {
        "id": "V5sUkwgPicuf"
      },
      "execution_count": 110,
      "outputs": []
    },
    {
      "cell_type": "code",
      "source": [
        "# Whether to enable pre-trained word vectors, use randomly initialized word vectors by default\n",
        "# Load word vectors\n",
        "print(\"Loading word2vec model(it may takes 2-3 mins) ...\")\n",
        "embedding_dict = KeyedVectors.load_word2vec_format(embedding_path, binary=True)\n"
      ],
      "metadata": {
        "id": "PieHmagRi5sr",
        "outputId": "a03367ec-6052-4607-f506-d9f735e91427",
        "colab": {
          "base_uri": "https://localhost:8080/"
        }
      },
      "execution_count": 72,
      "outputs": [
        {
          "output_type": "stream",
          "name": "stdout",
          "text": [
            "Loading word2vec model(it may takes 2-3 mins) ...\n"
          ]
        }
      ]
    },
    {
      "cell_type": "code",
      "source": [
        "# Read and load the training set\n",
        "train_df = pd.read_csv(TRAIN_CSV_git)\n",
        "for q in ['question1', 'question2']:\n",
        "    train_df[q + '_n'] = train_df[q]"
      ],
      "metadata": {
        "id": "BHXXixPAjncI"
      },
      "execution_count": 111,
      "outputs": []
    },
    {
      "cell_type": "code",
      "source": [
        "# Read and load the training set\n",
        "train_df_kaggle = pd.read_csv(TRAIN_CSV)\n",
        "for q in ['question1', 'question2']:\n",
        "    train_df[q + '_n'] = train_df[q]"
      ],
      "metadata": {
        "id": "jFdXHZyyyvjx"
      },
      "execution_count": 112,
      "outputs": []
    },
    {
      "cell_type": "code",
      "source": [
        "# Vectorize the training set words\n",
        "train_df, embeddings = make_w2v_embeddings(flag, embedding_dict, train_df, embedding_dim=embedding_dim)"
      ],
      "metadata": {
        "id": "vnfQ3utBj_eQ",
        "colab": {
          "base_uri": "https://localhost:8080/"
        },
        "outputId": "799e4d07-f28e-4d3b-8034-28c77bfda78f"
      },
      "execution_count": 113,
      "outputs": [
        {
          "output_type": "stream",
          "name": "stdout",
          "text": [
            "1000 sentences embedded.\n",
            "2000 sentences embedded.\n",
            "3000 sentences embedded.\n",
            "4000 sentences embedded.\n",
            "5000 sentences embedded.\n",
            "6000 sentences embedded.\n",
            "7000 sentences embedded.\n",
            "8000 sentences embedded.\n",
            "9000 sentences embedded.\n"
          ]
        }
      ]
    },
    {
      "cell_type": "code",
      "source": [
        "train_df.head()"
      ],
      "metadata": {
        "id": "ugn03Eh2mfAY",
        "outputId": "ba8fb487-44a1-4cf1-ace6-35171f0bd486",
        "colab": {
          "base_uri": "https://localhost:8080/",
          "height": 337
        }
      },
      "execution_count": 114,
      "outputs": [
        {
          "output_type": "execute_result",
          "data": {
            "text/html": [
              "\n",
              "  <div id=\"df-5192db8e-85b0-46d5-8685-8d0aeb9d27eb\">\n",
              "    <div class=\"colab-df-container\">\n",
              "      <div>\n",
              "<style scoped>\n",
              "    .dataframe tbody tr th:only-of-type {\n",
              "        vertical-align: middle;\n",
              "    }\n",
              "\n",
              "    .dataframe tbody tr th {\n",
              "        vertical-align: top;\n",
              "    }\n",
              "\n",
              "    .dataframe thead th {\n",
              "        text-align: right;\n",
              "    }\n",
              "</style>\n",
              "<table border=\"1\" class=\"dataframe\">\n",
              "  <thead>\n",
              "    <tr style=\"text-align: right;\">\n",
              "      <th></th>\n",
              "      <th>id</th>\n",
              "      <th>qid1</th>\n",
              "      <th>qid2</th>\n",
              "      <th>question1</th>\n",
              "      <th>question2</th>\n",
              "      <th>is_duplicate</th>\n",
              "      <th>question1_n</th>\n",
              "      <th>question2_n</th>\n",
              "    </tr>\n",
              "  </thead>\n",
              "  <tbody>\n",
              "    <tr>\n",
              "      <th>0</th>\n",
              "      <td>31</td>\n",
              "      <td>63</td>\n",
              "      <td>64</td>\n",
              "      <td>What are some special cares for someone with a...</td>\n",
              "      <td>How can I keep my nose from getting stuffy at ...</td>\n",
              "      <td>1</td>\n",
              "      <td>[1, 2, 3, 4, 5, 6, 7, 8, 9, 10, 11, 12, 13, 14...</td>\n",
              "      <td>[17, 18, 19, 20, 21, 10, 22, 23, 13, 24, 16]</td>\n",
              "    </tr>\n",
              "    <tr>\n",
              "      <th>1</th>\n",
              "      <td>50</td>\n",
              "      <td>101</td>\n",
              "      <td>102</td>\n",
              "      <td>Is Career Launcher good for RBI Grade B prepar...</td>\n",
              "      <td>How is career launcher online program for RBI ...</td>\n",
              "      <td>1</td>\n",
              "      <td>[25, 26, 27, 28, 6, 29, 30, 31, 32]</td>\n",
              "      <td>[17, 25, 26, 27, 33, 34, 6, 29, 30, 31]</td>\n",
              "    </tr>\n",
              "    <tr>\n",
              "      <th>2</th>\n",
              "      <td>50</td>\n",
              "      <td>101</td>\n",
              "      <td>102</td>\n",
              "      <td>Is Career Launcher good for RBI Grade B prepar...</td>\n",
              "      <td>How is career launcher online program for RBI ...</td>\n",
              "      <td>1</td>\n",
              "      <td>[25, 26, 27, 28, 6, 29, 30, 31, 32]</td>\n",
              "      <td>[17, 25, 26, 27, 33, 34, 6, 29, 30, 31]</td>\n",
              "    </tr>\n",
              "    <tr>\n",
              "      <th>3</th>\n",
              "      <td>58</td>\n",
              "      <td>117</td>\n",
              "      <td>118</td>\n",
              "      <td>I was suddenly logged off Gmail. I can't remem...</td>\n",
              "      <td>I can't remember my Gmail password or my recov...</td>\n",
              "      <td>1</td>\n",
              "      <td>[19, 35, 36, 37, 38, 39, 19, 40, 41, 21, 39, 4...</td>\n",
              "      <td>[19, 40, 41, 21, 39, 42, 52, 21, 46, 47, 17, 1...</td>\n",
              "    </tr>\n",
              "    <tr>\n",
              "      <th>4</th>\n",
              "      <td>61</td>\n",
              "      <td>123</td>\n",
              "      <td>124</td>\n",
              "      <td>Is it normal to have a dark ring around the ir...</td>\n",
              "      <td>What causes a dark ring around the iris? How s...</td>\n",
              "      <td>0</td>\n",
              "      <td>[25, 54, 55, 56, 57, 9, 58, 59, 60, 15, 61, 62...</td>\n",
              "      <td>[1, 64, 9, 58, 59, 60, 15, 61, 17, 65, 54, 66,...</td>\n",
              "    </tr>\n",
              "  </tbody>\n",
              "</table>\n",
              "</div>\n",
              "      <button class=\"colab-df-convert\" onclick=\"convertToInteractive('df-5192db8e-85b0-46d5-8685-8d0aeb9d27eb')\"\n",
              "              title=\"Convert this dataframe to an interactive table.\"\n",
              "              style=\"display:none;\">\n",
              "        \n",
              "  <svg xmlns=\"http://www.w3.org/2000/svg\" height=\"24px\"viewBox=\"0 0 24 24\"\n",
              "       width=\"24px\">\n",
              "    <path d=\"M0 0h24v24H0V0z\" fill=\"none\"/>\n",
              "    <path d=\"M18.56 5.44l.94 2.06.94-2.06 2.06-.94-2.06-.94-.94-2.06-.94 2.06-2.06.94zm-11 1L8.5 8.5l.94-2.06 2.06-.94-2.06-.94L8.5 2.5l-.94 2.06-2.06.94zm10 10l.94 2.06.94-2.06 2.06-.94-2.06-.94-.94-2.06-.94 2.06-2.06.94z\"/><path d=\"M17.41 7.96l-1.37-1.37c-.4-.4-.92-.59-1.43-.59-.52 0-1.04.2-1.43.59L10.3 9.45l-7.72 7.72c-.78.78-.78 2.05 0 2.83L4 21.41c.39.39.9.59 1.41.59.51 0 1.02-.2 1.41-.59l7.78-7.78 2.81-2.81c.8-.78.8-2.07 0-2.86zM5.41 20L4 18.59l7.72-7.72 1.47 1.35L5.41 20z\"/>\n",
              "  </svg>\n",
              "      </button>\n",
              "      \n",
              "  <style>\n",
              "    .colab-df-container {\n",
              "      display:flex;\n",
              "      flex-wrap:wrap;\n",
              "      gap: 12px;\n",
              "    }\n",
              "\n",
              "    .colab-df-convert {\n",
              "      background-color: #E8F0FE;\n",
              "      border: none;\n",
              "      border-radius: 50%;\n",
              "      cursor: pointer;\n",
              "      display: none;\n",
              "      fill: #1967D2;\n",
              "      height: 32px;\n",
              "      padding: 0 0 0 0;\n",
              "      width: 32px;\n",
              "    }\n",
              "\n",
              "    .colab-df-convert:hover {\n",
              "      background-color: #E2EBFA;\n",
              "      box-shadow: 0px 1px 2px rgba(60, 64, 67, 0.3), 0px 1px 3px 1px rgba(60, 64, 67, 0.15);\n",
              "      fill: #174EA6;\n",
              "    }\n",
              "\n",
              "    [theme=dark] .colab-df-convert {\n",
              "      background-color: #3B4455;\n",
              "      fill: #D2E3FC;\n",
              "    }\n",
              "\n",
              "    [theme=dark] .colab-df-convert:hover {\n",
              "      background-color: #434B5C;\n",
              "      box-shadow: 0px 1px 3px 1px rgba(0, 0, 0, 0.15);\n",
              "      filter: drop-shadow(0px 1px 2px rgba(0, 0, 0, 0.3));\n",
              "      fill: #FFFFFF;\n",
              "    }\n",
              "  </style>\n",
              "\n",
              "      <script>\n",
              "        const buttonEl =\n",
              "          document.querySelector('#df-5192db8e-85b0-46d5-8685-8d0aeb9d27eb button.colab-df-convert');\n",
              "        buttonEl.style.display =\n",
              "          google.colab.kernel.accessAllowed ? 'block' : 'none';\n",
              "\n",
              "        async function convertToInteractive(key) {\n",
              "          const element = document.querySelector('#df-5192db8e-85b0-46d5-8685-8d0aeb9d27eb');\n",
              "          const dataTable =\n",
              "            await google.colab.kernel.invokeFunction('convertToInteractive',\n",
              "                                                     [key], {});\n",
              "          if (!dataTable) return;\n",
              "\n",
              "          const docLinkHtml = 'Like what you see? Visit the ' +\n",
              "            '<a target=\"_blank\" href=https://colab.research.google.com/notebooks/data_table.ipynb>data table notebook</a>'\n",
              "            + ' to learn more about interactive tables.';\n",
              "          element.innerHTML = '';\n",
              "          dataTable['output_type'] = 'display_data';\n",
              "          await google.colab.output.renderOutput(dataTable, element);\n",
              "          const docLink = document.createElement('div');\n",
              "          docLink.innerHTML = docLinkHtml;\n",
              "          element.appendChild(docLink);\n",
              "        }\n",
              "      </script>\n",
              "    </div>\n",
              "  </div>\n",
              "  "
            ],
            "text/plain": [
              "   id  ...                                        question2_n\n",
              "0  31  ...       [17, 18, 19, 20, 21, 10, 22, 23, 13, 24, 16]\n",
              "1  50  ...            [17, 25, 26, 27, 33, 34, 6, 29, 30, 31]\n",
              "2  50  ...            [17, 25, 26, 27, 33, 34, 6, 29, 30, 31]\n",
              "3  58  ...  [19, 40, 41, 21, 39, 42, 52, 21, 46, 47, 17, 1...\n",
              "4  61  ...  [1, 64, 9, 58, 59, 60, 15, 61, 17, 65, 54, 66,...\n",
              "\n",
              "[5 rows x 8 columns]"
            ]
          },
          "metadata": {},
          "execution_count": 114
        }
      ]
    },
    {
      "cell_type": "code",
      "source": [
        "train_df.shape"
      ],
      "metadata": {
        "id": "hk2khJxk25s4",
        "outputId": "db663167-76f6-495c-f27b-531a8524ca4a",
        "colab": {
          "base_uri": "https://localhost:8080/"
        }
      },
      "execution_count": 115,
      "outputs": [
        {
          "output_type": "execute_result",
          "data": {
            "text/plain": [
              "(9998, 8)"
            ]
          },
          "metadata": {},
          "execution_count": 115
        }
      ]
    },
    {
      "cell_type": "code",
      "source": [
        "train_df.shape"
      ],
      "metadata": {
        "id": "Hya7OEiuujPY",
        "outputId": "8ec4f85a-b939-49d9-9db9-2fff1ef95a86",
        "colab": {
          "base_uri": "https://localhost:8080/"
        }
      },
      "execution_count": 76,
      "outputs": [
        {
          "output_type": "execute_result",
          "data": {
            "text/plain": [
              "(404290, 8)"
            ]
          },
          "metadata": {},
          "execution_count": 76
        }
      ]
    },
    {
      "cell_type": "code",
      "source": [
        "plotBar=train_df[\"is_duplicate\"].value_counts()\n",
        "plotBar"
      ],
      "metadata": {
        "id": "fIF9e-hY2-lR",
        "outputId": "a9767cc1-6d19-44d2-98f6-ddf8661f83d9",
        "colab": {
          "base_uri": "https://localhost:8080/"
        }
      },
      "execution_count": 116,
      "outputs": [
        {
          "output_type": "execute_result",
          "data": {
            "text/plain": [
              "1    4999\n",
              "0    4999\n",
              "Name: is_duplicate, dtype: int64"
            ]
          },
          "metadata": {},
          "execution_count": 116
        }
      ]
    },
    {
      "cell_type": "code",
      "source": [
        "plotBar=train_df[\"is_duplicate\"].value_counts()\n",
        "plotBar"
      ],
      "metadata": {
        "id": "u-5sJxnomV7D",
        "outputId": "58bc0baf-a7f1-4b99-9486-b9dbcd04883a",
        "colab": {
          "base_uri": "https://localhost:8080/"
        }
      },
      "execution_count": 77,
      "outputs": [
        {
          "output_type": "execute_result",
          "data": {
            "text/plain": [
              "0    255027\n",
              "1    149263\n",
              "Name: is_duplicate, dtype: int64"
            ]
          },
          "metadata": {},
          "execution_count": 77
        }
      ]
    },
    {
      "cell_type": "code",
      "source": [
        "plt.bar(plotBar.index,plotBar)"
      ],
      "metadata": {
        "id": "FQ_qXEII3Bqe",
        "outputId": "957ec9fd-e61d-42f8-9fa0-38d8e8dca88b",
        "colab": {
          "base_uri": "https://localhost:8080/",
          "height": 282
        }
      },
      "execution_count": 117,
      "outputs": [
        {
          "output_type": "execute_result",
          "data": {
            "text/plain": [
              "<BarContainer object of 2 artists>"
            ]
          },
          "metadata": {},
          "execution_count": 117
        },
        {
          "output_type": "display_data",
          "data": {
            "image/png": "[encoded data removed]",
            "text/plain": [
              "<Figure size 432x288 with 1 Axes>"
            ]
          },
          "metadata": {
            "needs_background": "light"
          }
        }
      ]
    },
    {
      "cell_type": "code",
      "source": [
        "plt.bar(plotBar.index,plotBar)"
      ],
      "metadata": {
        "id": "IM2a0DqXmxM1",
        "outputId": "c7f3de92-42a6-453f-9fa7-0075cc1405ac",
        "colab": {
          "base_uri": "https://localhost:8080/",
          "height": 282
        }
      },
      "execution_count": 78,
      "outputs": [
        {
          "output_type": "execute_result",
          "data": {
            "text/plain": [
              "<BarContainer object of 2 artists>"
            ]
          },
          "metadata": {},
          "execution_count": 78
        },
        {
          "output_type": "display_data",
          "data": {
            "image/png": "[encoded data removed]",
            "text/plain": [
              "<Figure size 432x288 with 1 Axes>"
            ]
          },
          "metadata": {
            "needs_background": "light"
          }
        }
      ]
    },
    {
      "cell_type": "code",
      "source": [
        "print('Average word length of questions in question1 is {0:.0f}.'.format(np.mean(train_df['question1'].astype(str).apply(lambda x: len(x.split())))))\n",
        "print('Average word length of questions in question2 is {0:.0f}.'.format(np.mean(train_df['question2'].astype(str).apply(lambda x: len(x.split())))))"
      ],
      "metadata": {
        "id": "k4opam-f3Eot",
        "outputId": "8ae385bc-8708-4efc-c4ff-f5ac9e2af083",
        "colab": {
          "base_uri": "https://localhost:8080/"
        }
      },
      "execution_count": 118,
      "outputs": [
        {
          "output_type": "stream",
          "name": "stdout",
          "text": [
            "Average word length of questions in question1 is 12.\n",
            "Average word length of questions in question2 is 12.\n"
          ]
        }
      ]
    },
    {
      "cell_type": "code",
      "source": [
        "print('Average word length of questions in question1 is {0:.0f}.'.format(np.mean(train_df['question1'].astype(str).apply(lambda x: len(x.split())))))\n",
        "print('Average word length of questions in question2 is {0:.0f}.'.format(np.mean(train_df['question2'].astype(str).apply(lambda x: len(x.split())))))"
      ],
      "metadata": {
        "id": "OdCIBO9Qomu6",
        "outputId": "b5bf5d3d-2350-4022-b3c2-afe2f49de088",
        "colab": {
          "base_uri": "https://localhost:8080/"
        }
      },
      "execution_count": 79,
      "outputs": [
        {
          "output_type": "stream",
          "name": "stdout",
          "text": [
            "Average word length of questions in question1 is 11.\n",
            "Average word length of questions in question2 is 11.\n"
          ]
        }
      ]
    },
    {
      "cell_type": "code",
      "source": [
        "print('Average word length of questions in question1 is {0:.0f}.'.format(np.max(train_df['question1'].astype(str).apply(lambda x: len(x.split())))))\n",
        "print('Average word length of questions in question2 is {0:.0f}.'.format(np.max(train_df['question2'].astype(str).apply(lambda x: len(x.split())))))"
      ],
      "metadata": {
        "id": "y_pnCiVZ3JNm",
        "outputId": "a0dd5275-8fc2-4e72-f885-e581a3b54da4",
        "colab": {
          "base_uri": "https://localhost:8080/"
        }
      },
      "execution_count": 119,
      "outputs": [
        {
          "output_type": "stream",
          "name": "stdout",
          "text": [
            "Average word length of questions in question1 is 57.\n",
            "Average word length of questions in question2 is 57.\n"
          ]
        }
      ]
    },
    {
      "cell_type": "code",
      "source": [
        "print('Average word length of questions in question1 is {0:.0f}.'.format(np.max(train_df['question1'].astype(str).apply(lambda x: len(x.split())))))\n",
        "print('Average word length of questions in question2 is {0:.0f}.'.format(np.max(train_df['question2'].astype(str).apply(lambda x: len(x.split())))))"
      ],
      "metadata": {
        "id": "mrUL91pjrtwq",
        "outputId": "8e1c0ee6-719f-4c35-a9f5-04f06a0db06e",
        "colab": {
          "base_uri": "https://localhost:8080/"
        }
      },
      "execution_count": 80,
      "outputs": [
        {
          "output_type": "stream",
          "name": "stdout",
          "text": [
            "Average word length of questions in question1 is 125.\n",
            "Average word length of questions in question2 is 237.\n"
          ]
        }
      ]
    },
    {
      "cell_type": "code",
      "source": [
        "train_df['question1'].astype(str).apply(lambda x: len(x.split())).plot(kind='hist');"
      ],
      "metadata": {
        "id": "u4xWbdD83Nqr",
        "outputId": "0e27fb07-6fc1-4c31-b366-0844d75cabaf",
        "colab": {
          "base_uri": "https://localhost:8080/",
          "height": 265
        }
      },
      "execution_count": 120,
      "outputs": [
        {
          "output_type": "display_data",
          "data": {
            "image/png": "[encoded data removed]",
            "text/plain": [
              "<Figure size 432x288 with 1 Axes>"
            ]
          },
          "metadata": {
            "needs_background": "light"
          }
        }
      ]
    },
    {
      "cell_type": "code",
      "source": [
        "train_df['question1'].astype(str).apply(lambda x: len(x.split())).plot(kind='hist');\n"
      ],
      "metadata": {
        "id": "J3neRaI1sW0Z",
        "outputId": "505223ad-c380-4e2b-d6dd-291831a49f60",
        "colab": {
          "base_uri": "https://localhost:8080/",
          "height": 265
        }
      },
      "execution_count": 81,
      "outputs": [
        {
          "output_type": "display_data",
          "data": {
            "image/png": "[encoded data removed]",
            "text/plain": [
              "<Figure size 432x288 with 1 Axes>"
            ]
          },
          "metadata": {
            "needs_background": "light"
          }
        }
      ]
    },
    {
      "cell_type": "code",
      "source": [
        "@@@@@@@@@@@@@@@ff\n",
        "train_df['lenq1'] = train_df['question1'].astype(str).str.len()\n",
        "train_df['lenq2'] = train_df['question2'].astype(str).str.len()\n",
        "train_df['lenq1_n'] = train_df['question1_n'].str.len()\n",
        "train_df['lenq2_n'] = train_df['question2_n'].str.len()\n",
        "\n",
        "train_df"
      ],
      "metadata": {
        "id": "mtG_oVVgkyWD"
      },
      "execution_count": null,
      "outputs": []
    },
    {
      "cell_type": "code",
      "source": [
        "@@@@@@@@@@@@@@\n",
        "plt.plot(train_df['lenq2_n'].value_counts(), train_df['lenq2_n'])\n",
        "plt.show()\n",
        "plt.plot(train_df['lenq2_n'],'o')\n",
        "plt.show()"
      ],
      "metadata": {
        "id": "LMrJBvFMdrmY"
      },
      "execution_count": null,
      "outputs": []
    },
    {
      "cell_type": "code",
      "source": [
        "@@@@@@@@@@@@\n",
        "train_df['lenq1'].max()"
      ],
      "metadata": {
        "id": "qvfX_CeffSCu",
        "outputId": "40100c15-f508-4eda-ac4c-f528ab03b984",
        "colab": {
          "base_uri": "https://localhost:8080/"
        }
      },
      "execution_count": 28,
      "outputs": [
        {
          "output_type": "execute_result",
          "data": {
            "text/plain": [
              "623"
            ]
          },
          "metadata": {},
          "execution_count": 28
        }
      ]
    },
    {
      "cell_type": "code",
      "source": [
        "@@@@@@@@@@@@@@@\n",
        "train_df['lenq2'].max()"
      ],
      "metadata": {
        "id": "nEz1MgibfY6z",
        "outputId": "a220413e-8ce4-47a9-e81c-b4512bf3b1ea",
        "colab": {
          "base_uri": "https://localhost:8080/"
        }
      },
      "execution_count": 29,
      "outputs": [
        {
          "output_type": "execute_result",
          "data": {
            "text/plain": [
              "1169"
            ]
          },
          "metadata": {},
          "execution_count": 29
        }
      ]
    },
    {
      "cell_type": "code",
      "source": [
        "@@@@@@@@@@@@@@@@@@@@@@@2\n",
        "for col in [('question1','lenq1'),('question2','lenq1')]:\n",
        "   # find indices, keep=\"all\" means keep all occurrences. \n",
        "   idxs = train_df[col[0]].astype(str).str.len().nlargest(1, keep=\"all\").index\n",
        "   mean = train_df[col[0]].astype(str).str.len().mean()\n",
        "\n",
        "   # get values.\n",
        "   values = train_df.loc[idxs,col[1]]\n",
        "   values2 = train_df.loc[idxs,col[0]]\n",
        "\n",
        "   print(values)\n",
        "   print(\"mean : \",mean)\n",
        "   print(len(train_df['question1'][4730]))"
      ],
      "metadata": {
        "colab": {
          "base_uri": "https://localhost:8080/"
        },
        "id": "ehDLjnDwceSE",
        "outputId": "4aea0fb7-61a7-4512-8fb3-1e52228e50b9"
      },
      "execution_count": 23,
      "outputs": [
        {
          "output_type": "stream",
          "name": "stdout",
          "text": [
            "35101    623\n",
            "Name: lenq1, dtype: int64\n",
            "mean :  59.53671621855599\n",
            "103\n",
            "4326      149\n",
            "153442    131\n",
            "346481    141\n",
            "Name: lenq1, dtype: int64\n",
            "mean :  60.108380123178904\n",
            "103\n"
          ]
        }
      ]
    },
    {
      "cell_type": "code",
      "source": [
        "# max_seq_length_in_dataset\n",
        "max_seq_length_in_dataset = max(train_df.question1_n.map(lambda x: len(x)).max(),train_df.question2_n.map(lambda x: len(x)).max())\n",
        "print(\"max_seq_length_in_dataset : \",max_seq_length_in_dataset)\n"
      ],
      "metadata": {
        "id": "SuItNPci3YTq",
        "outputId": "ff40f2e8-0dc6-4650-e3e3-a74674183ded",
        "colab": {
          "base_uri": "https://localhost:8080/"
        }
      },
      "execution_count": 121,
      "outputs": [
        {
          "output_type": "stream",
          "name": "stdout",
          "text": [
            "max_seq_length_in_dataset :  65\n"
          ]
        }
      ]
    },
    {
      "cell_type": "code",
      "source": [
        "# max_seq_length_in_dataset\n",
        "max_seq_length_in_dataset = max(train_df.question1_n.map(lambda x: len(x)).max(),train_df.question2_n.map(lambda x: len(x)).max())\n",
        "print(\"max_seq_length_in_dataset : \",max_seq_length_in_dataset)\n"
      ],
      "metadata": {
        "id": "P4QNwKEM9K4o",
        "colab": {
          "base_uri": "https://localhost:8080/"
        },
        "outputId": "c7887d87-bb34-4941-dee4-c06012aff275"
      },
      "execution_count": 84,
      "outputs": [
        {
          "output_type": "stream",
          "name": "stdout",
          "text": [
            "max_seq_length_in_dataset :  244\n"
          ]
        }
      ]
    },
    {
      "cell_type": "code",
      "source": [
        "# mean_seq_length_in_dataset\n",
        "max_seq_length_in_dataset = max(train_df.question1_n.map(lambda x: len(x)).mean(),train_df.question2_n.map(lambda x: len(x)).mean())\n",
        "print(\"mean_seq_length_in_dataset : \",max_seq_length_in_dataset)\n"
      ],
      "metadata": {
        "id": "lwY3mBm23bFN",
        "outputId": "cb81b9af-d8c4-4df7-bde3-16d94aa41ef5",
        "colab": {
          "base_uri": "https://localhost:8080/"
        }
      },
      "execution_count": 122,
      "outputs": [
        {
          "output_type": "stream",
          "name": "stdout",
          "text": [
            "mean_seq_length_in_dataset :  12.420184036807361\n"
          ]
        }
      ]
    },
    {
      "cell_type": "code",
      "source": [
        "# mean_seq_length_in_dataset\n",
        "max_seq_length_in_dataset = max(train_df.question1_n.map(lambda x: len(x)).mean(),train_df.question2_n.map(lambda x: len(x)).mean())\n",
        "print(\"mean_seq_length_in_dataset : \",max_seq_length_in_dataset)\n"
      ],
      "metadata": {
        "id": "pWueQe0AxWzy",
        "outputId": "ea47ddd3-242a-47bb-b46b-53592a0bf147",
        "colab": {
          "base_uri": "https://localhost:8080/"
        }
      },
      "execution_count": 86,
      "outputs": [
        {
          "output_type": "stream",
          "name": "stdout",
          "text": [
            "mean_seq_length_in_dataset :  11.413188552771526\n"
          ]
        }
      ]
    },
    {
      "cell_type": "markdown",
      "source": [
        "Take the training data from:\n",
        "question1   question2   is_duplicate\n",
        "borrow Repayment Information Borrow Repayment Date 0\n",
        "become:\n",
        "\n",
        "question1 question2 is_duplicate question1_n question2_n\n",
        "Borrow repayment information Borrow repayment date 0 Borrow repayment information Borrow repayment date\n",
        "\n",
        "After becoming id:\n",
        "question1 question2 is_duplicate question1_n question2_n\n",
        "Borrow repayment information Borrow repayment date 0 [31, 639] [31, 255]"
      ],
      "metadata": {
        "id": "QAJs7oCBkXnC"
      }
    },
    {
      "cell_type": "code",
      "source": [
        "# Split training set\n",
        "X = train_df[['question1_n', 'question2_n']]\n",
        "Y = train_df['is_duplicate']\n",
        "X_train, X_validation, Y_train, Y_validation = train_test_split(X, Y, test_size=0.2)\n",
        "\n",
        "X_train = split_and_zero_padding(X_train, max_seq_length)\n",
        "X_validation = split_and_zero_padding(X_validation, max_seq_length)"
      ],
      "metadata": {
        "id": "6spfcp5HkFs1"
      },
      "execution_count": 123,
      "outputs": []
    },
    {
      "cell_type": "code",
      "source": [
        "# Convert labels to numbers\n",
        "Y_train = Y_train.values\n",
        "Y_validation = Y_validation.values"
      ],
      "metadata": {
        "id": "3StaNp6ukRgP"
      },
      "execution_count": 124,
      "outputs": []
    },
    {
      "cell_type": "code",
      "source": [
        "# Confirm that the data is prepared and correct\n",
        "print(\"X_train['left'].shape\" , X_train['left'].shape)\n",
        "print(\"X_train['right'].shape\" , X_train['left'].shape)\n",
        "print(\"len(X_train['left'])\" , len(X_train['left']))\n",
        "print(\"len(Y_train)\" , len(Y_train))\n",
        "\n",
        "assert X_train['left'].shape == X_train['right'].shape\n",
        "assert len(X_train['left']) == len(Y_train)"
      ],
      "metadata": {
        "id": "gdI_duEkk3HH",
        "colab": {
          "base_uri": "https://localhost:8080/"
        },
        "outputId": "f3c8d69b-24fd-46c1-e7d3-ce500c877c1b"
      },
      "execution_count": 125,
      "outputs": [
        {
          "output_type": "stream",
          "name": "stdout",
          "text": [
            "X_train['left'].shape (7998, 32)\n",
            "X_train['right'].shape (7998, 32)\n",
            "len(X_train['left']) 7998\n",
            "len(Y_train) 7998\n"
          ]
        }
      ]
    },
    {
      "cell_type": "code",
      "source": [
        "print(Y_validation)"
      ],
      "metadata": {
        "id": "rC3heYbFq7lF",
        "colab": {
          "base_uri": "https://localhost:8080/"
        },
        "outputId": "b26e4e92-39ad-4dd2-8cd6-199143dce4b8"
      },
      "execution_count": 126,
      "outputs": [
        {
          "output_type": "stream",
          "name": "stdout",
          "text": [
            "[0 0 1 ... 0 1 0]\n"
          ]
        }
      ]
    },
    {
      "cell_type": "markdown",
      "source": [
        "# -----------------base function------------------ #\n"
      ],
      "metadata": {
        "id": "fYMK4WfglDsW"
      }
    },
    {
      "cell_type": "code",
      "source": [
        "def shared_model(_input):\n",
        "    # word vectorization\n",
        "    embedded = Embedding(len(embeddings), embedding_dim, weights=[embeddings], input_shape=(max_seq_length,),\n",
        "                         trainable=False)(_input)\n",
        "\n",
        "    # multilayerBi-LSTM\n",
        "    activations = Bidirectional(LSTM(n_hidden, return_sequences=True), merge_mode='concat')(embedded)\n",
        "    activations = Bidirectional(LSTM(n_hidden, return_sequences=True), merge_mode='concat')(activations)\n",
        "\n",
        "    # dropout\n",
        "    activations = Dropout(0.5)(activations)\n",
        "\n",
        "    # Attention\n",
        "    attention = TimeDistributed(Dense(1, activation='tanh'))(activations)\n",
        "    attention = Flatten()(attention)\n",
        "    attention = Activation('softmax')(attention)\n",
        "    attention = RepeatVector(n_hidden * 2)(attention)\n",
        "    attention = Permute([2, 1])(attention)\n",
        "    sent_representation = multiply([activations, attention])\n",
        "    sent_representation = Lambda(lambda xin: K.sum(xin, axis=1))(sent_representation)\n",
        "\n",
        "    # dropout\n",
        "    sent_representation = Dropout(0.4)(sent_representation)\n",
        "\n",
        "    return sent_representation"
      ],
      "metadata": {
        "id": "GQYxnMOYk92f"
      },
      "execution_count": 130,
      "outputs": []
    },
    {
      "cell_type": "code",
      "source": [
        "if __name__ == '__main__':\n",
        "\n",
        "    # Hyperparameter\n",
        "    batch_size = 1024\n",
        "    n_epoch = 15\n",
        "    n_hidden = 100\n",
        "\n",
        "    left_input = Input(shape=(max_seq_length,), dtype='float32')\n",
        "    right_input = Input(shape=(max_seq_length,), dtype='float32')\n",
        "\n",
        "    left_sen_representation = shared_model(left_input)\n",
        "    right_sen_representation = shared_model(right_input)\n",
        "\n",
        "    # The Manhattan distance is introduced, and the original \n",
        "    #vector on the obtained transformation concat is \n",
        "    #then subjected to a non-linear transformation \n",
        "    #through a multi-layer DNN, and the sigmoid obtains the similarity\n",
        "    \n",
        "    # I did not use the Mahalanobis distance mentioned \n",
        "    #in https://zhuanlan.zhihu.com/p/31638132. \n",
        "    #I tried Manhattan distance, point product and cos, \n",
        "    #and Manhattan is the best.\n",
        "    \n",
        "    man_distance = ManDist()([left_sen_representation, right_sen_representation])\n",
        "    sen_representation = concatenate([left_sen_representation, right_sen_representation, man_distance])\n",
        "    similarity = Dense(1, activation='sigmoid')(Dense(2)(Dense(4)(Dense(16)(sen_representation))))\n",
        "    model = Model(inputs=[left_input, right_input], outputs=[similarity])\n",
        "\n",
        "    model.compile(loss='mean_squared_error', optimizer= Adam(), metrics=['accuracy'])\n",
        "    model.summary()\n",
        "\n",
        "    training_start_time = time()\n",
        "    malstm_trained = model.fit([X_train['left'], X_train['right']], Y_train,\n",
        "                               batch_size=batch_size, epochs=n_epoch,\n",
        "                               validation_data=([X_validation['left'], X_validation['right']], Y_validation))\n",
        "    training_end_time = time()\n",
        "    print(\"Training time finished.\\n%d epochs in %12.2f\" % (n_epoch, training_end_time - training_start_time))"
      ],
      "metadata": {
        "id": "Me8wi2gGljNx",
        "colab": {
          "base_uri": "https://localhost:8080/"
        },
        "outputId": "7385e388-497e-4382-a71e-2b7e1f58a69c"
      },
      "execution_count": 131,
      "outputs": [
        {
          "output_type": "stream",
          "name": "stdout",
          "text": [
            "Model: \"model_2\"\n",
            "__________________________________________________________________________________________________\n",
            " Layer (type)                   Output Shape         Param #     Connected to                     \n",
            "==================================================================================================\n",
            " input_5 (InputLayer)           [(None, 32)]         0           []                               \n",
            "                                                                                                  \n",
            " input_6 (InputLayer)           [(None, 32)]         0           []                               \n",
            "                                                                                                  \n",
            " embedding_4 (Embedding)        (None, 32, 300)      3516600     ['input_5[0][0]']                \n",
            "                                                                                                  \n",
            " embedding_5 (Embedding)        (None, 32, 300)      3516600     ['input_6[0][0]']                \n",
            "                                                                                                  \n",
            " bidirectional_8 (Bidirectional  (None, 32, 200)     320800      ['embedding_4[0][0]']            \n",
            " )                                                                                                \n",
            "                                                                                                  \n",
            " bidirectional_10 (Bidirectiona  (None, 32, 200)     320800      ['embedding_5[0][0]']            \n",
            " l)                                                                                               \n",
            "                                                                                                  \n",
            " bidirectional_9 (Bidirectional  (None, 32, 200)     240800      ['bidirectional_8[0][0]']        \n",
            " )                                                                                                \n",
            "                                                                                                  \n",
            " bidirectional_11 (Bidirectiona  (None, 32, 200)     240800      ['bidirectional_10[0][0]']       \n",
            " l)                                                                                               \n",
            "                                                                                                  \n",
            " dropout_8 (Dropout)            (None, 32, 200)      0           ['bidirectional_9[0][0]']        \n",
            "                                                                                                  \n",
            " dropout_10 (Dropout)           (None, 32, 200)      0           ['bidirectional_11[0][0]']       \n",
            "                                                                                                  \n",
            " time_distributed_4 (TimeDistri  (None, 32, 1)       201         ['dropout_8[0][0]']              \n",
            " buted)                                                                                           \n",
            "                                                                                                  \n",
            " time_distributed_5 (TimeDistri  (None, 32, 1)       201         ['dropout_10[0][0]']             \n",
            " buted)                                                                                           \n",
            "                                                                                                  \n",
            " flatten_4 (Flatten)            (None, 32)           0           ['time_distributed_4[0][0]']     \n",
            "                                                                                                  \n",
            " flatten_5 (Flatten)            (None, 32)           0           ['time_distributed_5[0][0]']     \n",
            "                                                                                                  \n",
            " activation_4 (Activation)      (None, 32)           0           ['flatten_4[0][0]']              \n",
            "                                                                                                  \n",
            " activation_5 (Activation)      (None, 32)           0           ['flatten_5[0][0]']              \n",
            "                                                                                                  \n",
            " repeat_vector_4 (RepeatVector)  (None, 200, 32)     0           ['activation_4[0][0]']           \n",
            "                                                                                                  \n",
            " repeat_vector_5 (RepeatVector)  (None, 200, 32)     0           ['activation_5[0][0]']           \n",
            "                                                                                                  \n",
            " permute_4 (Permute)            (None, 32, 200)      0           ['repeat_vector_4[0][0]']        \n",
            "                                                                                                  \n",
            " permute_5 (Permute)            (None, 32, 200)      0           ['repeat_vector_5[0][0]']        \n",
            "                                                                                                  \n",
            " multiply_4 (Multiply)          (None, 32, 200)      0           ['dropout_8[0][0]',              \n",
            "                                                                  'permute_4[0][0]']              \n",
            "                                                                                                  \n",
            " multiply_5 (Multiply)          (None, 32, 200)      0           ['dropout_10[0][0]',             \n",
            "                                                                  'permute_5[0][0]']              \n",
            "                                                                                                  \n",
            " lambda_4 (Lambda)              (None, 200)          0           ['multiply_4[0][0]']             \n",
            "                                                                                                  \n",
            " lambda_5 (Lambda)              (None, 200)          0           ['multiply_5[0][0]']             \n",
            "                                                                                                  \n",
            " dropout_9 (Dropout)            (None, 200)          0           ['lambda_4[0][0]']               \n",
            "                                                                                                  \n",
            " dropout_11 (Dropout)           (None, 200)          0           ['lambda_5[0][0]']               \n",
            "                                                                                                  \n",
            " man_dist_2 (ManDist)           (None, 1)            0           ['dropout_9[0][0]',              \n",
            "                                                                  'dropout_11[0][0]']             \n",
            "                                                                                                  \n",
            " concatenate_2 (Concatenate)    (None, 401)          0           ['dropout_9[0][0]',              \n",
            "                                                                  'dropout_11[0][0]',             \n",
            "                                                                  'man_dist_2[0][0]']             \n",
            "                                                                                                  \n",
            " dense_17 (Dense)               (None, 16)           6432        ['concatenate_2[0][0]']          \n",
            "                                                                                                  \n",
            " dense_16 (Dense)               (None, 4)            68          ['dense_17[0][0]']               \n",
            "                                                                                                  \n",
            " dense_15 (Dense)               (None, 2)            10          ['dense_16[0][0]']               \n",
            "                                                                                                  \n",
            " dense_14 (Dense)               (None, 1)            3           ['dense_15[0][0]']               \n",
            "                                                                                                  \n",
            "==================================================================================================\n",
            "Total params: 8,163,315\n",
            "Trainable params: 1,130,115\n",
            "Non-trainable params: 7,033,200\n",
            "__________________________________________________________________________________________________\n",
            "Epoch 1/15\n",
            "8/8 [==============================] - 39s 3s/step - loss: 0.2293 - accuracy: 0.6133 - val_loss: 0.2026 - val_accuracy: 0.6950\n",
            "Epoch 2/15\n",
            "8/8 [==============================] - 22s 3s/step - loss: 0.1828 - accuracy: 0.7268 - val_loss: 0.1796 - val_accuracy: 0.7325\n",
            "Epoch 3/15\n",
            "8/8 [==============================] - 23s 3s/step - loss: 0.1538 - accuracy: 0.7797 - val_loss: 0.1657 - val_accuracy: 0.7520\n",
            "Epoch 4/15\n",
            "8/8 [==============================] - 23s 3s/step - loss: 0.1299 - accuracy: 0.8187 - val_loss: 0.1619 - val_accuracy: 0.7745\n",
            "Epoch 5/15\n",
            "8/8 [==============================] - 23s 3s/step - loss: 0.1044 - accuracy: 0.8630 - val_loss: 0.1568 - val_accuracy: 0.7855\n",
            "Epoch 6/15\n",
            "8/8 [==============================] - 23s 3s/step - loss: 0.0801 - accuracy: 0.9007 - val_loss: 0.1576 - val_accuracy: 0.8020\n",
            "Epoch 7/15\n",
            "8/8 [==============================] - 23s 3s/step - loss: 0.0602 - accuracy: 0.9246 - val_loss: 0.1572 - val_accuracy: 0.8060\n",
            "Epoch 8/15\n",
            "8/8 [==============================] - 23s 3s/step - loss: 0.0442 - accuracy: 0.9479 - val_loss: 0.1464 - val_accuracy: 0.8275\n",
            "Epoch 9/15\n",
            "8/8 [==============================] - 23s 3s/step - loss: 0.0345 - accuracy: 0.9606 - val_loss: 0.1519 - val_accuracy: 0.8195\n",
            "Epoch 10/15\n",
            "8/8 [==============================] - 23s 3s/step - loss: 0.0273 - accuracy: 0.9700 - val_loss: 0.1453 - val_accuracy: 0.8285\n",
            "Epoch 11/15\n",
            "8/8 [==============================] - 24s 3s/step - loss: 0.0224 - accuracy: 0.9759 - val_loss: 0.1509 - val_accuracy: 0.8235\n",
            "Epoch 12/15\n",
            "8/8 [==============================] - 21s 3s/step - loss: 0.0196 - accuracy: 0.9791 - val_loss: 0.1398 - val_accuracy: 0.8405\n",
            "Epoch 13/15\n",
            "8/8 [==============================] - 22s 3s/step - loss: 0.0175 - accuracy: 0.9810 - val_loss: 0.1441 - val_accuracy: 0.8365\n",
            "Epoch 14/15\n",
            "8/8 [==============================] - 22s 3s/step - loss: 0.0157 - accuracy: 0.9832 - val_loss: 0.1512 - val_accuracy: 0.8295\n",
            "Epoch 15/15\n",
            "8/8 [==============================] - 21s 3s/step - loss: 0.0192 - accuracy: 0.9786 - val_loss: 0.1493 - val_accuracy: 0.8310\n",
            "Training time finished.\n",
            "15 epochs in       353.39\n"
          ]
        }
      ]
    },
    {
      "cell_type": "code",
      "source": [
        "# Plot accuracy\n",
        "\n",
        "import matplotlib.pyplot as plt\n",
        "#plt.subplot(211)\n",
        "plt.plot(malstm_trained.history['accuracy'])\n",
        "plt.plot(malstm_trained.history['val_accuracy'])\n",
        "plt.title('Model Accuracy')\n",
        "plt.ylabel('Accuracy')\n",
        "plt.xlabel('Epoch')\n",
        "plt.legend(['Train', 'Validation'], loc='upper left')\n",
        "plt.show()\n",
        "\n",
        "# Plot loss\n",
        "#plt.subplot(212)\n",
        "plt.plot(malstm_trained.history['loss'])\n",
        "plt.plot(malstm_trained.history['val_loss'])\n",
        "plt.title('Model Loss')\n",
        "plt.ylabel('Loss')\n",
        "plt.xlabel('Epoch')\n",
        "plt.legend(['Train', 'Validation'], loc='upper right')\n",
        "plt.show()"
      ],
      "metadata": {
        "id": "ZTUMrUo-l0JW",
        "colab": {
          "base_uri": "https://localhost:8080/",
          "height": 573
        },
        "outputId": "a53d73a1-6001-4c09-b9b0-5db659eeb4f0"
      },
      "execution_count": 132,
      "outputs": [
        {
          "output_type": "display_data",
          "data": {
            "image/png": "[encoded data removed]",
            "text/plain": [
              "<Figure size 432x288 with 1 Axes>"
            ]
          },
          "metadata": {
            "needs_background": "light"
          }
        },
        {
          "output_type": "display_data",
          "data": {
            "image/png": "[encoded data removed]",
            "text/plain": [
              "<Figure size 432x288 with 1 Axes>"
            ]
          },
          "metadata": {
            "needs_background": "light"
          }
        }
      ]
    },
    {
      "cell_type": "code",
      "source": [
        ""
      ],
      "metadata": {
        "id": "pSeX0jyE8v9P"
      },
      "execution_count": null,
      "outputs": []
    }
  ]
}
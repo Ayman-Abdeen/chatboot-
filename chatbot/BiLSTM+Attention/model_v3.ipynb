{
  "nbformat": 4,
  "nbformat_minor": 0,
  "metadata": {
    "colab": {
      "name": "model_v2.ipynb",
      "provenance": [],
      "collapsed_sections": [],
      "machine_shape": "hm",
      "include_colab_link": true
    },
    "kernelspec": {
      "name": "python3",
      "display_name": "Python 3"
    },
    "language_info": {
      "name": "python"
    }
  },
  "cells": [
    {
      "cell_type": "markdown",
      "metadata": {
        "id": "view-in-github",
        "colab_type": "text"
      },
      "source": [
        "<a href=\"https://colab.research.google.com/github/Ayman-Abdeen/chatboot-/blob/main/chatbot/BiLSTM%2BAttention/model_v3.ipynb\" target=\"_parent\"><img src=\"https://colab.research.google.com/assets/colab-badge.svg\" alt=\"Open In Colab\"/></a>"
      ]
    },
    {
      "cell_type": "code",
      "source": [
        "!nvidia-smi"
      ],
      "metadata": {
        "id": "8q1MVvk0V1gm",
        "outputId": "a7ebe626-c5be-4998-a4a6-c7abf9391eb5",
        "colab": {
          "base_uri": "https://localhost:8080/"
        }
      },
      "execution_count": 3,
      "outputs": [
        {
          "output_type": "stream",
          "name": "stdout",
          "text": [
            "NVIDIA-SMI has failed because it couldn't communicate with the NVIDIA driver. Make sure that the latest NVIDIA driver is installed and running.\n",
            "\n"
          ]
        }
      ]
    },
    {
      "cell_type": "code",
      "source": [
        "from google.colab import drive\n",
        "drive.mount('/content/drive')"
      ],
      "metadata": {
        "id": "hdeCk6l21qPR",
        "outputId": "227210d5-e414-4d2f-c606-ae9103b6da33",
        "colab": {
          "base_uri": "https://localhost:8080/"
        }
      },
      "execution_count": null,
      "outputs": [
        {
          "output_type": "stream",
          "name": "stdout",
          "text": [
            "Drive already mounted at /content/drive; to attempt to forcibly remount, call drive.mount(\"/content/drive\", force_remount=True).\n"
          ]
        }
      ]
    },
    {
      "cell_type": "code",
      "source": [
        "!pip install --user -U nltk\n",
        "import nltk\n",
        "from nltk.corpus import stopwords\n",
        "nltk.download('stopwords')\n",
        "stops = set(stopwords.words('english'))"
      ],
      "metadata": {
        "colab": {
          "base_uri": "https://localhost:8080/"
        },
        "id": "AzsZd4VYG3Bx",
        "outputId": "6e9b2904-2724-4ce6-def2-0e404cef5652"
      },
      "execution_count": 4,
      "outputs": [
        {
          "output_type": "stream",
          "name": "stdout",
          "text": [
            "Requirement already satisfied: nltk in /root/.local/lib/python3.7/site-packages (3.6.7)\n",
            "Requirement already satisfied: joblib in /usr/local/lib/python3.7/dist-packages (from nltk) (1.1.0)\n",
            "Requirement already satisfied: click in /usr/local/lib/python3.7/dist-packages (from nltk) (7.1.2)\n",
            "Requirement already satisfied: regex>=2021.8.3 in /root/.local/lib/python3.7/site-packages (from nltk) (2022.1.18)\n",
            "Requirement already satisfied: tqdm in /usr/local/lib/python3.7/dist-packages (from nltk) (4.62.3)\n"
          ]
        },
        {
          "output_type": "stream",
          "name": "stderr",
          "text": [
            "[nltk_data] Downloading package stopwords to /root/nltk_data...\n",
            "[nltk_data]   Package stopwords is already up-to-date!\n"
          ]
        }
      ]
    },
    {
      "cell_type": "code",
      "source": [
        "from keras import backend as K\n",
        "from keras.layers import Layer\n",
        "from keras.preprocessing.sequence import pad_sequences\n",
        "import numpy as np\n",
        "import itertools\n",
        "\n",
        "'''\n",
        "This configuration file provides a series of predefined functions\n",
        "'''\n",
        "\n",
        "\n",
        "# ------------------custom function------------------ #\n",
        "\n",
        "def text_to_word_list(text):  # 文本分词\n",
        "    text = str(text)\n",
        "    text = text.lower()\n",
        "    # Text cleaning rules for English text\n",
        "    import re\n",
        "    text = re.sub(r\"[^A-Za-z0-9^,!.\\/'+-=]\", \" \", text)\n",
        "    text = re.sub(r\"what's\", \"what is \", text)\n",
        "    text = re.sub(r\"\\'s\", \" \", text)\n",
        "    text = re.sub(r\"\\'ve\", \" have \", text)\n",
        "    text = re.sub(r\"can't\", \"cannot \", text)\n",
        "    text = re.sub(r\"n't\", \" not \", text)\n",
        "    text = re.sub(r\"i'm\", \"i am \", text)\n",
        "    text = re.sub(r\"\\'re\", \" are \", text)\n",
        "    text = re.sub(r\"\\'d\", \" would \", text)\n",
        "    text = re.sub(r\"\\'ll\", \" will \", text)\n",
        "    text = re.sub(r\",\", \" \", text)\n",
        "    text = re.sub(r\"\\.\", \" \", text)\n",
        "    text = re.sub(r\"!\", \" ! \", text)\n",
        "    text = re.sub(r\"\\/\", \" \", text)\n",
        "    text = re.sub(r\"\\^\", \" ^ \", text)\n",
        "    text = re.sub(r\"\\+\", \" + \", text)\n",
        "    text = re.sub(r\"\\-\", \" - \", text)\n",
        "    text = re.sub(r\"\\=\", \" = \", text)\n",
        "    text = re.sub(r\"'\", \" \", text)\n",
        "    text = re.sub(r\"(\\d+)(k)\", r\"\\g<1>000\", text)\n",
        "    text = re.sub(r\":\", \" : \", text)\n",
        "    text = re.sub(r\" e g \", \" eg \", text)\n",
        "    text = re.sub(r\" b g \", \" bg \", text)\n",
        "    text = re.sub(r\" u s \", \" american \", text)\n",
        "    text = re.sub(r\"\\0s\", \"0\", text)\n",
        "    text = re.sub(r\" 9 11 \", \"911\", text)\n",
        "    text = re.sub(r\"e - mail\", \"email\", text)\n",
        "    text = re.sub(r\"j k\", \"jk\", text)\n",
        "    text = re.sub(r\"\\s{2,}\", \" \", text)\n",
        "\n",
        "    text = text.split()\n",
        "\n",
        "    return text\n",
        "\n",
        "def make_w2v_embeddings(flag, word2vec, df, embedding_dim):  # 将词转化为词向量\n",
        "    vocabs = {}  # 词序号\n",
        "    vocabs_count = 0  # 词个数计数器\n",
        "\n",
        "    vocabs_not_w2v = {}  # 无法用词向量表示的词\n",
        "    vocabs_not_w2v_count = 0  # Word count that cannot be represented by word vectors\n",
        "\n",
        "    # 停用词\n",
        "    # stops = set(open('data/stopwords.txt').read().strip().split('\\n'))\n",
        "\n",
        "    for index, row in df.iterrows():\n",
        "        # 打印处理进度\n",
        "        if index != 0 and index % 1000 == 0:\n",
        "            print(str(index) + \" sentences embedded.\")\n",
        "\n",
        "        for question in ['question1', 'question2']:\n",
        "            q2n = []  # q2n -> question to numbers representation\n",
        "            words = text_to_word_list(row[question])\n",
        "\n",
        "            for word in words:\n",
        "                # if word in stops:  # remove stop words\n",
        "                # continue\n",
        "                # The word of OOV is put into a dictionary that cannot be represented by a word vector, and the value is 1\n",
        "                if word not in word2vec and word not in vocabs_not_w2v:  \n",
        "                    vocabs_not_w2v_count += 1\n",
        "                    vocabs_not_w2v[word] = 1   \n",
        "                if word not in vocabs:  # Non-OOV words, extract the corresponding id\n",
        "                    vocabs_count += 1\n",
        "                    vocabs[word] = vocabs_count\n",
        "                    q2n.append(vocabs_count)\n",
        "                else:\n",
        "                    q2n.append(vocabs[word])\n",
        "            df.at[index, question + '_n'] = q2n\n",
        "\n",
        "    embeddings = 1 * np.random.randn(len(vocabs) + 1, embedding_dim)  # 随机初始化一个形状为[全部词个数，词向量维度]的矩阵\n",
        "    '''\n",
        "    词1 [a1, a2, a3, ..., a60]\n",
        "    词2 [b1, b2, b3, ..., b60]\n",
        "    词3 [c1, c2, c3, ..., c60]\n",
        "    '''\n",
        "    embeddings[0] = 0  # 第一行用0填充，因为不存在index为0的词\n",
        "\n",
        "    for index in vocabs:\n",
        "        vocab_word = vocabs[index]\n",
        "        if vocab_word in word2vec:\n",
        "            embeddings[index] = word2vec[vocab_word]\n",
        "    del word2vec\n",
        "\n",
        "    return df, embeddings\n",
        "\n",
        "\n",
        "def split_and_zero_padding(df, max_seq_length):  # 调整tokens长度\n",
        "\n",
        "    # 训练集矩阵转换成字典\n",
        "    X = {'left': df['question1_n'], 'right': df['question2_n']}\n",
        "\n",
        "    # 调整到规定长度\n",
        "    for dataset, side in itertools.product([X], ['left', 'right']):\n",
        "        dataset[side] = pad_sequences(dataset[side], padding='pre', truncating='post', maxlen=max_seq_length)\n",
        "\n",
        "    return dataset\n",
        "\n",
        "\n",
        "class ManDist(Layer):  # 封装成keras层的曼哈顿距离计算\n",
        "\n",
        "    # 初始化ManDist层，此时不需要任何参数输入\n",
        "    def __init__(self, **kwargs):\n",
        "        self.result = None\n",
        "        super(ManDist, self).__init__(**kwargs)\n",
        "\n",
        "    # Automatically build ManDist layer\n",
        "    def build(self, input_shape):\n",
        "        super(ManDist, self).build(input_shape)\n",
        "\n",
        "    # Calculate Manhattan distance\n",
        "    def call(self, x, **kwargs):\n",
        "        self.result = K.exp(-K.sum(K.abs(x[0] - x[1]), axis=1, keepdims=True))\n",
        "        return self.result\n",
        "\n",
        "    # return result\n",
        "    def compute_output_shape(self, input_shape):\n",
        "        return K.int_shape(self.result)\n",
        "\n",
        "\n",
        "\n",
        "class Euc_dist_keras(Layer):  # 封装成keras层的曼哈顿距离计算\n",
        "\n",
        "    # 初始化ManDist层，此时不需要任何参数输入\n",
        "    def __init__(self, **kwargs):\n",
        "        self.result = None\n",
        "        super(Euc_dist_keras, self).__init__(**kwargs)\n",
        "\n",
        "    # Automatically build ManDist layer\n",
        "    def build(self, input_shape):\n",
        "        super(Euc_dist_keras, self).build(input_shape)\n",
        "\n",
        "    # Calculate Manhattan distance\n",
        "\n",
        "    def call(self, x, **kwargs):\n",
        "        self.result = K.sqrt(K.sum(K.square(K.abs(x[0] - x[1])), axis=-1, keepdims=True))\n",
        "        return self.result\n",
        "\n",
        "    # return result\n",
        "    def compute_output_shape(self, input_shape):\n",
        "        return K.int_shape(self.result)"
      ],
      "metadata": {
        "id": "6WqiKm9jiNZv"
      },
      "execution_count": 5,
      "outputs": []
    },
    {
      "cell_type": "markdown",
      "source": [
        ""
      ],
      "metadata": {
        "id": "gnYJFm6O7s3x"
      }
    },
    {
      "cell_type": "code",
      "execution_count": 6,
      "metadata": {
        "id": "nAYrj7QKg9vy"
      },
      "outputs": [],
      "source": [
        "# Basic package\n",
        "from time import time\n",
        "import pandas as pd\n",
        "from sklearn.model_selection import train_test_split\n",
        "import keras\n",
        "from gensim.models import KeyedVectors\n",
        "from keras.models import Model\n",
        "from keras.layers import Input, Embedding, LSTM, Dense, Flatten, Activation, RepeatVector, Permute, Lambda, \\\n",
        "    Bidirectional, TimeDistributed, Dropout, Conv1D, GlobalMaxPool1D\n",
        "from keras.layers.merge import multiply, concatenate\n",
        "import keras.backend as K\n",
        "from tensorflow.keras.optimizers import Adam\n",
        "import matplotlib.pyplot as plt"
      ]
    },
    {
      "cell_type": "code",
      "source": [
        "!pip install wget"
      ],
      "metadata": {
        "id": "8BGLNAFEX-lQ",
        "outputId": "d7d8b52b-77de-4e04-e716-8542963a4e91",
        "colab": {
          "base_uri": "https://localhost:8080/"
        }
      },
      "execution_count": 7,
      "outputs": [
        {
          "output_type": "stream",
          "name": "stdout",
          "text": [
            "Requirement already satisfied: wget in /usr/local/lib/python3.7/dist-packages (3.2)\n"
          ]
        }
      ]
    },
    {
      "cell_type": "code",
      "source": [
        "#!pip install wget\n",
        "\n",
        "import wget\n",
        "url = 'https://s3.amazonaws.com/dl4j-distribution/GoogleNews-vectors-negative300.bin.gz'\n",
        "filename = wget.download(url)"
      ],
      "metadata": {
        "id": "wQbCm59mj2_F"
      },
      "execution_count": null,
      "outputs": []
    },
    {
      "cell_type": "code",
      "source": [
        "! pip install kaggle\n",
        "! mkdir -p ~/.kaggle\n",
        "! cp kaggle.json ~/.kaggle/\n",
        "! chmod 600 ~/.kaggle/kaggle.json\n",
        "! kaggle competitions download quora-question-pairs -f train.csv.zip\n",
        "#! kaggle competitions download quora-question-pairs -f test.csv.zip"
      ],
      "metadata": {
        "id": "Im__Fm2-m17Z",
        "outputId": "b5f17617-79dd-4dee-9335-546395ab35eb",
        "colab": {
          "base_uri": "https://localhost:8080/"
        }
      },
      "execution_count": null,
      "outputs": [
        {
          "output_type": "stream",
          "name": "stdout",
          "text": [
            "Requirement already satisfied: kaggle in /usr/local/lib/python3.7/dist-packages (1.5.12)\n",
            "Requirement already satisfied: python-slugify in /usr/local/lib/python3.7/dist-packages (from kaggle) (5.0.2)\n",
            "Requirement already satisfied: tqdm in /usr/local/lib/python3.7/dist-packages (from kaggle) (4.62.3)\n",
            "Requirement already satisfied: six>=1.10 in /usr/local/lib/python3.7/dist-packages (from kaggle) (1.15.0)\n",
            "Requirement already satisfied: requests in /usr/local/lib/python3.7/dist-packages (from kaggle) (2.23.0)\n",
            "Requirement already satisfied: urllib3 in /usr/local/lib/python3.7/dist-packages (from kaggle) (1.24.3)\n",
            "Requirement already satisfied: certifi in /usr/local/lib/python3.7/dist-packages (from kaggle) (2021.10.8)\n",
            "Requirement already satisfied: python-dateutil in /usr/local/lib/python3.7/dist-packages (from kaggle) (2.8.2)\n",
            "Requirement already satisfied: text-unidecode>=1.3 in /usr/local/lib/python3.7/dist-packages (from python-slugify->kaggle) (1.3)\n",
            "Requirement already satisfied: chardet<4,>=3.0.2 in /usr/local/lib/python3.7/dist-packages (from requests->kaggle) (3.0.4)\n",
            "Requirement already satisfied: idna<3,>=2.5 in /usr/local/lib/python3.7/dist-packages (from requests->kaggle) (2.10)\n",
            "Downloading train.csv.zip to /content\n",
            " 24% 5.00M/21.2M [00:00<00:00, 20.8MB/s]\n",
            "100% 21.2M/21.2M [00:00<00:00, 60.9MB/s]\n"
          ]
        }
      ]
    },
    {
      "cell_type": "code",
      "source": [
        "#! unzip -o test.csv.zip\n",
        "! unzip -o train.csv.zip"
      ],
      "metadata": {
        "id": "9Hb2fGMynFYm",
        "outputId": "f23438dd-e63e-4679-d6d4-8cc3e49da633",
        "colab": {
          "base_uri": "https://localhost:8080/"
        }
      },
      "execution_count": null,
      "outputs": [
        {
          "output_type": "stream",
          "name": "stdout",
          "text": [
            "Archive:  train.csv.zip\n",
            "  inflating: train.csv               \n"
          ]
        }
      ]
    },
    {
      "cell_type": "code",
      "source": [
        "url = ''\n",
        "filename = wget.download(url)"
      ],
      "metadata": {
        "id": "pmPaWuL9yBWJ"
      },
      "execution_count": null,
      "outputs": []
    },
    {
      "cell_type": "code",
      "source": [
        "!wget https://github.com/14H034160212/HHH-An-Online-Question-Answering-System-for-Medical-Questions/blob/master/Data/Model_train_dev_test_dataset/Other_model_train_dev_test_dataset/train.csv"
      ],
      "metadata": {
        "id": "9SxDhijU09-i",
        "outputId": "ad082c92-fafb-48e3-bdaa-fc6c29f9c825",
        "colab": {
          "base_uri": "https://localhost:8080/"
        }
      },
      "execution_count": null,
      "outputs": [
        {
          "output_type": "stream",
          "name": "stdout",
          "text": [
            "--2022-01-26 00:41:27--  https://github.com/14H034160212/HHH-An-Online-Question-Answering-System-for-Medical-Questions/blob/master/Data/Model_train_dev_test_dataset/Other_model_train_dev_test_dataset/train.csv\n",
            "Resolving github.com (github.com)... 140.82.121.4\n",
            "Connecting to github.com (github.com)|140.82.121.4|:443... connected.\n",
            "HTTP request sent, awaiting response... 200 OK\n",
            "Length: unspecified [text/html]\n",
            "Saving to: ‘train.csv’\n",
            "\n",
            "train.csv               [ <=>                ] 174.29K  --.-KB/s    in 0.03s   \n",
            "\n",
            "2022-01-26 00:41:27 (5.27 MB/s) - ‘train.csv’ saved [178472]\n",
            "\n"
          ]
        }
      ]
    },
    {
      "cell_type": "code",
      "source": [
        "# ------------------Preloading------------------ #\n",
        "\n",
        "# Chinese and English training options, English training set is used by default\n",
        "TRAIN_CSV = './train_K.csv'\n",
        "TRAIN_CSV_git = './train.csv'\n",
        "flag = 'en'\n",
        "embedding_path = 'GoogleNews-vectors-negative300.bin.gz'\n",
        "embedding_dim = 300\n",
        "max_seq_length = 12\n",
        "savepath = './en_SiameseLSTM.h5'"
      ],
      "metadata": {
        "id": "V5sUkwgPicuf"
      },
      "execution_count": 22,
      "outputs": []
    },
    {
      "cell_type": "code",
      "source": [
        "# Whether to enable pre-trained word vectors, use randomly initialized word vectors by default\n",
        "# Load word vectors\n",
        "print(\"Loading word2vec model(it may takes 2-3 mins) ...\")\n",
        "embedding_dict = KeyedVectors.load_word2vec_format(embedding_path, binary=True)\n"
      ],
      "metadata": {
        "id": "PieHmagRi5sr",
        "outputId": "61e8753f-d4b7-4f54-edbc-37e24cded7c1",
        "colab": {
          "base_uri": "https://localhost:8080/"
        }
      },
      "execution_count": 23,
      "outputs": [
        {
          "output_type": "stream",
          "name": "stdout",
          "text": [
            "Loading word2vec model(it may takes 2-3 mins) ...\n"
          ]
        }
      ]
    },
    {
      "cell_type": "code",
      "source": [
        "# Read and load the training set\n",
        "train_df = pd.read_csv(TRAIN_CSV_git)\n",
        "for q in ['question1', 'question2']:\n",
        "    train_df[q + '_n'] = train_df[q]"
      ],
      "metadata": {
        "id": "BHXXixPAjncI"
      },
      "execution_count": 24,
      "outputs": []
    },
    {
      "cell_type": "code",
      "source": [
        "# Read and load the training set\n",
        "train_df_kaggle = pd.read_csv(TRAIN_CSV)\n",
        "for q in ['question1', 'question2']:\n",
        "    train_df[q + '_n'] = train_df[q]"
      ],
      "metadata": {
        "id": "jFdXHZyyyvjx"
      },
      "execution_count": null,
      "outputs": []
    },
    {
      "cell_type": "code",
      "source": [
        "%%time\n",
        "# Vectorize the training set words\n",
        "train_df, embeddings = make_w2v_embeddings(flag, embedding_dict, train_df, embedding_dim=embedding_dim)"
      ],
      "metadata": {
        "id": "vnfQ3utBj_eQ",
        "colab": {
          "base_uri": "https://localhost:8080/"
        },
        "outputId": "ab874229-5e39-4c75-82b1-efb679c78267"
      },
      "execution_count": 25,
      "outputs": [
        {
          "output_type": "stream",
          "name": "stdout",
          "text": [
            "1000 sentences embedded.\n",
            "2000 sentences embedded.\n",
            "3000 sentences embedded.\n",
            "4000 sentences embedded.\n",
            "5000 sentences embedded.\n",
            "6000 sentences embedded.\n",
            "7000 sentences embedded.\n",
            "8000 sentences embedded.\n",
            "9000 sentences embedded.\n",
            "CPU times: user 2.83 s, sys: 26.3 ms, total: 2.85 s\n",
            "Wall time: 2.83 s\n"
          ]
        }
      ]
    },
    {
      "cell_type": "code",
      "source": [
        "train_df.head()"
      ],
      "metadata": {
        "id": "ugn03Eh2mfAY",
        "outputId": "3334eb13-6413-47ee-ae93-8d37115020b6",
        "colab": {
          "base_uri": "https://localhost:8080/",
          "height": 336
        }
      },
      "execution_count": 26,
      "outputs": [
        {
          "output_type": "execute_result",
          "data": {
            "text/html": [
              "\n",
              "  <div id=\"df-99fa2f6f-824a-4c95-a9be-e342ce292084\">\n",
              "    <div class=\"colab-df-container\">\n",
              "      <div>\n",
              "<style scoped>\n",
              "    .dataframe tbody tr th:only-of-type {\n",
              "        vertical-align: middle;\n",
              "    }\n",
              "\n",
              "    .dataframe tbody tr th {\n",
              "        vertical-align: top;\n",
              "    }\n",
              "\n",
              "    .dataframe thead th {\n",
              "        text-align: right;\n",
              "    }\n",
              "</style>\n",
              "<table border=\"1\" class=\"dataframe\">\n",
              "  <thead>\n",
              "    <tr style=\"text-align: right;\">\n",
              "      <th></th>\n",
              "      <th>id</th>\n",
              "      <th>qid1</th>\n",
              "      <th>qid2</th>\n",
              "      <th>question1</th>\n",
              "      <th>question2</th>\n",
              "      <th>is_duplicate</th>\n",
              "      <th>question1_n</th>\n",
              "      <th>question2_n</th>\n",
              "    </tr>\n",
              "  </thead>\n",
              "  <tbody>\n",
              "    <tr>\n",
              "      <th>0</th>\n",
              "      <td>31</td>\n",
              "      <td>63</td>\n",
              "      <td>64</td>\n",
              "      <td>What are some special cares for someone with a...</td>\n",
              "      <td>How can I keep my nose from getting stuffy at ...</td>\n",
              "      <td>1</td>\n",
              "      <td>[1, 2, 3, 4, 5, 6, 7, 8, 9, 10, 11, 12, 13, 14...</td>\n",
              "      <td>[17, 18, 19, 20, 21, 10, 22, 23, 13, 24, 16]</td>\n",
              "    </tr>\n",
              "    <tr>\n",
              "      <th>1</th>\n",
              "      <td>50</td>\n",
              "      <td>101</td>\n",
              "      <td>102</td>\n",
              "      <td>Is Career Launcher good for RBI Grade B prepar...</td>\n",
              "      <td>How is career launcher online program for RBI ...</td>\n",
              "      <td>1</td>\n",
              "      <td>[25, 26, 27, 28, 6, 29, 30, 31, 32]</td>\n",
              "      <td>[17, 25, 26, 27, 33, 34, 6, 29, 30, 31]</td>\n",
              "    </tr>\n",
              "    <tr>\n",
              "      <th>2</th>\n",
              "      <td>50</td>\n",
              "      <td>101</td>\n",
              "      <td>102</td>\n",
              "      <td>Is Career Launcher good for RBI Grade B prepar...</td>\n",
              "      <td>How is career launcher online program for RBI ...</td>\n",
              "      <td>1</td>\n",
              "      <td>[25, 26, 27, 28, 6, 29, 30, 31, 32]</td>\n",
              "      <td>[17, 25, 26, 27, 33, 34, 6, 29, 30, 31]</td>\n",
              "    </tr>\n",
              "    <tr>\n",
              "      <th>3</th>\n",
              "      <td>58</td>\n",
              "      <td>117</td>\n",
              "      <td>118</td>\n",
              "      <td>I was suddenly logged off Gmail. I can't remem...</td>\n",
              "      <td>I can't remember my Gmail password or my recov...</td>\n",
              "      <td>1</td>\n",
              "      <td>[19, 35, 36, 37, 38, 39, 19, 40, 41, 21, 39, 4...</td>\n",
              "      <td>[19, 40, 41, 21, 39, 42, 52, 21, 46, 47, 17, 1...</td>\n",
              "    </tr>\n",
              "    <tr>\n",
              "      <th>4</th>\n",
              "      <td>61</td>\n",
              "      <td>123</td>\n",
              "      <td>124</td>\n",
              "      <td>Is it normal to have a dark ring around the ir...</td>\n",
              "      <td>What causes a dark ring around the iris? How s...</td>\n",
              "      <td>0</td>\n",
              "      <td>[25, 54, 55, 56, 57, 9, 58, 59, 60, 15, 61, 62...</td>\n",
              "      <td>[1, 64, 9, 58, 59, 60, 15, 61, 17, 65, 54, 66,...</td>\n",
              "    </tr>\n",
              "  </tbody>\n",
              "</table>\n",
              "</div>\n",
              "      <button class=\"colab-df-convert\" onclick=\"convertToInteractive('df-99fa2f6f-824a-4c95-a9be-e342ce292084')\"\n",
              "              title=\"Convert this dataframe to an interactive table.\"\n",
              "              style=\"display:none;\">\n",
              "        \n",
              "  <svg xmlns=\"http://www.w3.org/2000/svg\" height=\"24px\"viewBox=\"0 0 24 24\"\n",
              "       width=\"24px\">\n",
              "    <path d=\"M0 0h24v24H0V0z\" fill=\"none\"/>\n",
              "    <path d=\"M18.56 5.44l.94 2.06.94-2.06 2.06-.94-2.06-.94-.94-2.06-.94 2.06-2.06.94zm-11 1L8.5 8.5l.94-2.06 2.06-.94-2.06-.94L8.5 2.5l-.94 2.06-2.06.94zm10 10l.94 2.06.94-2.06 2.06-.94-2.06-.94-.94-2.06-.94 2.06-2.06.94z\"/><path d=\"M17.41 7.96l-1.37-1.37c-.4-.4-.92-.59-1.43-.59-.52 0-1.04.2-1.43.59L10.3 9.45l-7.72 7.72c-.78.78-.78 2.05 0 2.83L4 21.41c.39.39.9.59 1.41.59.51 0 1.02-.2 1.41-.59l7.78-7.78 2.81-2.81c.8-.78.8-2.07 0-2.86zM5.41 20L4 18.59l7.72-7.72 1.47 1.35L5.41 20z\"/>\n",
              "  </svg>\n",
              "      </button>\n",
              "      \n",
              "  <style>\n",
              "    .colab-df-container {\n",
              "      display:flex;\n",
              "      flex-wrap:wrap;\n",
              "      gap: 12px;\n",
              "    }\n",
              "\n",
              "    .colab-df-convert {\n",
              "      background-color: #E8F0FE;\n",
              "      border: none;\n",
              "      border-radius: 50%;\n",
              "      cursor: pointer;\n",
              "      display: none;\n",
              "      fill: #1967D2;\n",
              "      height: 32px;\n",
              "      padding: 0 0 0 0;\n",
              "      width: 32px;\n",
              "    }\n",
              "\n",
              "    .colab-df-convert:hover {\n",
              "      background-color: #E2EBFA;\n",
              "      box-shadow: 0px 1px 2px rgba(60, 64, 67, 0.3), 0px 1px 3px 1px rgba(60, 64, 67, 0.15);\n",
              "      fill: #174EA6;\n",
              "    }\n",
              "\n",
              "    [theme=dark] .colab-df-convert {\n",
              "      background-color: #3B4455;\n",
              "      fill: #D2E3FC;\n",
              "    }\n",
              "\n",
              "    [theme=dark] .colab-df-convert:hover {\n",
              "      background-color: #434B5C;\n",
              "      box-shadow: 0px 1px 3px 1px rgba(0, 0, 0, 0.15);\n",
              "      filter: drop-shadow(0px 1px 2px rgba(0, 0, 0, 0.3));\n",
              "      fill: #FFFFFF;\n",
              "    }\n",
              "  </style>\n",
              "\n",
              "      <script>\n",
              "        const buttonEl =\n",
              "          document.querySelector('#df-99fa2f6f-824a-4c95-a9be-e342ce292084 button.colab-df-convert');\n",
              "        buttonEl.style.display =\n",
              "          google.colab.kernel.accessAllowed ? 'block' : 'none';\n",
              "\n",
              "        async function convertToInteractive(key) {\n",
              "          const element = document.querySelector('#df-99fa2f6f-824a-4c95-a9be-e342ce292084');\n",
              "          const dataTable =\n",
              "            await google.colab.kernel.invokeFunction('convertToInteractive',\n",
              "                                                     [key], {});\n",
              "          if (!dataTable) return;\n",
              "\n",
              "          const docLinkHtml = 'Like what you see? Visit the ' +\n",
              "            '<a target=\"_blank\" href=https://colab.research.google.com/notebooks/data_table.ipynb>data table notebook</a>'\n",
              "            + ' to learn more about interactive tables.';\n",
              "          element.innerHTML = '';\n",
              "          dataTable['output_type'] = 'display_data';\n",
              "          await google.colab.output.renderOutput(dataTable, element);\n",
              "          const docLink = document.createElement('div');\n",
              "          docLink.innerHTML = docLinkHtml;\n",
              "          element.appendChild(docLink);\n",
              "        }\n",
              "      </script>\n",
              "    </div>\n",
              "  </div>\n",
              "  "
            ],
            "text/plain": [
              "   id  ...                                        question2_n\n",
              "0  31  ...       [17, 18, 19, 20, 21, 10, 22, 23, 13, 24, 16]\n",
              "1  50  ...            [17, 25, 26, 27, 33, 34, 6, 29, 30, 31]\n",
              "2  50  ...            [17, 25, 26, 27, 33, 34, 6, 29, 30, 31]\n",
              "3  58  ...  [19, 40, 41, 21, 39, 42, 52, 21, 46, 47, 17, 1...\n",
              "4  61  ...  [1, 64, 9, 58, 59, 60, 15, 61, 17, 65, 54, 66,...\n",
              "\n",
              "[5 rows x 8 columns]"
            ]
          },
          "metadata": {},
          "execution_count": 26
        }
      ]
    },
    {
      "cell_type": "code",
      "source": [
        "train_df.shape"
      ],
      "metadata": {
        "id": "hk2khJxk25s4",
        "outputId": "501df28d-d6e4-4262-b5f7-ea50db2f3d66",
        "colab": {
          "base_uri": "https://localhost:8080/"
        }
      },
      "execution_count": 27,
      "outputs": [
        {
          "output_type": "execute_result",
          "data": {
            "text/plain": [
              "(9998, 8)"
            ]
          },
          "metadata": {},
          "execution_count": 27
        }
      ]
    },
    {
      "cell_type": "code",
      "source": [
        "train_df.shape"
      ],
      "metadata": {
        "id": "Hya7OEiuujPY",
        "outputId": "8ec4f85a-b939-49d9-9db9-2fff1ef95a86",
        "colab": {
          "base_uri": "https://localhost:8080/"
        }
      },
      "execution_count": null,
      "outputs": [
        {
          "output_type": "execute_result",
          "data": {
            "text/plain": [
              "(404290, 8)"
            ]
          },
          "metadata": {},
          "execution_count": 76
        }
      ]
    },
    {
      "cell_type": "code",
      "source": [
        "plotBar=train_df[\"is_duplicate\"].value_counts()\n",
        "plotBar"
      ],
      "metadata": {
        "id": "fIF9e-hY2-lR",
        "outputId": "128fa24b-d134-44a7-f5f8-e0d167c6ceaf",
        "colab": {
          "base_uri": "https://localhost:8080/"
        }
      },
      "execution_count": 28,
      "outputs": [
        {
          "output_type": "execute_result",
          "data": {
            "text/plain": [
              "1    4999\n",
              "0    4999\n",
              "Name: is_duplicate, dtype: int64"
            ]
          },
          "metadata": {},
          "execution_count": 28
        }
      ]
    },
    {
      "cell_type": "code",
      "source": [
        "plotBar=train_df[\"is_duplicate\"].value_counts()\n",
        "plotBar"
      ],
      "metadata": {
        "id": "u-5sJxnomV7D",
        "outputId": "58bc0baf-a7f1-4b99-9486-b9dbcd04883a",
        "colab": {
          "base_uri": "https://localhost:8080/"
        }
      },
      "execution_count": null,
      "outputs": [
        {
          "output_type": "execute_result",
          "data": {
            "text/plain": [
              "0    255027\n",
              "1    149263\n",
              "Name: is_duplicate, dtype: int64"
            ]
          },
          "metadata": {},
          "execution_count": 77
        }
      ]
    },
    {
      "cell_type": "code",
      "source": [
        "train_df.groupby(\"is_duplicate\")['id'].count().plot.bar()"
      ],
      "metadata": {
        "id": "vfx_7ytGQNkb"
      },
      "execution_count": null,
      "outputs": []
    },
    {
      "cell_type": "code",
      "source": [
        "plt.bar(plotBar.index,plotBar)"
      ],
      "metadata": {
        "id": "FQ_qXEII3Bqe",
        "outputId": "4ffe91a1-f0c2-4917-a4d1-926d8bdf3aba",
        "colab": {
          "base_uri": "https://localhost:8080/",
          "height": 282
        }
      },
      "execution_count": 29,
      "outputs": [
        {
          "output_type": "execute_result",
          "data": {
            "text/plain": [
              "<BarContainer object of 2 artists>"
            ]
          },
          "metadata": {},
          "execution_count": 29
        },
        {
          "output_type": "display_data",
          "data": {
            "image/png": "[encoded data removed]",
            "text/plain": [
              "<Figure size 432x288 with 1 Axes>"
            ]
          },
          "metadata": {
            "needs_background": "light"
          }
        }
      ]
    },
    {
      "cell_type": "code",
      "source": [
        "plt.bar(plotBar.index,plotBar)"
      ],
      "metadata": {
        "id": "IM2a0DqXmxM1",
        "outputId": "c7f3de92-42a6-453f-9fa7-0075cc1405ac",
        "colab": {
          "base_uri": "https://localhost:8080/",
          "height": 282
        }
      },
      "execution_count": null,
      "outputs": [
        {
          "output_type": "execute_result",
          "data": {
            "text/plain": [
              "<BarContainer object of 2 artists>"
            ]
          },
          "metadata": {},
          "execution_count": 78
        },
        {
          "output_type": "display_data",
          "data": {
            "image/png": "[encoded data removed]",
            "text/plain": [
              "<Figure size 432x288 with 1 Axes>"
            ]
          },
          "metadata": {
            "needs_background": "light"
          }
        }
      ]
    },
    {
      "cell_type": "code",
      "source": [
        "print('Average word length of questions in question1 is {0:.0f}.'.format(np.mean(train_df['question1'].astype(str).apply(lambda x: len(x.split())))))\n",
        "print('Average word length of questions in question2 is {0:.0f}.'.format(np.mean(train_df['question2'].astype(str).apply(lambda x: len(x.split())))))"
      ],
      "metadata": {
        "id": "k4opam-f3Eot",
        "outputId": "ab01e1e5-b715-4772-da16-c74e57a276f2",
        "colab": {
          "base_uri": "https://localhost:8080/"
        }
      },
      "execution_count": 30,
      "outputs": [
        {
          "output_type": "stream",
          "name": "stdout",
          "text": [
            "Average word length of questions in question1 is 12.\n",
            "Average word length of questions in question2 is 12.\n"
          ]
        }
      ]
    },
    {
      "cell_type": "code",
      "source": [
        "print('Average word length of questions in question1 is {0:.0f}.'.format(np.mean(train_df['question1'].astype(str).apply(lambda x: len(x.split())))))\n",
        "print('Average word length of questions in question2 is {0:.0f}.'.format(np.mean(train_df['question2'].astype(str).apply(lambda x: len(x.split())))))"
      ],
      "metadata": {
        "id": "OdCIBO9Qomu6",
        "outputId": "b5bf5d3d-2350-4022-b3c2-afe2f49de088",
        "colab": {
          "base_uri": "https://localhost:8080/"
        }
      },
      "execution_count": null,
      "outputs": [
        {
          "output_type": "stream",
          "name": "stdout",
          "text": [
            "Average word length of questions in question1 is 11.\n",
            "Average word length of questions in question2 is 11.\n"
          ]
        }
      ]
    },
    {
      "cell_type": "code",
      "source": [
        "print('Average word length of questions in question1 is {0:.0f}.'.format(np.max(train_df['question1'].astype(str).apply(lambda x: len(x.split())))))\n",
        "print('Average word length of questions in question2 is {0:.0f}.'.format(np.max(train_df['question2'].astype(str).apply(lambda x: len(x.split())))))"
      ],
      "metadata": {
        "id": "y_pnCiVZ3JNm",
        "outputId": "e4cc4780-f9c4-4963-fea5-d4a49bda1a3a",
        "colab": {
          "base_uri": "https://localhost:8080/"
        }
      },
      "execution_count": 31,
      "outputs": [
        {
          "output_type": "stream",
          "name": "stdout",
          "text": [
            "Average word length of questions in question1 is 57.\n",
            "Average word length of questions in question2 is 57.\n"
          ]
        }
      ]
    },
    {
      "cell_type": "code",
      "source": [
        "print('Average word length of questions in question1 is {0:.0f}.'.format(np.max(train_df['question1'].astype(str).apply(lambda x: len(x.split())))))\n",
        "print('Average word length of questions in question2 is {0:.0f}.'.format(np.max(train_df['question2'].astype(str).apply(lambda x: len(x.split())))))"
      ],
      "metadata": {
        "id": "mrUL91pjrtwq",
        "outputId": "8e1c0ee6-719f-4c35-a9f5-04f06a0db06e",
        "colab": {
          "base_uri": "https://localhost:8080/"
        }
      },
      "execution_count": null,
      "outputs": [
        {
          "output_type": "stream",
          "name": "stdout",
          "text": [
            "Average word length of questions in question1 is 125.\n",
            "Average word length of questions in question2 is 237.\n"
          ]
        }
      ]
    },
    {
      "cell_type": "code",
      "source": [
        "train_df['question1'].astype(str).apply(lambda x: len(x.split())).plot(kind='hist');"
      ],
      "metadata": {
        "id": "u4xWbdD83Nqr",
        "outputId": "cad2ae3d-3259-43d7-c0cf-8f26070ccd43",
        "colab": {
          "base_uri": "https://localhost:8080/",
          "height": 264
        }
      },
      "execution_count": 32,
      "outputs": [
        {
          "output_type": "display_data",
          "data": {
            "image/png": "[encoded data removed]",
            "text/plain": [
              "<Figure size 432x288 with 1 Axes>"
            ]
          },
          "metadata": {
            "needs_background": "light"
          }
        }
      ]
    },
    {
      "cell_type": "code",
      "source": [
        "train_df['question1'].astype(str).apply(lambda x: len(x.split())).plot(kind='hist');\n"
      ],
      "metadata": {
        "id": "J3neRaI1sW0Z",
        "outputId": "505223ad-c380-4e2b-d6dd-291831a49f60",
        "colab": {
          "base_uri": "https://localhost:8080/",
          "height": 265
        }
      },
      "execution_count": null,
      "outputs": [
        {
          "output_type": "display_data",
          "data": {
            "image/png": "[encoded data removed]",
            "text/plain": [
              "<Figure size 432x288 with 1 Axes>"
            ]
          },
          "metadata": {
            "needs_background": "light"
          }
        }
      ]
    },
    {
      "cell_type": "code",
      "source": [
        "@@@@@@@@@@@@@@@ff\n",
        "train_df['lenq1'] = train_df['question1'].astype(str).str.len()\n",
        "train_df['lenq2'] = train_df['question2'].astype(str).str.len()\n",
        "train_df['lenq1_n'] = train_df['question1_n'].str.len()\n",
        "train_df['lenq2_n'] = train_df['question2_n'].str.len()\n",
        "\n",
        "train_df"
      ],
      "metadata": {
        "id": "mtG_oVVgkyWD"
      },
      "execution_count": null,
      "outputs": []
    },
    {
      "cell_type": "code",
      "source": [
        "@@@@@@@@@@@@@@\n",
        "plt.plot(train_df['lenq2_n'].value_counts(), train_df['lenq2_n'])\n",
        "plt.show()\n",
        "plt.plot(train_df['lenq2_n'],'o')\n",
        "plt.show()"
      ],
      "metadata": {
        "id": "LMrJBvFMdrmY"
      },
      "execution_count": null,
      "outputs": []
    },
    {
      "cell_type": "code",
      "source": [
        "@@@@@@@@@@@@\n",
        "train_df['lenq1'].max()"
      ],
      "metadata": {
        "id": "qvfX_CeffSCu",
        "outputId": "40100c15-f508-4eda-ac4c-f528ab03b984",
        "colab": {
          "base_uri": "https://localhost:8080/"
        }
      },
      "execution_count": null,
      "outputs": [
        {
          "output_type": "execute_result",
          "data": {
            "text/plain": [
              "623"
            ]
          },
          "metadata": {},
          "execution_count": 28
        }
      ]
    },
    {
      "cell_type": "code",
      "source": [
        "@@@@@@@@@@@@@@@\n",
        "train_df['lenq2'].max()"
      ],
      "metadata": {
        "id": "nEz1MgibfY6z",
        "outputId": "a220413e-8ce4-47a9-e81c-b4512bf3b1ea",
        "colab": {
          "base_uri": "https://localhost:8080/"
        }
      },
      "execution_count": null,
      "outputs": [
        {
          "output_type": "execute_result",
          "data": {
            "text/plain": [
              "1169"
            ]
          },
          "metadata": {},
          "execution_count": 29
        }
      ]
    },
    {
      "cell_type": "code",
      "source": [
        "@@@@@@@@@@@@@@@@@@@@@@@2\n",
        "for col in [('question1','lenq1'),('question2','lenq1')]:\n",
        "   # find indices, keep=\"all\" means keep all occurrences. \n",
        "   idxs = train_df[col[0]].astype(str).str.len().nlargest(1, keep=\"all\").index\n",
        "   mean = train_df[col[0]].astype(str).str.len().mean()\n",
        "\n",
        "   # get values.\n",
        "   values = train_df.loc[idxs,col[1]]\n",
        "   values2 = train_df.loc[idxs,col[0]]\n",
        "\n",
        "   print(values)\n",
        "   print(\"mean : \",mean)\n",
        "   print(len(train_df['question1'][4730]))"
      ],
      "metadata": {
        "colab": {
          "base_uri": "https://localhost:8080/"
        },
        "id": "ehDLjnDwceSE",
        "outputId": "4aea0fb7-61a7-4512-8fb3-1e52228e50b9"
      },
      "execution_count": null,
      "outputs": [
        {
          "output_type": "stream",
          "name": "stdout",
          "text": [
            "35101    623\n",
            "Name: lenq1, dtype: int64\n",
            "mean :  59.53671621855599\n",
            "103\n",
            "4326      149\n",
            "153442    131\n",
            "346481    141\n",
            "Name: lenq1, dtype: int64\n",
            "mean :  60.108380123178904\n",
            "103\n"
          ]
        }
      ]
    },
    {
      "cell_type": "code",
      "source": [
        "# max_seq_length_in_dataset\n",
        "max_seq_length_in_dataset = max(train_df.question1_n.map(lambda x: len(x)).max(),train_df.question2_n.map(lambda x: len(x)).max())\n",
        "print(\"max_seq_length_in_dataset : \",max_seq_length_in_dataset)\n"
      ],
      "metadata": {
        "id": "SuItNPci3YTq",
        "outputId": "e2e650e6-d5e0-428a-fc03-d7aaa1a20214",
        "colab": {
          "base_uri": "https://localhost:8080/"
        }
      },
      "execution_count": 33,
      "outputs": [
        {
          "output_type": "stream",
          "name": "stdout",
          "text": [
            "max_seq_length_in_dataset :  65\n"
          ]
        }
      ]
    },
    {
      "cell_type": "code",
      "source": [
        "# max_seq_length_in_dataset\n",
        "max_seq_length_in_dataset = max(train_df.question1_n.map(lambda x: len(x)).max(),train_df.question2_n.map(lambda x: len(x)).max())\n",
        "print(\"max_seq_length_in_dataset : \",max_seq_length_in_dataset)\n"
      ],
      "metadata": {
        "id": "P4QNwKEM9K4o",
        "colab": {
          "base_uri": "https://localhost:8080/"
        },
        "outputId": "c7887d87-bb34-4941-dee4-c06012aff275"
      },
      "execution_count": null,
      "outputs": [
        {
          "output_type": "stream",
          "name": "stdout",
          "text": [
            "max_seq_length_in_dataset :  244\n"
          ]
        }
      ]
    },
    {
      "cell_type": "code",
      "source": [
        "# mean_seq_length_in_dataset\n",
        "max_seq_length_in_dataset = max(train_df.question1_n.map(lambda x: len(x)).mean(),train_df.question2_n.map(lambda x: len(x)).mean())\n",
        "print(\"mean_seq_length_in_dataset : \",max_seq_length_in_dataset)\n"
      ],
      "metadata": {
        "id": "lwY3mBm23bFN",
        "outputId": "2670d856-3d31-45ec-db7a-c0daafa3d712",
        "colab": {
          "base_uri": "https://localhost:8080/"
        }
      },
      "execution_count": 34,
      "outputs": [
        {
          "output_type": "stream",
          "name": "stdout",
          "text": [
            "mean_seq_length_in_dataset :  12.420184036807361\n"
          ]
        }
      ]
    },
    {
      "cell_type": "code",
      "source": [
        "# mean_seq_length_in_dataset\n",
        "max_seq_length_in_dataset = max(train_df.question1_n.map(lambda x: len(x)).mean(),train_df.question2_n.map(lambda x: len(x)).mean())\n",
        "print(\"mean_seq_length_in_dataset : \",max_seq_length_in_dataset)\n"
      ],
      "metadata": {
        "id": "pWueQe0AxWzy",
        "outputId": "ea47ddd3-242a-47bb-b46b-53592a0bf147",
        "colab": {
          "base_uri": "https://localhost:8080/"
        }
      },
      "execution_count": null,
      "outputs": [
        {
          "output_type": "stream",
          "name": "stdout",
          "text": [
            "mean_seq_length_in_dataset :  11.413188552771526\n"
          ]
        }
      ]
    },
    {
      "cell_type": "markdown",
      "source": [
        "Take the training data from:\n",
        "question1   question2   is_duplicate\n",
        "borrow Repayment Information Borrow Repayment Date 0\n",
        "become:\n",
        "\n",
        "question1 question2 is_duplicate question1_n question2_n\n",
        "Borrow repayment information Borrow repayment date 0 Borrow repayment information Borrow repayment date\n",
        "\n",
        "After becoming id:\n",
        "question1 question2 is_duplicate question1_n question2_n\n",
        "Borrow repayment information Borrow repayment date 0 [31, 639] [31, 255]"
      ],
      "metadata": {
        "id": "QAJs7oCBkXnC"
      }
    },
    {
      "cell_type": "code",
      "source": [
        "# Split training set\n",
        "X = train_df[['question1_n', 'question2_n']]\n",
        "Y = train_df['is_duplicate']\n",
        "X_train, X_validation, Y_train, Y_validation = train_test_split(X, Y, test_size=0.2)\n",
        "\n",
        "X_train = split_and_zero_padding(X_train, max_seq_length)\n",
        "X_validation = split_and_zero_padding(X_validation, max_seq_length)"
      ],
      "metadata": {
        "id": "6spfcp5HkFs1"
      },
      "execution_count": 35,
      "outputs": []
    },
    {
      "cell_type": "code",
      "source": [
        "# Convert labels to numbers\n",
        "Y_train = Y_train.values\n",
        "Y_validation = Y_validation.values"
      ],
      "metadata": {
        "id": "3StaNp6ukRgP"
      },
      "execution_count": 36,
      "outputs": []
    },
    {
      "cell_type": "code",
      "source": [
        "# Confirm that the data is prepared and correct\n",
        "print(\"X_train['left'].shape\" , X_train['left'].shape)\n",
        "print(\"X_train['right'].shape\" , X_train['left'].shape)\n",
        "print(\"len(X_train['left'])\" , len(X_train['left']))\n",
        "print(\"len(Y_train)\" , len(Y_train))\n",
        "\n",
        "assert X_train['left'].shape == X_train['right'].shape\n",
        "assert len(X_train['left']) == len(Y_train)"
      ],
      "metadata": {
        "id": "gdI_duEkk3HH",
        "colab": {
          "base_uri": "https://localhost:8080/"
        },
        "outputId": "d20293db-e958-4f8a-dd6d-144e10b87d3f"
      },
      "execution_count": 37,
      "outputs": [
        {
          "output_type": "stream",
          "name": "stdout",
          "text": [
            "X_train['left'].shape (7998, 12)\n",
            "X_train['right'].shape (7998, 12)\n",
            "len(X_train['left']) 7998\n",
            "len(Y_train) 7998\n"
          ]
        }
      ]
    },
    {
      "cell_type": "code",
      "source": [
        "print(Y_validation)"
      ],
      "metadata": {
        "id": "rC3heYbFq7lF",
        "colab": {
          "base_uri": "https://localhost:8080/"
        },
        "outputId": "5091eb23-ee96-4575-f2a7-e59bc9163e1d"
      },
      "execution_count": 38,
      "outputs": [
        {
          "output_type": "stream",
          "name": "stdout",
          "text": [
            "[1 1 0 ... 0 0 0]\n"
          ]
        }
      ]
    },
    {
      "cell_type": "markdown",
      "source": [
        "# -----------------base function------------------ #\n"
      ],
      "metadata": {
        "id": "fYMK4WfglDsW"
      }
    },
    {
      "cell_type": "code",
      "source": [
        "def shared_model(_input):\n",
        "    # word vectorization\n",
        "    embedded = Embedding(len(embeddings), embedding_dim, weights=[embeddings], input_shape=(max_seq_length,),\n",
        "                         trainable=False)(_input)\n",
        "\n",
        "    # multilayerBi-LSTM\n",
        "    activations = Bidirectional(LSTM(n_hidden, return_sequences=True), merge_mode='concat')(embedded)\n",
        "    activations = Bidirectional(LSTM(n_hidden, return_sequences=True), merge_mode='concat')(activations)\n",
        "\n",
        "    # dropout\n",
        "    activations = Dropout(0.5)(activations)\n",
        "\n",
        "    # Attention\n",
        "    attention = TimeDistributed(Dense(1, activation='tanh'))(activations)\n",
        "    attention = Flatten()(attention)\n",
        "    attention = Activation('softmax')(attention)\n",
        "    attention = RepeatVector(n_hidden * 2)(attention)\n",
        "    attention = Permute([2, 1])(attention)\n",
        "    sent_representation = multiply([activations, attention])\n",
        "    sent_representation = Lambda(lambda xin: K.sum(xin, axis=1))(sent_representation)\n",
        "\n",
        "    # dropout\n",
        "    sent_representation = Dropout(0.4)(sent_representation)\n",
        "\n",
        "    return sent_representation"
      ],
      "metadata": {
        "id": "GQYxnMOYk92f"
      },
      "execution_count": 39,
      "outputs": []
    },
    {
      "cell_type": "code",
      "source": [
        "if __name__ == '__main__':\n",
        "\n",
        "    # Hyperparameter\n",
        "    batch_size = 1024\n",
        "    n_epoch = 15\n",
        "    n_hidden = 100\n",
        "\n",
        "    left_input = Input(shape=(max_seq_length,), dtype='float32')\n",
        "    right_input = Input(shape=(max_seq_length,), dtype='float32')\n",
        "\n",
        "    left_sen_representation = shared_model(left_input)\n",
        "    right_sen_representation = shared_model(right_input)\n",
        "\n",
        "    # The Manhattan distance is introduced, and the original \n",
        "    #vector on the obtained transformation concat is \n",
        "    #then subjected to a non-linear transformation \n",
        "    #through a multi-layer DNN, and the sigmoid obtains the similarity\n",
        "    \n",
        "    # I did not use the Mahalanobis distance mentioned \n",
        "    #in https://zhuanlan.zhihu.com/p/31638132. \n",
        "    #I tried Manhattan distance, point product and cos, \n",
        "    #and Manhattan is the best.\n",
        "    \n",
        "    man_distance = ManDist()([left_sen_representation, right_sen_representation])\n",
        "    sen_representation = concatenate([left_sen_representation, right_sen_representation, man_distance])\n",
        "    similarity = Dense(1, activation='sigmoid')(Dense(2)(Dense(4)(Dense(16)(sen_representation))))\n",
        "    model = Model(inputs=[left_input, right_input], outputs=[similarity])\n",
        "\n",
        "    model.compile(loss='mean_squared_error', optimizer= Adam(), metrics=['accuracy'])\n",
        "    model.summary()\n",
        "\n",
        "    training_start_time = time()\n",
        "    malstm_trained = model.fit([X_train['left'], X_train['right']], Y_train,\n",
        "                               batch_size=batch_size, epochs=n_epoch,\n",
        "                               validation_data=([X_validation['left'], X_validation['right']], Y_validation))\n",
        "    training_end_time = time()\n",
        "    print(\"Training time finished.\\n%d epochs in %12.2f\" % (n_epoch, training_end_time - training_start_time))"
      ],
      "metadata": {
        "id": "Me8wi2gGljNx",
        "colab": {
          "base_uri": "https://localhost:8080/"
        },
        "outputId": "6c396571-4e9f-4bb3-d24b-1f22e9bcdea4"
      },
      "execution_count": 41,
      "outputs": [
        {
          "output_type": "stream",
          "name": "stdout",
          "text": [
            "Model: \"model_1\"\n",
            "__________________________________________________________________________________________________\n",
            " Layer (type)                   Output Shape         Param #     Connected to                     \n",
            "==================================================================================================\n",
            " input_3 (InputLayer)           [(None, 12)]         0           []                               \n",
            "                                                                                                  \n",
            " input_4 (InputLayer)           [(None, 12)]         0           []                               \n",
            "                                                                                                  \n",
            " embedding_2 (Embedding)        (None, 12, 300)      3516600     ['input_3[0][0]']                \n",
            "                                                                                                  \n",
            " embedding_3 (Embedding)        (None, 12, 300)      3516600     ['input_4[0][0]']                \n",
            "                                                                                                  \n",
            " bidirectional_4 (Bidirectional  (None, 12, 200)     320800      ['embedding_2[0][0]']            \n",
            " )                                                                                                \n",
            "                                                                                                  \n",
            " bidirectional_6 (Bidirectional  (None, 12, 200)     320800      ['embedding_3[0][0]']            \n",
            " )                                                                                                \n",
            "                                                                                                  \n",
            " bidirectional_5 (Bidirectional  (None, 12, 200)     240800      ['bidirectional_4[0][0]']        \n",
            " )                                                                                                \n",
            "                                                                                                  \n",
            " bidirectional_7 (Bidirectional  (None, 12, 200)     240800      ['bidirectional_6[0][0]']        \n",
            " )                                                                                                \n",
            "                                                                                                  \n",
            " dropout_4 (Dropout)            (None, 12, 200)      0           ['bidirectional_5[0][0]']        \n",
            "                                                                                                  \n",
            " dropout_6 (Dropout)            (None, 12, 200)      0           ['bidirectional_7[0][0]']        \n",
            "                                                                                                  \n",
            " time_distributed_2 (TimeDistri  (None, 12, 1)       201         ['dropout_4[0][0]']              \n",
            " buted)                                                                                           \n",
            "                                                                                                  \n",
            " time_distributed_3 (TimeDistri  (None, 12, 1)       201         ['dropout_6[0][0]']              \n",
            " buted)                                                                                           \n",
            "                                                                                                  \n",
            " flatten_2 (Flatten)            (None, 12)           0           ['time_distributed_2[0][0]']     \n",
            "                                                                                                  \n",
            " flatten_3 (Flatten)            (None, 12)           0           ['time_distributed_3[0][0]']     \n",
            "                                                                                                  \n",
            " activation_2 (Activation)      (None, 12)           0           ['flatten_2[0][0]']              \n",
            "                                                                                                  \n",
            " activation_3 (Activation)      (None, 12)           0           ['flatten_3[0][0]']              \n",
            "                                                                                                  \n",
            " repeat_vector_2 (RepeatVector)  (None, 200, 12)     0           ['activation_2[0][0]']           \n",
            "                                                                                                  \n",
            " repeat_vector_3 (RepeatVector)  (None, 200, 12)     0           ['activation_3[0][0]']           \n",
            "                                                                                                  \n",
            " permute_2 (Permute)            (None, 12, 200)      0           ['repeat_vector_2[0][0]']        \n",
            "                                                                                                  \n",
            " permute_3 (Permute)            (None, 12, 200)      0           ['repeat_vector_3[0][0]']        \n",
            "                                                                                                  \n",
            " multiply_2 (Multiply)          (None, 12, 200)      0           ['dropout_4[0][0]',              \n",
            "                                                                  'permute_2[0][0]']              \n",
            "                                                                                                  \n",
            " multiply_3 (Multiply)          (None, 12, 200)      0           ['dropout_6[0][0]',              \n",
            "                                                                  'permute_3[0][0]']              \n",
            "                                                                                                  \n",
            " lambda_2 (Lambda)              (None, 200)          0           ['multiply_2[0][0]']             \n",
            "                                                                                                  \n",
            " lambda_3 (Lambda)              (None, 200)          0           ['multiply_3[0][0]']             \n",
            "                                                                                                  \n",
            " dropout_5 (Dropout)            (None, 200)          0           ['lambda_2[0][0]']               \n",
            "                                                                                                  \n",
            " dropout_7 (Dropout)            (None, 200)          0           ['lambda_3[0][0]']               \n",
            "                                                                                                  \n",
            " man_dist_1 (ManDist)           (None, 1)            0           ['dropout_5[0][0]',              \n",
            "                                                                  'dropout_7[0][0]']              \n",
            "                                                                                                  \n",
            " concatenate_1 (Concatenate)    (None, 401)          0           ['dropout_5[0][0]',              \n",
            "                                                                  'dropout_7[0][0]',              \n",
            "                                                                  'man_dist_1[0][0]']             \n",
            "                                                                                                  \n",
            " dense_11 (Dense)               (None, 16)           6432        ['concatenate_1[0][0]']          \n",
            "                                                                                                  \n",
            " dense_10 (Dense)               (None, 4)            68          ['dense_11[0][0]']               \n",
            "                                                                                                  \n",
            " dense_9 (Dense)                (None, 2)            10          ['dense_10[0][0]']               \n",
            "                                                                                                  \n",
            " dense_8 (Dense)                (None, 1)            3           ['dense_9[0][0]']                \n",
            "                                                                                                  \n",
            "==================================================================================================\n",
            "Total params: 8,163,315\n",
            "Trainable params: 1,130,115\n",
            "Non-trainable params: 7,033,200\n",
            "__________________________________________________________________________________________________\n",
            "Epoch 1/15\n",
            "8/8 [==============================] - 25s 2s/step - loss: 0.2205 - accuracy: 0.6383 - val_loss: 0.1916 - val_accuracy: 0.7170\n",
            "Epoch 2/15\n",
            "8/8 [==============================] - 12s 1s/step - loss: 0.1721 - accuracy: 0.7479 - val_loss: 0.1762 - val_accuracy: 0.7465\n",
            "Epoch 3/15\n",
            "8/8 [==============================] - 11s 1s/step - loss: 0.1448 - accuracy: 0.7964 - val_loss: 0.1696 - val_accuracy: 0.7515\n",
            "Epoch 4/15\n",
            "8/8 [==============================] - 10s 1s/step - loss: 0.1171 - accuracy: 0.8440 - val_loss: 0.1673 - val_accuracy: 0.7680\n",
            "Epoch 5/15\n",
            "8/8 [==============================] - 11s 1s/step - loss: 0.0910 - accuracy: 0.8815 - val_loss: 0.1690 - val_accuracy: 0.7775\n",
            "Epoch 6/15\n",
            "8/8 [==============================] - 11s 1s/step - loss: 0.0710 - accuracy: 0.9111 - val_loss: 0.1663 - val_accuracy: 0.7785\n",
            "Epoch 7/15\n",
            "8/8 [==============================] - 10s 1s/step - loss: 0.0503 - accuracy: 0.9405 - val_loss: 0.1597 - val_accuracy: 0.8000\n",
            "Epoch 8/15\n",
            "8/8 [==============================] - 11s 1s/step - loss: 0.0385 - accuracy: 0.9541 - val_loss: 0.1587 - val_accuracy: 0.8050\n",
            "Epoch 9/15\n",
            "8/8 [==============================] - 11s 1s/step - loss: 0.0290 - accuracy: 0.9665 - val_loss: 0.1635 - val_accuracy: 0.8065\n",
            "Epoch 10/15\n",
            "8/8 [==============================] - 11s 1s/step - loss: 0.0237 - accuracy: 0.9737 - val_loss: 0.1557 - val_accuracy: 0.8175\n",
            "Epoch 11/15\n",
            "8/8 [==============================] - 10s 1s/step - loss: 0.0211 - accuracy: 0.9769 - val_loss: 0.1593 - val_accuracy: 0.8125\n",
            "Epoch 12/15\n",
            "8/8 [==============================] - 10s 1s/step - loss: 0.0170 - accuracy: 0.9812 - val_loss: 0.1618 - val_accuracy: 0.8165\n",
            "Epoch 13/15\n",
            "8/8 [==============================] - 12s 2s/step - loss: 0.0138 - accuracy: 0.9859 - val_loss: 0.1564 - val_accuracy: 0.8195\n",
            "Epoch 14/15\n",
            "8/8 [==============================] - 11s 1s/step - loss: 0.0123 - accuracy: 0.9876 - val_loss: 0.1593 - val_accuracy: 0.8220\n",
            "Epoch 15/15\n",
            "8/8 [==============================] - 12s 1s/step - loss: 0.0120 - accuracy: 0.9879 - val_loss: 0.1587 - val_accuracy: 0.8220\n",
            "Training time finished.\n",
            "15 epochs in       177.74\n"
          ]
        }
      ]
    },
    {
      "cell_type": "code",
      "source": [
        "# Plot accuracy\n",
        "import matplotlib.pyplot as plt\n",
        "#plt.subplot(211)\n",
        "plt.plot(malstm_trained.history['accuracy'])\n",
        "plt.plot(malstm_trained.history['val_accuracy'])\n",
        "plt.title('Model Accuracy')\n",
        "plt.ylabel('Accuracy')\n",
        "plt.xlabel('Epoch')\n",
        "plt.legend(['Train', 'Validation'], loc='upper left')\n",
        "plt.show()\n",
        "\n",
        "# Plot loss\n",
        "#plt.subplot(212)\n",
        "plt.plot(malstm_trained.history['loss'])\n",
        "plt.plot(malstm_trained.history['val_loss'])\n",
        "plt.title('Model Loss')\n",
        "plt.ylabel('Loss')\n",
        "plt.xlabel('Epoch')\n",
        "plt.legend(['Train', 'Validation'], loc='upper right')\n",
        "plt.show()\n",
        "\n",
        "model.save(savepath)\n",
        "print(str(malstm_trained.history['val_accuracy'][-1])[:6] + \"(max: \" + str(max(malstm_trained.history['val_accuracy']))[:6] + \")\")\n",
        "print(\"Done.\")"
      ],
      "metadata": {
        "id": "ZTUMrUo-l0JW",
        "colab": {
          "base_uri": "https://localhost:8080/",
          "height": 662
        },
        "outputId": "ccf6c882-730e-4126-9fae-44e99956600a"
      },
      "execution_count": 42,
      "outputs": [
        {
          "output_type": "display_data",
          "data": {
            "image/png": "[encoded data removed]",
            "text/plain": [
              "<Figure size 432x288 with 1 Axes>"
            ]
          },
          "metadata": {
            "needs_background": "light"
          }
        },
        {
          "output_type": "display_data",
          "data": {
            "image/png": "[encoded data removed]",
            "text/plain": [
              "<Figure size 432x288 with 1 Axes>"
            ]
          },
          "metadata": {
            "needs_background": "light"
          }
        },
        {
          "output_type": "stream",
          "name": "stdout",
          "text": [
            "0.8220(max: 0.8220)\n",
            "Done.\n"
          ]
        },
        {
          "output_type": "stream",
          "name": "stderr",
          "text": [
            "/usr/local/lib/python3.7/dist-packages/keras/engine/functional.py:1410: CustomMaskWarning: Custom mask layers require a config and must override get_config. When loading, the custom mask layer must be passed to the custom_objects argument.\n",
            "  layer_config = serialize_layer_fn(layer)\n"
          ]
        }
      ]
    },
    {
      "cell_type": "code",
      "source": [
        "import json\n",
        "def readJson(filename):\n",
        "  with open(filename, 'r') as file:\n",
        "    intents = json.load(file)\n",
        "    return intents"
      ],
      "metadata": {
        "id": "pSeX0jyE8v9P"
      },
      "execution_count": 70,
      "outputs": []
    },
    {
      "cell_type": "code",
      "source": [
        "icliniqQAs = readJson('icliniqQAs.json')\n",
        "#webmdQAs = readJson('webmdQAs.json')\n",
        "questionDoctorQAs = readJson('questionDoctorQAs.json')\n",
        "ehealthforumQAs = readJson('ehealthforumQAs.json')\n",
        "\n",
        "all_medical_list = icliniqQAs+questionDoctorQAs+ehealthforumQAs\n",
        "print(len(icliniqQAs)+len(questionDoctorQAs)+len(ehealthforumQAs))\n",
        "print(len(all_medical_list))\n",
        "type(all_medical_list)\n",
        "\n",
        "all_medical_list[0]"
      ],
      "metadata": {
        "id": "OFwQLfWqwzo5",
        "outputId": "00de5fd8-e72e-4d7e-9afa-248d49680120",
        "colab": {
          "base_uri": "https://localhost:8080/"
        }
      },
      "execution_count": 71,
      "outputs": [
        {
          "output_type": "stream",
          "name": "stdout",
          "text": [
            "6315\n",
            "6315\n"
          ]
        },
        {
          "output_type": "execute_result",
          "data": {
            "text/plain": [
              "{'answer': 'from your description it appears that you may have anterior knee pain which sometimes presents as pain at the back of the knee. the second possibility is that you have over done your exercise and hamstrings are sore and the lower end of the knee cap is inflamed. either way you should rest and ice the area of pain and give it time. i suggest you add nsaids (nonsteroidal anti-inflammatory drugs) for a week for an additional anti-inflammatory action. for further information consult an orthopaedician and traumatologist online --> <link>',\n",
              " 'question': 'is it fine to exercise with knee pain?',\n",
              " 'question_text': '\\r\\n\\r\\n\\r\\n\\t\\t\\t\\t\\tHi doctor,\\nI am a 24 year old female. My height is 5\\'5\" and weight is 58 kg. I am a cyclist and, to a lesser extent, a runner. For the past one\\xa0week, I have been getting pain in the back of my left knee. It hurts when I walk and not just doing sport. It is the movement of pushing off from the ground that makes it hurt, and when I straighten my leg to full extension.\\xa0Is it fine to continue with exercise?\\t\\t\\t\\t',\n",
              " 'tags': ['exercises'],\n",
              " 'url': 'https://www.icliniq.com/qa/knee-pain/is-it-fine-to-exercise-with-knee-pain'}"
            ]
          },
          "metadata": {},
          "execution_count": 71
        }
      ]
    },
    {
      "cell_type": "code",
      "source": [
        "import pandas as pd\n",
        "all_medical_df = pd.DataFrame.from_dict(all_medical_list)\n",
        "all_medical_df"
      ],
      "metadata": {
        "id": "27DqvNmLw24e",
        "outputId": "88779ff8-ffa0-4b64-9503-e483f5ed3a02",
        "colab": {
          "base_uri": "https://localhost:8080/",
          "height": 744
        }
      },
      "execution_count": 72,
      "outputs": [
        {
          "output_type": "execute_result",
          "data": {
            "text/html": [
              "\n",
              "  <div id=\"df-b1c28cfd-1c1d-4c4e-a1eb-09458866ee0f\">\n",
              "    <div class=\"colab-df-container\">\n",
              "      <div>\n",
              "<style scoped>\n",
              "    .dataframe tbody tr th:only-of-type {\n",
              "        vertical-align: middle;\n",
              "    }\n",
              "\n",
              "    .dataframe tbody tr th {\n",
              "        vertical-align: top;\n",
              "    }\n",
              "\n",
              "    .dataframe thead th {\n",
              "        text-align: right;\n",
              "    }\n",
              "</style>\n",
              "<table border=\"1\" class=\"dataframe\">\n",
              "  <thead>\n",
              "    <tr style=\"text-align: right;\">\n",
              "      <th></th>\n",
              "      <th>answer</th>\n",
              "      <th>question</th>\n",
              "      <th>question_text</th>\n",
              "      <th>tags</th>\n",
              "      <th>url</th>\n",
              "      <th>answer_author</th>\n",
              "    </tr>\n",
              "  </thead>\n",
              "  <tbody>\n",
              "    <tr>\n",
              "      <th>0</th>\n",
              "      <td>from your description it appears that you may ...</td>\n",
              "      <td>is it fine to exercise with knee pain?</td>\n",
              "      <td>\\r\\n\\r\\n\\r\\n\\t\\t\\t\\t\\tHi doctor,\\nI am a 24 ye...</td>\n",
              "      <td>[exercises]</td>\n",
              "      <td>https://www.icliniq.com/qa/knee-pain/is-it-fin...</td>\n",
              "      <td>NaN</td>\n",
              "    </tr>\n",
              "    <tr>\n",
              "      <th>1</th>\n",
              "      <td>depression anxiety restlessness and panic atta...</td>\n",
              "      <td>suffering from anxiety restlessness and taking...</td>\n",
              "      <td>\\r\\n\\r\\n\\r\\n\\t\\t\\t\\t\\tDear Doctor,\\nI am suffe...</td>\n",
              "      <td>[anxiety]</td>\n",
              "      <td>https://www.icliniq.com/qa/anxiety/suffering-f...</td>\n",
              "      <td>NaN</td>\n",
              "    </tr>\n",
              "    <tr>\n",
              "      <th>2</th>\n",
              "      <td>patients with hypothyroidism usually gain weig...</td>\n",
              "      <td>can a thyroid patient eat soybean and fenugreek?</td>\n",
              "      <td>\\r\\n\\r\\n\\r\\n\\t\\t\\t\\t\\tHi doctor,I am a 23 year...</td>\n",
              "      <td>[hypothyroidism]</td>\n",
              "      <td>https://www.icliniq.com/qa/thyroid-problem/can...</td>\n",
              "      <td>NaN</td>\n",
              "    </tr>\n",
              "    <tr>\n",
              "      <th>3</th>\n",
              "      <td>fenugreek seed cannot affect your fertility do...</td>\n",
              "      <td>i am not getting my periods after taking fenug...</td>\n",
              "      <td>\\r\\n\\r\\n\\r\\n\\t\\t\\t\\t\\tHi doctor,\\nI am a 23 ye...</td>\n",
              "      <td>[delayed period]</td>\n",
              "      <td>https://www.icliniq.com/qa/missed-period/i-am-...</td>\n",
              "      <td>NaN</td>\n",
              "    </tr>\n",
              "    <tr>\n",
              "      <th>4</th>\n",
              "      <td>your problem is a characteristic of cholinergi...</td>\n",
              "      <td>kindly suggest me a therapy to overcome heat a...</td>\n",
              "      <td>\\r\\n\\r\\n\\r\\n\\t\\t\\t\\t\\tHello doctor,\\nFrom one ...</td>\n",
              "      <td>[levocetirizine]</td>\n",
              "      <td>https://www.icliniq.com/qa/cholinergic-urticar...</td>\n",
              "      <td>NaN</td>\n",
              "    </tr>\n",
              "    <tr>\n",
              "      <th>...</th>\n",
              "      <td>...</td>\n",
              "      <td>...</td>\n",
              "      <td>...</td>\n",
              "      <td>...</td>\n",
              "      <td>...</td>\n",
              "      <td>...</td>\n",
              "    </tr>\n",
              "    <tr>\n",
              "      <th>6310</th>\n",
              "      <td>what your boyfriend seems to be having is bipo...</td>\n",
              "      <td>i belive my boyfriend is bipolar or has boderl...</td>\n",
              "      <td>NaN</td>\n",
              "      <td>[smoking pot, bipolar, smoking, abusive, bipol...</td>\n",
              "      <td>http://ehealthforum.com/health/one-minute-he-s...</td>\n",
              "      <td>NaN</td>\n",
              "    </tr>\n",
              "    <tr>\n",
              "      <th>6311</th>\n",
              "      <td>depression is common with any comorbid illness...</td>\n",
              "      <td>why do i feel so down when someone makes fun o...</td>\n",
              "      <td>NaN</td>\n",
              "      <td>[dyslexia]</td>\n",
              "      <td>http://ehealthforum.com/health/feel-down-about...</td>\n",
              "      <td>NaN</td>\n",
              "    </tr>\n",
              "    <tr>\n",
              "      <th>6312</th>\n",
              "      <td>in bipolar disorder sometimes there are mixed ...</td>\n",
              "      <td>please help! my fiance is bipolar but will not...</td>\n",
              "      <td>NaN</td>\n",
              "      <td>[bipolar, medication, bipolar help, anger help...</td>\n",
              "      <td>http://ehealthforum.com/health/fiance-is-bipol...</td>\n",
              "      <td>NaN</td>\n",
              "    </tr>\n",
              "    <tr>\n",
              "      <th>6313</th>\n",
              "      <td>hello. from your description here it seems you...</td>\n",
              "      <td>i constantly have bursts of anger for no reaso...</td>\n",
              "      <td>NaN</td>\n",
              "      <td>[bipolar disorder, anxiety, bipolar, angry, an...</td>\n",
              "      <td>http://ehealthforum.com/health/constantly-have...</td>\n",
              "      <td>NaN</td>\n",
              "    </tr>\n",
              "    <tr>\n",
              "      <th>6314</th>\n",
              "      <td>the description provided indicates that you mi...</td>\n",
              "      <td>hello i'm 20 years old and i've always seemed ...</td>\n",
              "      <td>NaN</td>\n",
              "      <td>[bipolar disorder, abruptly, bipolar, about bi...</td>\n",
              "      <td>http://ehealthforum.com/health/almost-random-o...</td>\n",
              "      <td>NaN</td>\n",
              "    </tr>\n",
              "  </tbody>\n",
              "</table>\n",
              "<p>6315 rows × 6 columns</p>\n",
              "</div>\n",
              "      <button class=\"colab-df-convert\" onclick=\"convertToInteractive('df-b1c28cfd-1c1d-4c4e-a1eb-09458866ee0f')\"\n",
              "              title=\"Convert this dataframe to an interactive table.\"\n",
              "              style=\"display:none;\">\n",
              "        \n",
              "  <svg xmlns=\"http://www.w3.org/2000/svg\" height=\"24px\"viewBox=\"0 0 24 24\"\n",
              "       width=\"24px\">\n",
              "    <path d=\"M0 0h24v24H0V0z\" fill=\"none\"/>\n",
              "    <path d=\"M18.56 5.44l.94 2.06.94-2.06 2.06-.94-2.06-.94-.94-2.06-.94 2.06-2.06.94zm-11 1L8.5 8.5l.94-2.06 2.06-.94-2.06-.94L8.5 2.5l-.94 2.06-2.06.94zm10 10l.94 2.06.94-2.06 2.06-.94-2.06-.94-.94-2.06-.94 2.06-2.06.94z\"/><path d=\"M17.41 7.96l-1.37-1.37c-.4-.4-.92-.59-1.43-.59-.52 0-1.04.2-1.43.59L10.3 9.45l-7.72 7.72c-.78.78-.78 2.05 0 2.83L4 21.41c.39.39.9.59 1.41.59.51 0 1.02-.2 1.41-.59l7.78-7.78 2.81-2.81c.8-.78.8-2.07 0-2.86zM5.41 20L4 18.59l7.72-7.72 1.47 1.35L5.41 20z\"/>\n",
              "  </svg>\n",
              "      </button>\n",
              "      \n",
              "  <style>\n",
              "    .colab-df-container {\n",
              "      display:flex;\n",
              "      flex-wrap:wrap;\n",
              "      gap: 12px;\n",
              "    }\n",
              "\n",
              "    .colab-df-convert {\n",
              "      background-color: #E8F0FE;\n",
              "      border: none;\n",
              "      border-radius: 50%;\n",
              "      cursor: pointer;\n",
              "      display: none;\n",
              "      fill: #1967D2;\n",
              "      height: 32px;\n",
              "      padding: 0 0 0 0;\n",
              "      width: 32px;\n",
              "    }\n",
              "\n",
              "    .colab-df-convert:hover {\n",
              "      background-color: #E2EBFA;\n",
              "      box-shadow: 0px 1px 2px rgba(60, 64, 67, 0.3), 0px 1px 3px 1px rgba(60, 64, 67, 0.15);\n",
              "      fill: #174EA6;\n",
              "    }\n",
              "\n",
              "    [theme=dark] .colab-df-convert {\n",
              "      background-color: #3B4455;\n",
              "      fill: #D2E3FC;\n",
              "    }\n",
              "\n",
              "    [theme=dark] .colab-df-convert:hover {\n",
              "      background-color: #434B5C;\n",
              "      box-shadow: 0px 1px 3px 1px rgba(0, 0, 0, 0.15);\n",
              "      filter: drop-shadow(0px 1px 2px rgba(0, 0, 0, 0.3));\n",
              "      fill: #FFFFFF;\n",
              "    }\n",
              "  </style>\n",
              "\n",
              "      <script>\n",
              "        const buttonEl =\n",
              "          document.querySelector('#df-b1c28cfd-1c1d-4c4e-a1eb-09458866ee0f button.colab-df-convert');\n",
              "        buttonEl.style.display =\n",
              "          google.colab.kernel.accessAllowed ? 'block' : 'none';\n",
              "\n",
              "        async function convertToInteractive(key) {\n",
              "          const element = document.querySelector('#df-b1c28cfd-1c1d-4c4e-a1eb-09458866ee0f');\n",
              "          const dataTable =\n",
              "            await google.colab.kernel.invokeFunction('convertToInteractive',\n",
              "                                                     [key], {});\n",
              "          if (!dataTable) return;\n",
              "\n",
              "          const docLinkHtml = 'Like what you see? Visit the ' +\n",
              "            '<a target=\"_blank\" href=https://colab.research.google.com/notebooks/data_table.ipynb>data table notebook</a>'\n",
              "            + ' to learn more about interactive tables.';\n",
              "          element.innerHTML = '';\n",
              "          dataTable['output_type'] = 'display_data';\n",
              "          await google.colab.output.renderOutput(dataTable, element);\n",
              "          const docLink = document.createElement('div');\n",
              "          docLink.innerHTML = docLinkHtml;\n",
              "          element.appendChild(docLink);\n",
              "        }\n",
              "      </script>\n",
              "    </div>\n",
              "  </div>\n",
              "  "
            ],
            "text/plain": [
              "                                                 answer  ... answer_author\n",
              "0     from your description it appears that you may ...  ...           NaN\n",
              "1     depression anxiety restlessness and panic atta...  ...           NaN\n",
              "2     patients with hypothyroidism usually gain weig...  ...           NaN\n",
              "3     fenugreek seed cannot affect your fertility do...  ...           NaN\n",
              "4     your problem is a characteristic of cholinergi...  ...           NaN\n",
              "...                                                 ...  ...           ...\n",
              "6310  what your boyfriend seems to be having is bipo...  ...           NaN\n",
              "6311  depression is common with any comorbid illness...  ...           NaN\n",
              "6312  in bipolar disorder sometimes there are mixed ...  ...           NaN\n",
              "6313  hello. from your description here it seems you...  ...           NaN\n",
              "6314  the description provided indicates that you mi...  ...           NaN\n",
              "\n",
              "[6315 rows x 6 columns]"
            ]
          },
          "metadata": {},
          "execution_count": 72
        }
      ]
    },
    {
      "cell_type": "code",
      "source": [
        "all_medical_df.drop(columns=['question_text', 'url','answer_author'],inplace = True)\n",
        "all_medical_df"
      ],
      "metadata": {
        "id": "A0oGbFlBxBcq",
        "outputId": "89568fd2-c779-4817-96b5-61e1e48c220b",
        "colab": {
          "base_uri": "https://localhost:8080/",
          "height": 423
        }
      },
      "execution_count": 73,
      "outputs": [
        {
          "output_type": "execute_result",
          "data": {
            "text/html": [
              "\n",
              "  <div id=\"df-51d5ecfc-efa5-4515-9ca1-b03e028c1c03\">\n",
              "    <div class=\"colab-df-container\">\n",
              "      <div>\n",
              "<style scoped>\n",
              "    .dataframe tbody tr th:only-of-type {\n",
              "        vertical-align: middle;\n",
              "    }\n",
              "\n",
              "    .dataframe tbody tr th {\n",
              "        vertical-align: top;\n",
              "    }\n",
              "\n",
              "    .dataframe thead th {\n",
              "        text-align: right;\n",
              "    }\n",
              "</style>\n",
              "<table border=\"1\" class=\"dataframe\">\n",
              "  <thead>\n",
              "    <tr style=\"text-align: right;\">\n",
              "      <th></th>\n",
              "      <th>answer</th>\n",
              "      <th>question</th>\n",
              "      <th>tags</th>\n",
              "    </tr>\n",
              "  </thead>\n",
              "  <tbody>\n",
              "    <tr>\n",
              "      <th>0</th>\n",
              "      <td>from your description it appears that you may ...</td>\n",
              "      <td>is it fine to exercise with knee pain?</td>\n",
              "      <td>[exercises]</td>\n",
              "    </tr>\n",
              "    <tr>\n",
              "      <th>1</th>\n",
              "      <td>depression anxiety restlessness and panic atta...</td>\n",
              "      <td>suffering from anxiety restlessness and taking...</td>\n",
              "      <td>[anxiety]</td>\n",
              "    </tr>\n",
              "    <tr>\n",
              "      <th>2</th>\n",
              "      <td>patients with hypothyroidism usually gain weig...</td>\n",
              "      <td>can a thyroid patient eat soybean and fenugreek?</td>\n",
              "      <td>[hypothyroidism]</td>\n",
              "    </tr>\n",
              "    <tr>\n",
              "      <th>3</th>\n",
              "      <td>fenugreek seed cannot affect your fertility do...</td>\n",
              "      <td>i am not getting my periods after taking fenug...</td>\n",
              "      <td>[delayed period]</td>\n",
              "    </tr>\n",
              "    <tr>\n",
              "      <th>4</th>\n",
              "      <td>your problem is a characteristic of cholinergi...</td>\n",
              "      <td>kindly suggest me a therapy to overcome heat a...</td>\n",
              "      <td>[levocetirizine]</td>\n",
              "    </tr>\n",
              "    <tr>\n",
              "      <th>...</th>\n",
              "      <td>...</td>\n",
              "      <td>...</td>\n",
              "      <td>...</td>\n",
              "    </tr>\n",
              "    <tr>\n",
              "      <th>6310</th>\n",
              "      <td>what your boyfriend seems to be having is bipo...</td>\n",
              "      <td>i belive my boyfriend is bipolar or has boderl...</td>\n",
              "      <td>[smoking pot, bipolar, smoking, abusive, bipol...</td>\n",
              "    </tr>\n",
              "    <tr>\n",
              "      <th>6311</th>\n",
              "      <td>depression is common with any comorbid illness...</td>\n",
              "      <td>why do i feel so down when someone makes fun o...</td>\n",
              "      <td>[dyslexia]</td>\n",
              "    </tr>\n",
              "    <tr>\n",
              "      <th>6312</th>\n",
              "      <td>in bipolar disorder sometimes there are mixed ...</td>\n",
              "      <td>please help! my fiance is bipolar but will not...</td>\n",
              "      <td>[bipolar, medication, bipolar help, anger help...</td>\n",
              "    </tr>\n",
              "    <tr>\n",
              "      <th>6313</th>\n",
              "      <td>hello. from your description here it seems you...</td>\n",
              "      <td>i constantly have bursts of anger for no reaso...</td>\n",
              "      <td>[bipolar disorder, anxiety, bipolar, angry, an...</td>\n",
              "    </tr>\n",
              "    <tr>\n",
              "      <th>6314</th>\n",
              "      <td>the description provided indicates that you mi...</td>\n",
              "      <td>hello i'm 20 years old and i've always seemed ...</td>\n",
              "      <td>[bipolar disorder, abruptly, bipolar, about bi...</td>\n",
              "    </tr>\n",
              "  </tbody>\n",
              "</table>\n",
              "<p>6315 rows × 3 columns</p>\n",
              "</div>\n",
              "      <button class=\"colab-df-convert\" onclick=\"convertToInteractive('df-51d5ecfc-efa5-4515-9ca1-b03e028c1c03')\"\n",
              "              title=\"Convert this dataframe to an interactive table.\"\n",
              "              style=\"display:none;\">\n",
              "        \n",
              "  <svg xmlns=\"http://www.w3.org/2000/svg\" height=\"24px\"viewBox=\"0 0 24 24\"\n",
              "       width=\"24px\">\n",
              "    <path d=\"M0 0h24v24H0V0z\" fill=\"none\"/>\n",
              "    <path d=\"M18.56 5.44l.94 2.06.94-2.06 2.06-.94-2.06-.94-.94-2.06-.94 2.06-2.06.94zm-11 1L8.5 8.5l.94-2.06 2.06-.94-2.06-.94L8.5 2.5l-.94 2.06-2.06.94zm10 10l.94 2.06.94-2.06 2.06-.94-2.06-.94-.94-2.06-.94 2.06-2.06.94z\"/><path d=\"M17.41 7.96l-1.37-1.37c-.4-.4-.92-.59-1.43-.59-.52 0-1.04.2-1.43.59L10.3 9.45l-7.72 7.72c-.78.78-.78 2.05 0 2.83L4 21.41c.39.39.9.59 1.41.59.51 0 1.02-.2 1.41-.59l7.78-7.78 2.81-2.81c.8-.78.8-2.07 0-2.86zM5.41 20L4 18.59l7.72-7.72 1.47 1.35L5.41 20z\"/>\n",
              "  </svg>\n",
              "      </button>\n",
              "      \n",
              "  <style>\n",
              "    .colab-df-container {\n",
              "      display:flex;\n",
              "      flex-wrap:wrap;\n",
              "      gap: 12px;\n",
              "    }\n",
              "\n",
              "    .colab-df-convert {\n",
              "      background-color: #E8F0FE;\n",
              "      border: none;\n",
              "      border-radius: 50%;\n",
              "      cursor: pointer;\n",
              "      display: none;\n",
              "      fill: #1967D2;\n",
              "      height: 32px;\n",
              "      padding: 0 0 0 0;\n",
              "      width: 32px;\n",
              "    }\n",
              "\n",
              "    .colab-df-convert:hover {\n",
              "      background-color: #E2EBFA;\n",
              "      box-shadow: 0px 1px 2px rgba(60, 64, 67, 0.3), 0px 1px 3px 1px rgba(60, 64, 67, 0.15);\n",
              "      fill: #174EA6;\n",
              "    }\n",
              "\n",
              "    [theme=dark] .colab-df-convert {\n",
              "      background-color: #3B4455;\n",
              "      fill: #D2E3FC;\n",
              "    }\n",
              "\n",
              "    [theme=dark] .colab-df-convert:hover {\n",
              "      background-color: #434B5C;\n",
              "      box-shadow: 0px 1px 3px 1px rgba(0, 0, 0, 0.15);\n",
              "      filter: drop-shadow(0px 1px 2px rgba(0, 0, 0, 0.3));\n",
              "      fill: #FFFFFF;\n",
              "    }\n",
              "  </style>\n",
              "\n",
              "      <script>\n",
              "        const buttonEl =\n",
              "          document.querySelector('#df-51d5ecfc-efa5-4515-9ca1-b03e028c1c03 button.colab-df-convert');\n",
              "        buttonEl.style.display =\n",
              "          google.colab.kernel.accessAllowed ? 'block' : 'none';\n",
              "\n",
              "        async function convertToInteractive(key) {\n",
              "          const element = document.querySelector('#df-51d5ecfc-efa5-4515-9ca1-b03e028c1c03');\n",
              "          const dataTable =\n",
              "            await google.colab.kernel.invokeFunction('convertToInteractive',\n",
              "                                                     [key], {});\n",
              "          if (!dataTable) return;\n",
              "\n",
              "          const docLinkHtml = 'Like what you see? Visit the ' +\n",
              "            '<a target=\"_blank\" href=https://colab.research.google.com/notebooks/data_table.ipynb>data table notebook</a>'\n",
              "            + ' to learn more about interactive tables.';\n",
              "          element.innerHTML = '';\n",
              "          dataTable['output_type'] = 'display_data';\n",
              "          await google.colab.output.renderOutput(dataTable, element);\n",
              "          const docLink = document.createElement('div');\n",
              "          docLink.innerHTML = docLinkHtml;\n",
              "          element.appendChild(docLink);\n",
              "        }\n",
              "      </script>\n",
              "    </div>\n",
              "  </div>\n",
              "  "
            ],
            "text/plain": [
              "                                                 answer  ...                                               tags\n",
              "0     from your description it appears that you may ...  ...                                        [exercises]\n",
              "1     depression anxiety restlessness and panic atta...  ...                                          [anxiety]\n",
              "2     patients with hypothyroidism usually gain weig...  ...                                   [hypothyroidism]\n",
              "3     fenugreek seed cannot affect your fertility do...  ...                                   [delayed period]\n",
              "4     your problem is a characteristic of cholinergi...  ...                                   [levocetirizine]\n",
              "...                                                 ...  ...                                                ...\n",
              "6310  what your boyfriend seems to be having is bipo...  ...  [smoking pot, bipolar, smoking, abusive, bipol...\n",
              "6311  depression is common with any comorbid illness...  ...                                         [dyslexia]\n",
              "6312  in bipolar disorder sometimes there are mixed ...  ...  [bipolar, medication, bipolar help, anger help...\n",
              "6313  hello. from your description here it seems you...  ...  [bipolar disorder, anxiety, bipolar, angry, an...\n",
              "6314  the description provided indicates that you mi...  ...  [bipolar disorder, abruptly, bipolar, about bi...\n",
              "\n",
              "[6315 rows x 3 columns]"
            ]
          },
          "metadata": {},
          "execution_count": 73
        }
      ]
    },
    {
      "cell_type": "code",
      "source": [
        "test_df = pd.DataFrame(all_medical_df[\"question\"])\n",
        "test_df.columns = ['question1']\n",
        "\n",
        "test_df['question2']=\"i had high pressure?\"\n",
        "test_df"
      ],
      "metadata": {
        "id": "26569YASxEJ3",
        "outputId": "b27c9094-444c-4329-ae1b-382af5766530",
        "colab": {
          "base_uri": "https://localhost:8080/",
          "height": 423
        }
      },
      "execution_count": 74,
      "outputs": [
        {
          "output_type": "execute_result",
          "data": {
            "text/html": [
              "\n",
              "  <div id=\"df-64aa4151-9cb2-488b-98f4-b3ff46fb0ecf\">\n",
              "    <div class=\"colab-df-container\">\n",
              "      <div>\n",
              "<style scoped>\n",
              "    .dataframe tbody tr th:only-of-type {\n",
              "        vertical-align: middle;\n",
              "    }\n",
              "\n",
              "    .dataframe tbody tr th {\n",
              "        vertical-align: top;\n",
              "    }\n",
              "\n",
              "    .dataframe thead th {\n",
              "        text-align: right;\n",
              "    }\n",
              "</style>\n",
              "<table border=\"1\" class=\"dataframe\">\n",
              "  <thead>\n",
              "    <tr style=\"text-align: right;\">\n",
              "      <th></th>\n",
              "      <th>question1</th>\n",
              "      <th>question2</th>\n",
              "    </tr>\n",
              "  </thead>\n",
              "  <tbody>\n",
              "    <tr>\n",
              "      <th>0</th>\n",
              "      <td>is it fine to exercise with knee pain?</td>\n",
              "      <td>i had high pressure?</td>\n",
              "    </tr>\n",
              "    <tr>\n",
              "      <th>1</th>\n",
              "      <td>suffering from anxiety restlessness and taking...</td>\n",
              "      <td>i had high pressure?</td>\n",
              "    </tr>\n",
              "    <tr>\n",
              "      <th>2</th>\n",
              "      <td>can a thyroid patient eat soybean and fenugreek?</td>\n",
              "      <td>i had high pressure?</td>\n",
              "    </tr>\n",
              "    <tr>\n",
              "      <th>3</th>\n",
              "      <td>i am not getting my periods after taking fenug...</td>\n",
              "      <td>i had high pressure?</td>\n",
              "    </tr>\n",
              "    <tr>\n",
              "      <th>4</th>\n",
              "      <td>kindly suggest me a therapy to overcome heat a...</td>\n",
              "      <td>i had high pressure?</td>\n",
              "    </tr>\n",
              "    <tr>\n",
              "      <th>...</th>\n",
              "      <td>...</td>\n",
              "      <td>...</td>\n",
              "    </tr>\n",
              "    <tr>\n",
              "      <th>6310</th>\n",
              "      <td>i belive my boyfriend is bipolar or has boderl...</td>\n",
              "      <td>i had high pressure?</td>\n",
              "    </tr>\n",
              "    <tr>\n",
              "      <th>6311</th>\n",
              "      <td>why do i feel so down when someone makes fun o...</td>\n",
              "      <td>i had high pressure?</td>\n",
              "    </tr>\n",
              "    <tr>\n",
              "      <th>6312</th>\n",
              "      <td>please help! my fiance is bipolar but will not...</td>\n",
              "      <td>i had high pressure?</td>\n",
              "    </tr>\n",
              "    <tr>\n",
              "      <th>6313</th>\n",
              "      <td>i constantly have bursts of anger for no reaso...</td>\n",
              "      <td>i had high pressure?</td>\n",
              "    </tr>\n",
              "    <tr>\n",
              "      <th>6314</th>\n",
              "      <td>hello i'm 20 years old and i've always seemed ...</td>\n",
              "      <td>i had high pressure?</td>\n",
              "    </tr>\n",
              "  </tbody>\n",
              "</table>\n",
              "<p>6315 rows × 2 columns</p>\n",
              "</div>\n",
              "      <button class=\"colab-df-convert\" onclick=\"convertToInteractive('df-64aa4151-9cb2-488b-98f4-b3ff46fb0ecf')\"\n",
              "              title=\"Convert this dataframe to an interactive table.\"\n",
              "              style=\"display:none;\">\n",
              "        \n",
              "  <svg xmlns=\"http://www.w3.org/2000/svg\" height=\"24px\"viewBox=\"0 0 24 24\"\n",
              "       width=\"24px\">\n",
              "    <path d=\"M0 0h24v24H0V0z\" fill=\"none\"/>\n",
              "    <path d=\"M18.56 5.44l.94 2.06.94-2.06 2.06-.94-2.06-.94-.94-2.06-.94 2.06-2.06.94zm-11 1L8.5 8.5l.94-2.06 2.06-.94-2.06-.94L8.5 2.5l-.94 2.06-2.06.94zm10 10l.94 2.06.94-2.06 2.06-.94-2.06-.94-.94-2.06-.94 2.06-2.06.94z\"/><path d=\"M17.41 7.96l-1.37-1.37c-.4-.4-.92-.59-1.43-.59-.52 0-1.04.2-1.43.59L10.3 9.45l-7.72 7.72c-.78.78-.78 2.05 0 2.83L4 21.41c.39.39.9.59 1.41.59.51 0 1.02-.2 1.41-.59l7.78-7.78 2.81-2.81c.8-.78.8-2.07 0-2.86zM5.41 20L4 18.59l7.72-7.72 1.47 1.35L5.41 20z\"/>\n",
              "  </svg>\n",
              "      </button>\n",
              "      \n",
              "  <style>\n",
              "    .colab-df-container {\n",
              "      display:flex;\n",
              "      flex-wrap:wrap;\n",
              "      gap: 12px;\n",
              "    }\n",
              "\n",
              "    .colab-df-convert {\n",
              "      background-color: #E8F0FE;\n",
              "      border: none;\n",
              "      border-radius: 50%;\n",
              "      cursor: pointer;\n",
              "      display: none;\n",
              "      fill: #1967D2;\n",
              "      height: 32px;\n",
              "      padding: 0 0 0 0;\n",
              "      width: 32px;\n",
              "    }\n",
              "\n",
              "    .colab-df-convert:hover {\n",
              "      background-color: #E2EBFA;\n",
              "      box-shadow: 0px 1px 2px rgba(60, 64, 67, 0.3), 0px 1px 3px 1px rgba(60, 64, 67, 0.15);\n",
              "      fill: #174EA6;\n",
              "    }\n",
              "\n",
              "    [theme=dark] .colab-df-convert {\n",
              "      background-color: #3B4455;\n",
              "      fill: #D2E3FC;\n",
              "    }\n",
              "\n",
              "    [theme=dark] .colab-df-convert:hover {\n",
              "      background-color: #434B5C;\n",
              "      box-shadow: 0px 1px 3px 1px rgba(0, 0, 0, 0.15);\n",
              "      filter: drop-shadow(0px 1px 2px rgba(0, 0, 0, 0.3));\n",
              "      fill: #FFFFFF;\n",
              "    }\n",
              "  </style>\n",
              "\n",
              "      <script>\n",
              "        const buttonEl =\n",
              "          document.querySelector('#df-64aa4151-9cb2-488b-98f4-b3ff46fb0ecf button.colab-df-convert');\n",
              "        buttonEl.style.display =\n",
              "          google.colab.kernel.accessAllowed ? 'block' : 'none';\n",
              "\n",
              "        async function convertToInteractive(key) {\n",
              "          const element = document.querySelector('#df-64aa4151-9cb2-488b-98f4-b3ff46fb0ecf');\n",
              "          const dataTable =\n",
              "            await google.colab.kernel.invokeFunction('convertToInteractive',\n",
              "                                                     [key], {});\n",
              "          if (!dataTable) return;\n",
              "\n",
              "          const docLinkHtml = 'Like what you see? Visit the ' +\n",
              "            '<a target=\"_blank\" href=https://colab.research.google.com/notebooks/data_table.ipynb>data table notebook</a>'\n",
              "            + ' to learn more about interactive tables.';\n",
              "          element.innerHTML = '';\n",
              "          dataTable['output_type'] = 'display_data';\n",
              "          await google.colab.output.renderOutput(dataTable, element);\n",
              "          const docLink = document.createElement('div');\n",
              "          docLink.innerHTML = docLinkHtml;\n",
              "          element.appendChild(docLink);\n",
              "        }\n",
              "      </script>\n",
              "    </div>\n",
              "  </div>\n",
              "  "
            ],
            "text/plain": [
              "                                              question1             question2\n",
              "0                is it fine to exercise with knee pain?  i had high pressure?\n",
              "1     suffering from anxiety restlessness and taking...  i had high pressure?\n",
              "2      can a thyroid patient eat soybean and fenugreek?  i had high pressure?\n",
              "3     i am not getting my periods after taking fenug...  i had high pressure?\n",
              "4     kindly suggest me a therapy to overcome heat a...  i had high pressure?\n",
              "...                                                 ...                   ...\n",
              "6310  i belive my boyfriend is bipolar or has boderl...  i had high pressure?\n",
              "6311  why do i feel so down when someone makes fun o...  i had high pressure?\n",
              "6312  please help! my fiance is bipolar but will not...  i had high pressure?\n",
              "6313  i constantly have bursts of anger for no reaso...  i had high pressure?\n",
              "6314  hello i'm 20 years old and i've always seemed ...  i had high pressure?\n",
              "\n",
              "[6315 rows x 2 columns]"
            ]
          },
          "metadata": {},
          "execution_count": 74
        }
      ]
    },
    {
      "cell_type": "code",
      "source": [
        "\n",
        "import pandas as pd\n",
        "\n",
        "import tensorflow as tf\n",
        "\n",
        "\n",
        "# File paths\n",
        "#TEST_CSV = './data/test-20.csv'\n",
        "\n",
        "# Load training set\n",
        "#test_df = pd.read_csv(TEST_CSV)\n",
        "for q in ['question1', 'question2']:\n",
        "    test_df[q + '_n'] = test_df[q]\n",
        "\n",
        "# Make word2vec embeddings\n",
        "embedding_dim = 300\n",
        "max_seq_length = 12\n",
        "test_df, embeddings = make_w2v_embeddings(flag, embedding_dict, test_df, embedding_dim=embedding_dim)\n",
        "\n",
        "# Split to dicts and append zero padding.\n",
        "X_test = split_and_zero_padding(test_df, max_seq_length)\n",
        "\n",
        "# Make sure everything is ok\n",
        "assert X_test['left'].shape == X_test['right'].shape\n",
        "\n",
        "# --\n",
        "\n",
        "model = tf.keras.models.load_model('./en_SiameseLSTM.h5', custom_objects={'ManDist': ManDist})\n",
        "model.summary()\n",
        "\n",
        "prediction = model.predict([X_test['left'], X_test['right']])"
      ],
      "metadata": {
        "id": "4r-j5O0YxIXP",
        "outputId": "35e8f34b-cad2-4860-fb1f-077cfa4bc6e7",
        "colab": {
          "base_uri": "https://localhost:8080/"
        }
      },
      "execution_count": 75,
      "outputs": [
        {
          "output_type": "stream",
          "name": "stdout",
          "text": [
            "1000 sentences embedded.\n",
            "2000 sentences embedded.\n",
            "3000 sentences embedded.\n",
            "4000 sentences embedded.\n",
            "5000 sentences embedded.\n",
            "6000 sentences embedded.\n",
            "Model: \"model_1\"\n",
            "__________________________________________________________________________________________________\n",
            " Layer (type)                   Output Shape         Param #     Connected to                     \n",
            "==================================================================================================\n",
            " input_3 (InputLayer)           [(None, 12)]         0           []                               \n",
            "                                                                                                  \n",
            " input_4 (InputLayer)           [(None, 12)]         0           []                               \n",
            "                                                                                                  \n",
            " embedding_2 (Embedding)        (None, 12, 300)      3516600     ['input_3[0][0]']                \n",
            "                                                                                                  \n",
            " embedding_3 (Embedding)        (None, 12, 300)      3516600     ['input_4[0][0]']                \n",
            "                                                                                                  \n",
            " bidirectional_4 (Bidirectional  (None, 12, 200)     320800      ['embedding_2[0][0]']            \n",
            " )                                                                                                \n",
            "                                                                                                  \n",
            " bidirectional_6 (Bidirectional  (None, 12, 200)     320800      ['embedding_3[0][0]']            \n",
            " )                                                                                                \n",
            "                                                                                                  \n",
            " bidirectional_5 (Bidirectional  (None, 12, 200)     240800      ['bidirectional_4[0][0]']        \n",
            " )                                                                                                \n",
            "                                                                                                  \n",
            " bidirectional_7 (Bidirectional  (None, 12, 200)     240800      ['bidirectional_6[0][0]']        \n",
            " )                                                                                                \n",
            "                                                                                                  \n",
            " dropout_4 (Dropout)            (None, 12, 200)      0           ['bidirectional_5[0][0]']        \n",
            "                                                                                                  \n",
            " dropout_6 (Dropout)            (None, 12, 200)      0           ['bidirectional_7[0][0]']        \n",
            "                                                                                                  \n",
            " time_distributed_2 (TimeDistri  (None, 12, 1)       201         ['dropout_4[0][0]']              \n",
            " buted)                                                                                           \n",
            "                                                                                                  \n",
            " time_distributed_3 (TimeDistri  (None, 12, 1)       201         ['dropout_6[0][0]']              \n",
            " buted)                                                                                           \n",
            "                                                                                                  \n",
            " flatten_2 (Flatten)            (None, 12)           0           ['time_distributed_2[0][0]']     \n",
            "                                                                                                  \n",
            " flatten_3 (Flatten)            (None, 12)           0           ['time_distributed_3[0][0]']     \n",
            "                                                                                                  \n",
            " activation_2 (Activation)      (None, 12)           0           ['flatten_2[0][0]']              \n",
            "                                                                                                  \n",
            " activation_3 (Activation)      (None, 12)           0           ['flatten_3[0][0]']              \n",
            "                                                                                                  \n",
            " repeat_vector_2 (RepeatVector)  (None, 200, 12)     0           ['activation_2[0][0]']           \n",
            "                                                                                                  \n",
            " repeat_vector_3 (RepeatVector)  (None, 200, 12)     0           ['activation_3[0][0]']           \n",
            "                                                                                                  \n",
            " permute_2 (Permute)            (None, 12, 200)      0           ['repeat_vector_2[0][0]']        \n",
            "                                                                                                  \n",
            " permute_3 (Permute)            (None, 12, 200)      0           ['repeat_vector_3[0][0]']        \n",
            "                                                                                                  \n",
            " multiply_2 (Multiply)          (None, 12, 200)      0           ['dropout_4[0][0]',              \n",
            "                                                                  'permute_2[0][0]']              \n",
            "                                                                                                  \n",
            " multiply_3 (Multiply)          (None, 12, 200)      0           ['dropout_6[0][0]',              \n",
            "                                                                  'permute_3[0][0]']              \n",
            "                                                                                                  \n",
            " lambda_2 (Lambda)              (None, 200)          0           ['multiply_2[0][0]']             \n",
            "                                                                                                  \n",
            " lambda_3 (Lambda)              (None, 200)          0           ['multiply_3[0][0]']             \n",
            "                                                                                                  \n",
            " dropout_5 (Dropout)            (None, 200)          0           ['lambda_2[0][0]']               \n",
            "                                                                                                  \n",
            " dropout_7 (Dropout)            (None, 200)          0           ['lambda_3[0][0]']               \n",
            "                                                                                                  \n",
            " man_dist_1 (ManDist)           (None, 1)            0           ['dropout_5[0][0]',              \n",
            "                                                                  'dropout_7[0][0]']              \n",
            "                                                                                                  \n",
            " concatenate_1 (Concatenate)    (None, 401)          0           ['dropout_5[0][0]',              \n",
            "                                                                  'dropout_7[0][0]',              \n",
            "                                                                  'man_dist_1[0][0]']             \n",
            "                                                                                                  \n",
            " dense_11 (Dense)               (None, 16)           6432        ['concatenate_1[0][0]']          \n",
            "                                                                                                  \n",
            " dense_10 (Dense)               (None, 4)            68          ['dense_11[0][0]']               \n",
            "                                                                                                  \n",
            " dense_9 (Dense)                (None, 2)            10          ['dense_10[0][0]']               \n",
            "                                                                                                  \n",
            " dense_8 (Dense)                (None, 1)            3           ['dense_9[0][0]']                \n",
            "                                                                                                  \n",
            "==================================================================================================\n",
            "Total params: 8,163,315\n",
            "Trainable params: 1,130,115\n",
            "Non-trainable params: 7,033,200\n",
            "__________________________________________________________________________________________________\n"
          ]
        }
      ]
    },
    {
      "cell_type": "code",
      "source": [
        "test_df.shape"
      ],
      "metadata": {
        "id": "xP6214I-xSCd",
        "outputId": "33dd404e-3075-4403-fd17-bfc9abaf1f20",
        "colab": {
          "base_uri": "https://localhost:8080/"
        }
      },
      "execution_count": 76,
      "outputs": [
        {
          "output_type": "execute_result",
          "data": {
            "text/plain": [
              "(6315, 4)"
            ]
          },
          "metadata": {},
          "execution_count": 76
        }
      ]
    },
    {
      "cell_type": "code",
      "source": [
        "prediction.shape"
      ],
      "metadata": {
        "id": "048eT_PczU0z",
        "outputId": "238a60fb-5bdb-4caa-eb15-eaba0bcea6c5",
        "colab": {
          "base_uri": "https://localhost:8080/"
        }
      },
      "execution_count": 77,
      "outputs": [
        {
          "output_type": "execute_result",
          "data": {
            "text/plain": [
              "(6315, 1)"
            ]
          },
          "metadata": {},
          "execution_count": 77
        }
      ]
    },
    {
      "cell_type": "code",
      "source": [
        "Eval = pd.DataFrame(columns= ['question1','question2','prediction'])\n",
        "Eval['question1']= test_df['question1']\n",
        "Eval['question2']=test_df['question2']\n",
        "Eval['prediction']= prediction\n",
        "Eval"
      ],
      "metadata": {
        "id": "CA7_2CYszXZ2",
        "outputId": "ffd7d246-da2a-44af-e6a4-77ca0a39d989",
        "colab": {
          "base_uri": "https://localhost:8080/",
          "height": 423
        }
      },
      "execution_count": 78,
      "outputs": [
        {
          "output_type": "execute_result",
          "data": {
            "text/html": [
              "\n",
              "  <div id=\"df-d5c6626f-9734-468a-8c32-be6a94621ca8\">\n",
              "    <div class=\"colab-df-container\">\n",
              "      <div>\n",
              "<style scoped>\n",
              "    .dataframe tbody tr th:only-of-type {\n",
              "        vertical-align: middle;\n",
              "    }\n",
              "\n",
              "    .dataframe tbody tr th {\n",
              "        vertical-align: top;\n",
              "    }\n",
              "\n",
              "    .dataframe thead th {\n",
              "        text-align: right;\n",
              "    }\n",
              "</style>\n",
              "<table border=\"1\" class=\"dataframe\">\n",
              "  <thead>\n",
              "    <tr style=\"text-align: right;\">\n",
              "      <th></th>\n",
              "      <th>question1</th>\n",
              "      <th>question2</th>\n",
              "      <th>prediction</th>\n",
              "    </tr>\n",
              "  </thead>\n",
              "  <tbody>\n",
              "    <tr>\n",
              "      <th>0</th>\n",
              "      <td>is it fine to exercise with knee pain?</td>\n",
              "      <td>i had high pressure?</td>\n",
              "      <td>2.139866e-03</td>\n",
              "    </tr>\n",
              "    <tr>\n",
              "      <th>1</th>\n",
              "      <td>suffering from anxiety restlessness and taking...</td>\n",
              "      <td>i had high pressure?</td>\n",
              "      <td>1.400039e-01</td>\n",
              "    </tr>\n",
              "    <tr>\n",
              "      <th>2</th>\n",
              "      <td>can a thyroid patient eat soybean and fenugreek?</td>\n",
              "      <td>i had high pressure?</td>\n",
              "      <td>9.301603e-04</td>\n",
              "    </tr>\n",
              "    <tr>\n",
              "      <th>3</th>\n",
              "      <td>i am not getting my periods after taking fenug...</td>\n",
              "      <td>i had high pressure?</td>\n",
              "      <td>5.674534e-06</td>\n",
              "    </tr>\n",
              "    <tr>\n",
              "      <th>4</th>\n",
              "      <td>kindly suggest me a therapy to overcome heat a...</td>\n",
              "      <td>i had high pressure?</td>\n",
              "      <td>2.972963e-02</td>\n",
              "    </tr>\n",
              "    <tr>\n",
              "      <th>...</th>\n",
              "      <td>...</td>\n",
              "      <td>...</td>\n",
              "      <td>...</td>\n",
              "    </tr>\n",
              "    <tr>\n",
              "      <th>6310</th>\n",
              "      <td>i belive my boyfriend is bipolar or has boderl...</td>\n",
              "      <td>i had high pressure?</td>\n",
              "      <td>1.949880e-05</td>\n",
              "    </tr>\n",
              "    <tr>\n",
              "      <th>6311</th>\n",
              "      <td>why do i feel so down when someone makes fun o...</td>\n",
              "      <td>i had high pressure?</td>\n",
              "      <td>1.384959e-05</td>\n",
              "    </tr>\n",
              "    <tr>\n",
              "      <th>6312</th>\n",
              "      <td>please help! my fiance is bipolar but will not...</td>\n",
              "      <td>i had high pressure?</td>\n",
              "      <td>5.200207e-04</td>\n",
              "    </tr>\n",
              "    <tr>\n",
              "      <th>6313</th>\n",
              "      <td>i constantly have bursts of anger for no reaso...</td>\n",
              "      <td>i had high pressure?</td>\n",
              "      <td>3.393583e-06</td>\n",
              "    </tr>\n",
              "    <tr>\n",
              "      <th>6314</th>\n",
              "      <td>hello i'm 20 years old and i've always seemed ...</td>\n",
              "      <td>i had high pressure?</td>\n",
              "      <td>6.606775e-08</td>\n",
              "    </tr>\n",
              "  </tbody>\n",
              "</table>\n",
              "<p>6315 rows × 3 columns</p>\n",
              "</div>\n",
              "      <button class=\"colab-df-convert\" onclick=\"convertToInteractive('df-d5c6626f-9734-468a-8c32-be6a94621ca8')\"\n",
              "              title=\"Convert this dataframe to an interactive table.\"\n",
              "              style=\"display:none;\">\n",
              "        \n",
              "  <svg xmlns=\"http://www.w3.org/2000/svg\" height=\"24px\"viewBox=\"0 0 24 24\"\n",
              "       width=\"24px\">\n",
              "    <path d=\"M0 0h24v24H0V0z\" fill=\"none\"/>\n",
              "    <path d=\"M18.56 5.44l.94 2.06.94-2.06 2.06-.94-2.06-.94-.94-2.06-.94 2.06-2.06.94zm-11 1L8.5 8.5l.94-2.06 2.06-.94-2.06-.94L8.5 2.5l-.94 2.06-2.06.94zm10 10l.94 2.06.94-2.06 2.06-.94-2.06-.94-.94-2.06-.94 2.06-2.06.94z\"/><path d=\"M17.41 7.96l-1.37-1.37c-.4-.4-.92-.59-1.43-.59-.52 0-1.04.2-1.43.59L10.3 9.45l-7.72 7.72c-.78.78-.78 2.05 0 2.83L4 21.41c.39.39.9.59 1.41.59.51 0 1.02-.2 1.41-.59l7.78-7.78 2.81-2.81c.8-.78.8-2.07 0-2.86zM5.41 20L4 18.59l7.72-7.72 1.47 1.35L5.41 20z\"/>\n",
              "  </svg>\n",
              "      </button>\n",
              "      \n",
              "  <style>\n",
              "    .colab-df-container {\n",
              "      display:flex;\n",
              "      flex-wrap:wrap;\n",
              "      gap: 12px;\n",
              "    }\n",
              "\n",
              "    .colab-df-convert {\n",
              "      background-color: #E8F0FE;\n",
              "      border: none;\n",
              "      border-radius: 50%;\n",
              "      cursor: pointer;\n",
              "      display: none;\n",
              "      fill: #1967D2;\n",
              "      height: 32px;\n",
              "      padding: 0 0 0 0;\n",
              "      width: 32px;\n",
              "    }\n",
              "\n",
              "    .colab-df-convert:hover {\n",
              "      background-color: #E2EBFA;\n",
              "      box-shadow: 0px 1px 2px rgba(60, 64, 67, 0.3), 0px 1px 3px 1px rgba(60, 64, 67, 0.15);\n",
              "      fill: #174EA6;\n",
              "    }\n",
              "\n",
              "    [theme=dark] .colab-df-convert {\n",
              "      background-color: #3B4455;\n",
              "      fill: #D2E3FC;\n",
              "    }\n",
              "\n",
              "    [theme=dark] .colab-df-convert:hover {\n",
              "      background-color: #434B5C;\n",
              "      box-shadow: 0px 1px 3px 1px rgba(0, 0, 0, 0.15);\n",
              "      filter: drop-shadow(0px 1px 2px rgba(0, 0, 0, 0.3));\n",
              "      fill: #FFFFFF;\n",
              "    }\n",
              "  </style>\n",
              "\n",
              "      <script>\n",
              "        const buttonEl =\n",
              "          document.querySelector('#df-d5c6626f-9734-468a-8c32-be6a94621ca8 button.colab-df-convert');\n",
              "        buttonEl.style.display =\n",
              "          google.colab.kernel.accessAllowed ? 'block' : 'none';\n",
              "\n",
              "        async function convertToInteractive(key) {\n",
              "          const element = document.querySelector('#df-d5c6626f-9734-468a-8c32-be6a94621ca8');\n",
              "          const dataTable =\n",
              "            await google.colab.kernel.invokeFunction('convertToInteractive',\n",
              "                                                     [key], {});\n",
              "          if (!dataTable) return;\n",
              "\n",
              "          const docLinkHtml = 'Like what you see? Visit the ' +\n",
              "            '<a target=\"_blank\" href=https://colab.research.google.com/notebooks/data_table.ipynb>data table notebook</a>'\n",
              "            + ' to learn more about interactive tables.';\n",
              "          element.innerHTML = '';\n",
              "          dataTable['output_type'] = 'display_data';\n",
              "          await google.colab.output.renderOutput(dataTable, element);\n",
              "          const docLink = document.createElement('div');\n",
              "          docLink.innerHTML = docLinkHtml;\n",
              "          element.appendChild(docLink);\n",
              "        }\n",
              "      </script>\n",
              "    </div>\n",
              "  </div>\n",
              "  "
            ],
            "text/plain": [
              "                                              question1  ...    prediction\n",
              "0                is it fine to exercise with knee pain?  ...  2.139866e-03\n",
              "1     suffering from anxiety restlessness and taking...  ...  1.400039e-01\n",
              "2      can a thyroid patient eat soybean and fenugreek?  ...  9.301603e-04\n",
              "3     i am not getting my periods after taking fenug...  ...  5.674534e-06\n",
              "4     kindly suggest me a therapy to overcome heat a...  ...  2.972963e-02\n",
              "...                                                 ...  ...           ...\n",
              "6310  i belive my boyfriend is bipolar or has boderl...  ...  1.949880e-05\n",
              "6311  why do i feel so down when someone makes fun o...  ...  1.384959e-05\n",
              "6312  please help! my fiance is bipolar but will not...  ...  5.200207e-04\n",
              "6313  i constantly have bursts of anger for no reaso...  ...  3.393583e-06\n",
              "6314  hello i'm 20 years old and i've always seemed ...  ...  6.606775e-08\n",
              "\n",
              "[6315 rows x 3 columns]"
            ]
          },
          "metadata": {},
          "execution_count": 78
        }
      ]
    },
    {
      "cell_type": "code",
      "source": [
        "B_sorted = Eval.sort_values([\"prediction\"], ascending='false')\n",
        "B_sorted.tail(10)"
      ],
      "metadata": {
        "id": "_8aHeVo0zqeL",
        "outputId": "3d31cf6b-b09e-43ab-a2cf-26f7b862aa27",
        "colab": {
          "base_uri": "https://localhost:8080/",
          "height": 323
        }
      },
      "execution_count": 80,
      "outputs": [
        {
          "output_type": "execute_result",
          "data": {
            "text/html": [
              "\n",
              "  <div id=\"df-2ffdb5ce-d8f3-48fc-b44c-1bcc3c8fccb8\">\n",
              "    <div class=\"colab-df-container\">\n",
              "      <div>\n",
              "<style scoped>\n",
              "    .dataframe tbody tr th:only-of-type {\n",
              "        vertical-align: middle;\n",
              "    }\n",
              "\n",
              "    .dataframe tbody tr th {\n",
              "        vertical-align: top;\n",
              "    }\n",
              "\n",
              "    .dataframe thead th {\n",
              "        text-align: right;\n",
              "    }\n",
              "</style>\n",
              "<table border=\"1\" class=\"dataframe\">\n",
              "  <thead>\n",
              "    <tr style=\"text-align: right;\">\n",
              "      <th></th>\n",
              "      <th>question1</th>\n",
              "      <th>question2</th>\n",
              "      <th>prediction</th>\n",
              "    </tr>\n",
              "  </thead>\n",
              "  <tbody>\n",
              "    <tr>\n",
              "      <th>3525</th>\n",
              "      <td>fetal echo cardiography done doctors suggested...</td>\n",
              "      <td>i had high pressure?</td>\n",
              "      <td>0.946257</td>\n",
              "    </tr>\n",
              "    <tr>\n",
              "      <th>3527</th>\n",
              "      <td>fetal echo cardiography done doctors suggested...</td>\n",
              "      <td>i had high pressure?</td>\n",
              "      <td>0.946257</td>\n",
              "    </tr>\n",
              "    <tr>\n",
              "      <th>3526</th>\n",
              "      <td>fetal echo cardiography done doctors suggested...</td>\n",
              "      <td>i had high pressure?</td>\n",
              "      <td>0.946257</td>\n",
              "    </tr>\n",
              "    <tr>\n",
              "      <th>3524</th>\n",
              "      <td>fetal echo cardiography done doctors suggested...</td>\n",
              "      <td>i had high pressure?</td>\n",
              "      <td>0.946257</td>\n",
              "    </tr>\n",
              "    <tr>\n",
              "      <th>42</th>\n",
              "      <td>is it true that schizophrenia runs in family?</td>\n",
              "      <td>i had high pressure?</td>\n",
              "      <td>0.964717</td>\n",
              "    </tr>\n",
              "    <tr>\n",
              "      <th>6054</th>\n",
              "      <td>i just overdosed</td>\n",
              "      <td>i had high pressure?</td>\n",
              "      <td>0.966253</td>\n",
              "    </tr>\n",
              "    <tr>\n",
              "      <th>6053</th>\n",
              "      <td>i just overdosed</td>\n",
              "      <td>i had high pressure?</td>\n",
              "      <td>0.966253</td>\n",
              "    </tr>\n",
              "    <tr>\n",
              "      <th>5735</th>\n",
              "      <td>lower stomach is swollen and quite hard breast...</td>\n",
              "      <td>i had high pressure?</td>\n",
              "      <td>0.972986</td>\n",
              "    </tr>\n",
              "    <tr>\n",
              "      <th>392</th>\n",
              "      <td>is mymox used to stop lactation?</td>\n",
              "      <td>i had high pressure?</td>\n",
              "      <td>0.988589</td>\n",
              "    </tr>\n",
              "    <tr>\n",
              "      <th>1895</th>\n",
              "      <td>sinus issues mucous build up in nose and post ...</td>\n",
              "      <td>i had high pressure?</td>\n",
              "      <td>0.994599</td>\n",
              "    </tr>\n",
              "  </tbody>\n",
              "</table>\n",
              "</div>\n",
              "      <button class=\"colab-df-convert\" onclick=\"convertToInteractive('df-2ffdb5ce-d8f3-48fc-b44c-1bcc3c8fccb8')\"\n",
              "              title=\"Convert this dataframe to an interactive table.\"\n",
              "              style=\"display:none;\">\n",
              "        \n",
              "  <svg xmlns=\"http://www.w3.org/2000/svg\" height=\"24px\"viewBox=\"0 0 24 24\"\n",
              "       width=\"24px\">\n",
              "    <path d=\"M0 0h24v24H0V0z\" fill=\"none\"/>\n",
              "    <path d=\"M18.56 5.44l.94 2.06.94-2.06 2.06-.94-2.06-.94-.94-2.06-.94 2.06-2.06.94zm-11 1L8.5 8.5l.94-2.06 2.06-.94-2.06-.94L8.5 2.5l-.94 2.06-2.06.94zm10 10l.94 2.06.94-2.06 2.06-.94-2.06-.94-.94-2.06-.94 2.06-2.06.94z\"/><path d=\"M17.41 7.96l-1.37-1.37c-.4-.4-.92-.59-1.43-.59-.52 0-1.04.2-1.43.59L10.3 9.45l-7.72 7.72c-.78.78-.78 2.05 0 2.83L4 21.41c.39.39.9.59 1.41.59.51 0 1.02-.2 1.41-.59l7.78-7.78 2.81-2.81c.8-.78.8-2.07 0-2.86zM5.41 20L4 18.59l7.72-7.72 1.47 1.35L5.41 20z\"/>\n",
              "  </svg>\n",
              "      </button>\n",
              "      \n",
              "  <style>\n",
              "    .colab-df-container {\n",
              "      display:flex;\n",
              "      flex-wrap:wrap;\n",
              "      gap: 12px;\n",
              "    }\n",
              "\n",
              "    .colab-df-convert {\n",
              "      background-color: #E8F0FE;\n",
              "      border: none;\n",
              "      border-radius: 50%;\n",
              "      cursor: pointer;\n",
              "      display: none;\n",
              "      fill: #1967D2;\n",
              "      height: 32px;\n",
              "      padding: 0 0 0 0;\n",
              "      width: 32px;\n",
              "    }\n",
              "\n",
              "    .colab-df-convert:hover {\n",
              "      background-color: #E2EBFA;\n",
              "      box-shadow: 0px 1px 2px rgba(60, 64, 67, 0.3), 0px 1px 3px 1px rgba(60, 64, 67, 0.15);\n",
              "      fill: #174EA6;\n",
              "    }\n",
              "\n",
              "    [theme=dark] .colab-df-convert {\n",
              "      background-color: #3B4455;\n",
              "      fill: #D2E3FC;\n",
              "    }\n",
              "\n",
              "    [theme=dark] .colab-df-convert:hover {\n",
              "      background-color: #434B5C;\n",
              "      box-shadow: 0px 1px 3px 1px rgba(0, 0, 0, 0.15);\n",
              "      filter: drop-shadow(0px 1px 2px rgba(0, 0, 0, 0.3));\n",
              "      fill: #FFFFFF;\n",
              "    }\n",
              "  </style>\n",
              "\n",
              "      <script>\n",
              "        const buttonEl =\n",
              "          document.querySelector('#df-2ffdb5ce-d8f3-48fc-b44c-1bcc3c8fccb8 button.colab-df-convert');\n",
              "        buttonEl.style.display =\n",
              "          google.colab.kernel.accessAllowed ? 'block' : 'none';\n",
              "\n",
              "        async function convertToInteractive(key) {\n",
              "          const element = document.querySelector('#df-2ffdb5ce-d8f3-48fc-b44c-1bcc3c8fccb8');\n",
              "          const dataTable =\n",
              "            await google.colab.kernel.invokeFunction('convertToInteractive',\n",
              "                                                     [key], {});\n",
              "          if (!dataTable) return;\n",
              "\n",
              "          const docLinkHtml = 'Like what you see? Visit the ' +\n",
              "            '<a target=\"_blank\" href=https://colab.research.google.com/notebooks/data_table.ipynb>data table notebook</a>'\n",
              "            + ' to learn more about interactive tables.';\n",
              "          element.innerHTML = '';\n",
              "          dataTable['output_type'] = 'display_data';\n",
              "          await google.colab.output.renderOutput(dataTable, element);\n",
              "          const docLink = document.createElement('div');\n",
              "          docLink.innerHTML = docLinkHtml;\n",
              "          element.appendChild(docLink);\n",
              "        }\n",
              "      </script>\n",
              "    </div>\n",
              "  </div>\n",
              "  "
            ],
            "text/plain": [
              "                                              question1  ... prediction\n",
              "3525  fetal echo cardiography done doctors suggested...  ...   0.946257\n",
              "3527  fetal echo cardiography done doctors suggested...  ...   0.946257\n",
              "3526  fetal echo cardiography done doctors suggested...  ...   0.946257\n",
              "3524  fetal echo cardiography done doctors suggested...  ...   0.946257\n",
              "42        is it true that schizophrenia runs in family?  ...   0.964717\n",
              "6054                                   i just overdosed  ...   0.966253\n",
              "6053                                   i just overdosed  ...   0.966253\n",
              "5735  lower stomach is swollen and quite hard breast...  ...   0.972986\n",
              "392                    is mymox used to stop lactation?  ...   0.988589\n",
              "1895  sinus issues mucous build up in nose and post ...  ...   0.994599\n",
              "\n",
              "[10 rows x 3 columns]"
            ]
          },
          "metadata": {},
          "execution_count": 80
        }
      ]
    },
    {
      "cell_type": "code",
      "source": [
        "column = Eval[\"prediction\"]\n",
        "max_index = column.idxmax()\n",
        "max_index"
      ],
      "metadata": {
        "id": "EDdonBAozZ9U",
        "outputId": "302ef1f7-35de-418e-a855-2c69eeb29da5",
        "colab": {
          "base_uri": "https://localhost:8080/"
        }
      },
      "execution_count": 79,
      "outputs": [
        {
          "output_type": "execute_result",
          "data": {
            "text/plain": [
              "1895"
            ]
          },
          "metadata": {},
          "execution_count": 79
        }
      ]
    },
    {
      "cell_type": "code",
      "source": [
        "Eval.iloc[[max_index]]"
      ],
      "metadata": {
        "id": "Josk4KQCzgRZ",
        "outputId": "7256aab7-6ddc-41b1-8cb9-8301deaaad91",
        "colab": {
          "base_uri": "https://localhost:8080/",
          "height": 81
        }
      },
      "execution_count": 81,
      "outputs": [
        {
          "output_type": "execute_result",
          "data": {
            "text/html": [
              "\n",
              "  <div id=\"df-2b806e6c-f034-4ad6-a408-7b425a3eb3c2\">\n",
              "    <div class=\"colab-df-container\">\n",
              "      <div>\n",
              "<style scoped>\n",
              "    .dataframe tbody tr th:only-of-type {\n",
              "        vertical-align: middle;\n",
              "    }\n",
              "\n",
              "    .dataframe tbody tr th {\n",
              "        vertical-align: top;\n",
              "    }\n",
              "\n",
              "    .dataframe thead th {\n",
              "        text-align: right;\n",
              "    }\n",
              "</style>\n",
              "<table border=\"1\" class=\"dataframe\">\n",
              "  <thead>\n",
              "    <tr style=\"text-align: right;\">\n",
              "      <th></th>\n",
              "      <th>question1</th>\n",
              "      <th>question2</th>\n",
              "      <th>prediction</th>\n",
              "    </tr>\n",
              "  </thead>\n",
              "  <tbody>\n",
              "    <tr>\n",
              "      <th>1895</th>\n",
              "      <td>sinus issues mucous build up in nose and post ...</td>\n",
              "      <td>i had high pressure?</td>\n",
              "      <td>0.994599</td>\n",
              "    </tr>\n",
              "  </tbody>\n",
              "</table>\n",
              "</div>\n",
              "      <button class=\"colab-df-convert\" onclick=\"convertToInteractive('df-2b806e6c-f034-4ad6-a408-7b425a3eb3c2')\"\n",
              "              title=\"Convert this dataframe to an interactive table.\"\n",
              "              style=\"display:none;\">\n",
              "        \n",
              "  <svg xmlns=\"http://www.w3.org/2000/svg\" height=\"24px\"viewBox=\"0 0 24 24\"\n",
              "       width=\"24px\">\n",
              "    <path d=\"M0 0h24v24H0V0z\" fill=\"none\"/>\n",
              "    <path d=\"M18.56 5.44l.94 2.06.94-2.06 2.06-.94-2.06-.94-.94-2.06-.94 2.06-2.06.94zm-11 1L8.5 8.5l.94-2.06 2.06-.94-2.06-.94L8.5 2.5l-.94 2.06-2.06.94zm10 10l.94 2.06.94-2.06 2.06-.94-2.06-.94-.94-2.06-.94 2.06-2.06.94z\"/><path d=\"M17.41 7.96l-1.37-1.37c-.4-.4-.92-.59-1.43-.59-.52 0-1.04.2-1.43.59L10.3 9.45l-7.72 7.72c-.78.78-.78 2.05 0 2.83L4 21.41c.39.39.9.59 1.41.59.51 0 1.02-.2 1.41-.59l7.78-7.78 2.81-2.81c.8-.78.8-2.07 0-2.86zM5.41 20L4 18.59l7.72-7.72 1.47 1.35L5.41 20z\"/>\n",
              "  </svg>\n",
              "      </button>\n",
              "      \n",
              "  <style>\n",
              "    .colab-df-container {\n",
              "      display:flex;\n",
              "      flex-wrap:wrap;\n",
              "      gap: 12px;\n",
              "    }\n",
              "\n",
              "    .colab-df-convert {\n",
              "      background-color: #E8F0FE;\n",
              "      border: none;\n",
              "      border-radius: 50%;\n",
              "      cursor: pointer;\n",
              "      display: none;\n",
              "      fill: #1967D2;\n",
              "      height: 32px;\n",
              "      padding: 0 0 0 0;\n",
              "      width: 32px;\n",
              "    }\n",
              "\n",
              "    .colab-df-convert:hover {\n",
              "      background-color: #E2EBFA;\n",
              "      box-shadow: 0px 1px 2px rgba(60, 64, 67, 0.3), 0px 1px 3px 1px rgba(60, 64, 67, 0.15);\n",
              "      fill: #174EA6;\n",
              "    }\n",
              "\n",
              "    [theme=dark] .colab-df-convert {\n",
              "      background-color: #3B4455;\n",
              "      fill: #D2E3FC;\n",
              "    }\n",
              "\n",
              "    [theme=dark] .colab-df-convert:hover {\n",
              "      background-color: #434B5C;\n",
              "      box-shadow: 0px 1px 3px 1px rgba(0, 0, 0, 0.15);\n",
              "      filter: drop-shadow(0px 1px 2px rgba(0, 0, 0, 0.3));\n",
              "      fill: #FFFFFF;\n",
              "    }\n",
              "  </style>\n",
              "\n",
              "      <script>\n",
              "        const buttonEl =\n",
              "          document.querySelector('#df-2b806e6c-f034-4ad6-a408-7b425a3eb3c2 button.colab-df-convert');\n",
              "        buttonEl.style.display =\n",
              "          google.colab.kernel.accessAllowed ? 'block' : 'none';\n",
              "\n",
              "        async function convertToInteractive(key) {\n",
              "          const element = document.querySelector('#df-2b806e6c-f034-4ad6-a408-7b425a3eb3c2');\n",
              "          const dataTable =\n",
              "            await google.colab.kernel.invokeFunction('convertToInteractive',\n",
              "                                                     [key], {});\n",
              "          if (!dataTable) return;\n",
              "\n",
              "          const docLinkHtml = 'Like what you see? Visit the ' +\n",
              "            '<a target=\"_blank\" href=https://colab.research.google.com/notebooks/data_table.ipynb>data table notebook</a>'\n",
              "            + ' to learn more about interactive tables.';\n",
              "          element.innerHTML = '';\n",
              "          dataTable['output_type'] = 'display_data';\n",
              "          await google.colab.output.renderOutput(dataTable, element);\n",
              "          const docLink = document.createElement('div');\n",
              "          docLink.innerHTML = docLinkHtml;\n",
              "          element.appendChild(docLink);\n",
              "        }\n",
              "      </script>\n",
              "    </div>\n",
              "  </div>\n",
              "  "
            ],
            "text/plain": [
              "                                              question1  ... prediction\n",
              "1895  sinus issues mucous build up in nose and post ...  ...   0.994599\n",
              "\n",
              "[1 rows x 3 columns]"
            ]
          },
          "metadata": {},
          "execution_count": 81
        }
      ]
    },
    {
      "cell_type": "code",
      "source": [
        "all_medical_df.iloc[[max_index]]"
      ],
      "metadata": {
        "id": "SwdQoH00zxZJ",
        "outputId": "4a7cf3b2-ac79-478e-d053-2b835b5f5dc5",
        "colab": {
          "base_uri": "https://localhost:8080/",
          "height": 144
        }
      },
      "execution_count": 82,
      "outputs": [
        {
          "output_type": "execute_result",
          "data": {
            "text/html": [
              "\n",
              "  <div id=\"df-39af3d74-fc25-41a3-8dd2-e71d055649b8\">\n",
              "    <div class=\"colab-df-container\">\n",
              "      <div>\n",
              "<style scoped>\n",
              "    .dataframe tbody tr th:only-of-type {\n",
              "        vertical-align: middle;\n",
              "    }\n",
              "\n",
              "    .dataframe tbody tr th {\n",
              "        vertical-align: top;\n",
              "    }\n",
              "\n",
              "    .dataframe thead th {\n",
              "        text-align: right;\n",
              "    }\n",
              "</style>\n",
              "<table border=\"1\" class=\"dataframe\">\n",
              "  <thead>\n",
              "    <tr style=\"text-align: right;\">\n",
              "      <th></th>\n",
              "      <th>answer</th>\n",
              "      <th>question</th>\n",
              "      <th>tags</th>\n",
              "    </tr>\n",
              "  </thead>\n",
              "  <tbody>\n",
              "    <tr>\n",
              "      <th>1895</th>\n",
              "      <td>hi assuming you have polyps if you tried stero...</td>\n",
              "      <td>sinus issues mucous build up in nose and post ...</td>\n",
              "      <td>[sinus issues mucous build up in nose]</td>\n",
              "    </tr>\n",
              "  </tbody>\n",
              "</table>\n",
              "</div>\n",
              "      <button class=\"colab-df-convert\" onclick=\"convertToInteractive('df-39af3d74-fc25-41a3-8dd2-e71d055649b8')\"\n",
              "              title=\"Convert this dataframe to an interactive table.\"\n",
              "              style=\"display:none;\">\n",
              "        \n",
              "  <svg xmlns=\"http://www.w3.org/2000/svg\" height=\"24px\"viewBox=\"0 0 24 24\"\n",
              "       width=\"24px\">\n",
              "    <path d=\"M0 0h24v24H0V0z\" fill=\"none\"/>\n",
              "    <path d=\"M18.56 5.44l.94 2.06.94-2.06 2.06-.94-2.06-.94-.94-2.06-.94 2.06-2.06.94zm-11 1L8.5 8.5l.94-2.06 2.06-.94-2.06-.94L8.5 2.5l-.94 2.06-2.06.94zm10 10l.94 2.06.94-2.06 2.06-.94-2.06-.94-.94-2.06-.94 2.06-2.06.94z\"/><path d=\"M17.41 7.96l-1.37-1.37c-.4-.4-.92-.59-1.43-.59-.52 0-1.04.2-1.43.59L10.3 9.45l-7.72 7.72c-.78.78-.78 2.05 0 2.83L4 21.41c.39.39.9.59 1.41.59.51 0 1.02-.2 1.41-.59l7.78-7.78 2.81-2.81c.8-.78.8-2.07 0-2.86zM5.41 20L4 18.59l7.72-7.72 1.47 1.35L5.41 20z\"/>\n",
              "  </svg>\n",
              "      </button>\n",
              "      \n",
              "  <style>\n",
              "    .colab-df-container {\n",
              "      display:flex;\n",
              "      flex-wrap:wrap;\n",
              "      gap: 12px;\n",
              "    }\n",
              "\n",
              "    .colab-df-convert {\n",
              "      background-color: #E8F0FE;\n",
              "      border: none;\n",
              "      border-radius: 50%;\n",
              "      cursor: pointer;\n",
              "      display: none;\n",
              "      fill: #1967D2;\n",
              "      height: 32px;\n",
              "      padding: 0 0 0 0;\n",
              "      width: 32px;\n",
              "    }\n",
              "\n",
              "    .colab-df-convert:hover {\n",
              "      background-color: #E2EBFA;\n",
              "      box-shadow: 0px 1px 2px rgba(60, 64, 67, 0.3), 0px 1px 3px 1px rgba(60, 64, 67, 0.15);\n",
              "      fill: #174EA6;\n",
              "    }\n",
              "\n",
              "    [theme=dark] .colab-df-convert {\n",
              "      background-color: #3B4455;\n",
              "      fill: #D2E3FC;\n",
              "    }\n",
              "\n",
              "    [theme=dark] .colab-df-convert:hover {\n",
              "      background-color: #434B5C;\n",
              "      box-shadow: 0px 1px 3px 1px rgba(0, 0, 0, 0.15);\n",
              "      filter: drop-shadow(0px 1px 2px rgba(0, 0, 0, 0.3));\n",
              "      fill: #FFFFFF;\n",
              "    }\n",
              "  </style>\n",
              "\n",
              "      <script>\n",
              "        const buttonEl =\n",
              "          document.querySelector('#df-39af3d74-fc25-41a3-8dd2-e71d055649b8 button.colab-df-convert');\n",
              "        buttonEl.style.display =\n",
              "          google.colab.kernel.accessAllowed ? 'block' : 'none';\n",
              "\n",
              "        async function convertToInteractive(key) {\n",
              "          const element = document.querySelector('#df-39af3d74-fc25-41a3-8dd2-e71d055649b8');\n",
              "          const dataTable =\n",
              "            await google.colab.kernel.invokeFunction('convertToInteractive',\n",
              "                                                     [key], {});\n",
              "          if (!dataTable) return;\n",
              "\n",
              "          const docLinkHtml = 'Like what you see? Visit the ' +\n",
              "            '<a target=\"_blank\" href=https://colab.research.google.com/notebooks/data_table.ipynb>data table notebook</a>'\n",
              "            + ' to learn more about interactive tables.';\n",
              "          element.innerHTML = '';\n",
              "          dataTable['output_type'] = 'display_data';\n",
              "          await google.colab.output.renderOutput(dataTable, element);\n",
              "          const docLink = document.createElement('div');\n",
              "          docLink.innerHTML = docLinkHtml;\n",
              "          element.appendChild(docLink);\n",
              "        }\n",
              "      </script>\n",
              "    </div>\n",
              "  </div>\n",
              "  "
            ],
            "text/plain": [
              "                                                 answer  ...                                    tags\n",
              "1895  hi assuming you have polyps if you tried stero...  ...  [sinus issues mucous build up in nose]\n",
              "\n",
              "[1 rows x 3 columns]"
            ]
          },
          "metadata": {},
          "execution_count": 82
        }
      ]
    },
    {
      "cell_type": "code",
      "source": [
        ""
      ],
      "metadata": {
        "id": "byZlRvuXz3Gs"
      },
      "execution_count": null,
      "outputs": []
    }
  ]
}
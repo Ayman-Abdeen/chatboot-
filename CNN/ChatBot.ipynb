{
  "cells": [
    {
      "cell_type": "markdown",
      "metadata": {
        "id": "view-in-github",
        "colab_type": "text"
      },
      "source": [
        "<a href=\"https://colab.research.google.com/github/Ayman-Abdeen/chatboot-/blob/main/CNN/ChatBot.ipynb\" target=\"_parent\"><img src=\"https://colab.research.google.com/assets/colab-badge.svg\" alt=\"Open In Colab\"/></a>"
      ]
    },
    {
      "cell_type": "code",
      "execution_count": 1,
      "metadata": {
        "id": "YUXZOWMl6vCc"
      },
      "outputs": [],
      "source": [
        "import numpy as np\n",
        "import nltk\n",
        "from nltk.stem.porter import PorterStemmer\n",
        "\n",
        "import random\n",
        "import json\n",
        "\n",
        "import torch\n",
        "import torch.nn as nn\n",
        "from torch.utils.data import Dataset, DataLoader\n",
        "from torchsummary import summary\n"
      ]
    },
    {
      "cell_type": "markdown",
      "source": [
        ""
      ],
      "metadata": {
        "id": "Gkal4dHHKKOb"
      }
    },
    {
      "cell_type": "code",
      "execution_count": 2,
      "metadata": {
        "colab": {
          "base_uri": "https://localhost:8080/",
          "height": 35
        },
        "id": "YgkPywaI-EUr",
        "outputId": "0d06075a-e30f-494f-ef11-72bfaebe5f1f"
      },
      "outputs": [
        {
          "output_type": "execute_result",
          "data": {
            "application/vnd.google.colaboratory.intrinsic+json": {
              "type": "string"
            },
            "text/plain": [
              "'3.2.5'"
            ]
          },
          "metadata": {},
          "execution_count": 2
        }
      ],
      "source": [
        "nltk.__version__ "
      ]
    },
    {
      "cell_type": "code",
      "execution_count": 3,
      "metadata": {
        "colab": {
          "base_uri": "https://localhost:8080/",
          "height": 35
        },
        "id": "mnQh2b099xIn",
        "outputId": "d951bf26-4682-485f-d0af-1181a50ed5d9"
      },
      "outputs": [
        {
          "output_type": "execute_result",
          "data": {
            "application/vnd.google.colaboratory.intrinsic+json": {
              "type": "string"
            },
            "text/plain": [
              "'1.10.0+cu111'"
            ]
          },
          "metadata": {},
          "execution_count": 3
        }
      ],
      "source": [
        "torch.__version__"
      ]
    },
    {
      "cell_type": "code",
      "execution_count": 4,
      "metadata": {
        "colab": {
          "base_uri": "https://localhost:8080/"
        },
        "id": "WhqeU0sf7el2",
        "outputId": "767d7ad8-6b90-46a6-f5d5-d40e8aaadf98"
      },
      "outputs": [
        {
          "output_type": "stream",
          "name": "stdout",
          "text": [
            "[nltk_data] Downloading package punkt to /root/nltk_data...\n",
            "[nltk_data]   Unzipping tokenizers/punkt.zip.\n"
          ]
        },
        {
          "output_type": "execute_result",
          "data": {
            "text/plain": [
              "True"
            ]
          },
          "metadata": {},
          "execution_count": 4
        }
      ],
      "source": [
        "nltk.download('punkt')"
      ]
    },
    {
      "cell_type": "code",
      "execution_count": 5,
      "metadata": {
        "id": "6UzFGSep7hnT"
      },
      "outputs": [],
      "source": [
        "stemmer = PorterStemmer()"
      ]
    },
    {
      "cell_type": "code",
      "execution_count": 5,
      "metadata": {
        "id": "sYYdQPaGNEXr"
      },
      "outputs": [],
      "source": [
        ""
      ]
    },
    {
      "cell_type": "markdown",
      "metadata": {
        "id": "jkB8n-UF8uki"
      },
      "source": [
        "tokenize --> lower+stem --> exclude punctuation characters --> bag of words\n"
      ]
    },
    {
      "cell_type": "markdown",
      "metadata": {
        "id": "CHPcvZn18ycJ"
      },
      "source": [
        "Tokenize"
      ]
    },
    {
      "cell_type": "code",
      "execution_count": 6,
      "metadata": {
        "id": "sNpyp50Z8v4G"
      },
      "outputs": [],
      "source": [
        "def tokenize(sentence):\n",
        "    return nltk.word_tokenize(sentence)\n"
      ]
    },
    {
      "cell_type": "code",
      "execution_count": 7,
      "metadata": {
        "id": "xPTodDYS87wJ"
      },
      "outputs": [],
      "source": [
        "def stem(word):\n",
        "    return stemmer.stem(word.lower())\n"
      ]
    },
    {
      "cell_type": "code",
      "execution_count": 8,
      "metadata": {
        "id": "L62r7m8_9D9y"
      },
      "outputs": [],
      "source": [
        "def bag_of_words(tokenized_sentence, words):\n",
        "    # stem each word\n",
        "    sentence_words = [stem(word) for word in tokenized_sentence]\n",
        "    # initialize bag with 0 for each word\n",
        "    bag = np.zeros(len(words), dtype=np.float32)\n",
        "    for idx, w in enumerate(words):\n",
        "        if w in sentence_words: \n",
        "            bag[idx] = 1\n",
        "\n",
        "    return bag"
      ]
    },
    {
      "cell_type": "code",
      "execution_count": 9,
      "metadata": {
        "colab": {
          "base_uri": "https://localhost:8080/"
        },
        "id": "49rn1ly49O_R",
        "outputId": "a28ad549-2515-4c55-bd46-94dbee42995a"
      },
      "outputs": [
        {
          "output_type": "stream",
          "name": "stdout",
          "text": [
            "split sentence into array of words,tokens\n",
            "['split', 'sentence', 'into', 'array', 'of', 'words', ',', 'tokens']\n"
          ]
        }
      ],
      "source": [
        "a=\"split sentence into array of words,tokens\"\n",
        "print(a)\n",
        "a=tokenize(a)\n",
        "print(a)"
      ]
    },
    {
      "cell_type": "code",
      "execution_count": 10,
      "metadata": {
        "colab": {
          "base_uri": "https://localhost:8080/"
        },
        "id": "xP1hhM219TmW",
        "outputId": "c607dca2-3a2b-45bc-cef8-4b96ec307f13"
      },
      "outputs": [
        {
          "output_type": "stream",
          "name": "stdout",
          "text": [
            "['organ', 'organ', 'organ']\n"
          ]
        }
      ],
      "source": [
        "words = [\"Organize\", \"organizes\", \"organizing\"]\n",
        "stemmed_words = [stem(w) for w in words]\n",
        "print(stemmed_words)"
      ]
    },
    {
      "cell_type": "markdown",
      "metadata": {
        "id": "1gIylBjN-Ofp"
      },
      "source": [
        "Create training data"
      ]
    },
    {
      "cell_type": "code",
      "execution_count": 11,
      "metadata": {
        "id": "PNHsUlGE9c7K"
      },
      "outputs": [],
      "source": [
        "with open('intents.json', 'r') as f:\n",
        "    intents = json.load(f)\n"
      ]
    },
    {
      "cell_type": "code",
      "execution_count": 12,
      "metadata": {
        "colab": {
          "base_uri": "https://localhost:8080/"
        },
        "id": "1AZsws54-ZbZ",
        "outputId": "85ff57ff-0680-486d-9600-10799cf03a0d"
      },
      "outputs": [
        {
          "output_type": "stream",
          "name": "stdout",
          "text": [
            "{'intents': [{'tag': 'greeting', 'patterns': ['Hi', 'Hey', 'How are you', 'Is anyone there?', 'Hello', 'Good day'], 'responses': ['Hey :-)', 'Hello, thanks for visiting', 'Hi there, what can I do for you?', 'Hi there, how can I help?']}, {'tag': 'goodbye', 'patterns': ['Bye', 'See you later', 'Goodbye'], 'responses': ['See you later, thanks for visiting', 'Have a nice day', 'Bye! Come back again soon.']}, {'tag': 'thanks', 'patterns': ['Thanks', 'Thank you', \"That's helpful\", \"Thank's a lot!\"], 'responses': ['Happy to help!', 'Any time!', 'My pleasure']}, {'tag': 'funny', 'patterns': ['Tell me a joke!', 'Tell me something funny!', 'Do you know a joke?'], 'responses': ['Why did the hipster burn his mouth? He drank the coffee before it was cool.', 'What did the buffalo say when his son left for college? Bison.']}, {'tag': 'Cuts', 'patterns': ['What to do if Cuts?', 'How to cure Cuts?', 'Which medicine to apply for Cuts?', 'what to apply on cuts?', 'Cuts'], 'responses': ['Wash the cut properly to prevent infection and stop the bleeding by applying pressure for 1-2minutes until bleeding stops. Apply Petroleum Jelly to make sure that the wound is moist for quick healing. Finally cover the cut with a sterile bandage. Pain relievers such as acetaminophen can be applied.']}, {'tag': 'Abrasions', 'patterns': ['how do you treat abrasions?', 'Do Abrasions cause scars?', 'Abrasions', 'what to do if abrasions?', 'Which medicine to apply for abrasions?', 'How to cure abrasions?'], 'responses': ['Begin with washed hands.Gently clean the area with cool to lukewarm water and mild soap. Remove dirt or other particles from the wound using sterilized tweezers.For a mild scrape that’s not bleeding, leave the wound uncovered.If the wound is bleeding, use a clean cloth or bandage, and apply gentle pressure to the area to stop any bleeding.Cover a wound that bled with a thin layer of topical antibiotic ointment, like Bacitracin, or a sterile moisture barrier ointment, like Aquaphor. Cover it with a clean bandage or gauze. Gently clean the wound and change the ointment and bandage once per day.Watch the area for signs of infection, like pain or redness and swelling. See your doctor if you suspect infection.']}, {'tag': 'stings', 'patterns': ['How do you treat Sting?', 'Stings', 'What to do if you get a sting?', 'Which medicine to apply if sting?'], 'responses': ['Remove any stingers immediately. Some experts recommend scraping out the stinger with a credit card. Applying ice to the site may provide some mild relief. Apply ice for 20 minutes once every hour as needed. Wrap the ice in a towel or keep a cloth between the ice and skin to keep from freezing the skin. Taking an antihistamine such as diphenhydramine (Benadryl) or a nonsedating one such as loratadine (Claritin) will help with itching and swelling. Take acetaminophen (Tylenol) or ibuprofen (Motrin)for pain relief as needed. Wash the sting site with soap and water. Placing hydrocortisone cream on the sting can help relieve redness, itching, and swelling.']}, {'tag': 'Splinter', 'patterns': ['How to remove Splinters', 'How to cure Splinters?', 'What to do if I have splinters?', 'How do you bring a splinter to the surface?'], 'responses': ['1. SOAK IT IN EPSOM SALTS. Dissolve a cup of the salts into a warm bath and soak whatever part of the body has the splinter. Failing that, you can also put some of the salts onto a bandage pad and leave it covered for a day; this will eventually help bring the splinter to the surface. 2. VINEGAR OR OIL. Another simple way to draw out that stubborn splinter is to soak the affected area in oil (olive or corn) or white vinegar. Just pour some in a bowl and soak the area for around 20 to 30 minutes,']}, {'tag': 'Sprains', 'patterns': ['How do you treat a sprain?', 'what to do if i get a sprain?', 'Which cream to apply if i get a sprain?', 'Which medicine to apply if I get a sprain?'], 'responses': [\"Use an ice pack or ice slush bath immediately for 15 to 20 minutes and repeat every two to three hours while you're awake. To help stop swelling, compress the ankle with an elastic bandage until the swelling stops. In most cases, pain relievers — such as ibuprofen (Advil, Motrin IB, others) or naproxen sodium (Aleve, others) or acetaminophen (Tylenol, others) are enough to manage the pain of a sprained ankle.\"]}, {'tag': 'Strains', 'patterns': ['How do you treat a strain?', 'what to do if i get a strain?', 'Which cream to apply if i get a strain?', 'Which medicine to apply if I get a strain?', 'How do you diagnose a strain?', 'Is heat or ice better for a pulled muscle?'], 'responses': ['Rest,Ice,Compression and Elevation can be used to cure strains. Avoid using your muscle for a few days, especially if movement causes an increase in pain and also Apply ice immediately after injuring your muscle. This will minimize swelling. Don’t put ice directly on your skin. Use an ice pack or wrap ice in a towel. To reduce swelling, wrap the affected area with an elastic bandage until swelling comes down.']}, {'tag': 'Fever', 'patterns': ['How do you treat a mild Fever?', 'what to do if i get a mild fever?', 'Which medicine to take if I get a mild fever?', 'fever'], 'responses': ['To treat a fever at home: 1)Drink plenty of fluids to stay hydrated. 2)Dress in lightweight clothing. 3)Use a light blanket if you feel chilled, until the chills end. 4)Take acetaminophen (Tylenol, others) or ibuprofen (Advil, Motrin IB, others). 5) Get medical help if the fever lasts more than five days in a row.']}, {'tag': 'Nasal Congestion', 'patterns': ['How do you treat nasal Congestion?', 'what to do if i get a nasal congestion?', 'Which medicine to take if I have a nasal congestion?', 'what to do if i have a blocked nose?', 'How do you treat a blocked nose?', 'How long does nasal congestion last?'], 'responses': ['When you’re stuffed up, focus on keeping your nasal passages and sinuses moist. To keep your nasal passages moist, you can: 1)Use a humidifier or vaporizer. 2)Drink lots of fluids. This will thin out your mucus, which could help prevent blocked sinuses. 3)Place a warm, wet towel on your face. It may relieve discomfort and open your nasal passages.']}, {'tag': 'Cough', 'patterns': ['How to cure cough?', 'How do you treat cough?', 'what to do if i get a cough?', 'Which medicine to take if I get cough?', 'How do you get rid of cough?'], 'responses': ['1) Honey:- Use honey to treat a cough, mix 2 teaspoons (tsp) with warm water or an herbal tea. Drink this mixture once or twice a day. Do not give honey to children under 1 year of age. 2) Ginger:- Brew up a soothing ginger tea by adding 20–40 grams (g) of fresh ginger slices to a cup of hot water. Allow to steep for a few minutes before drinking. Add honey or lemon juice to improve the taste and further soothe a cough. 3) Fluids:- Staying hydrated is vital for those with a cough or cold. Research indicates that drinking liquids at room temperature can alleviate a cough, runny nose, and sneezing.']}, {'tag': 'Sore Throat', 'patterns': ['How do you treat sore throat?', 'what to do if i get a sore throat?', 'Which medicine to take if I get a sore throat?', 'How to cure sore throat?'], 'responses': ['1) Make sure you get plenty of rest and drink a lot of fluids. 2)Inhale steam,Run hot water in a sink.Drape a towel over you to trap the steam, and have the person lean over the sink with the water running. Tell him to breathe deeply through his mouth and nose for 5 to 10 minutes. Repeat several times a day. 3)Have him sip chicken broth or warm tea with honey. Don’t give honey to a child under 12 months of age.']}, {'tag': 'Gastrointestinal problems', 'patterns': ['How do you treat gas problems?', 'what to do if i have Gastrointestinal problems?', 'Which medicine to take if I get gas problem?', 'How to cure Gas problems?'], 'responses': ['1) Replenish body fluids 2)Do not take antidiarrheal drugs or laxatives or pain medication, unless specified by a medical professional.3)Taking antacids may help, per recommendation of a healthcare professional. 4)If prone to frequent heartburns, seek medical help. 5)Taking meals that are not spicy regularly, can relieve ulcer pains. 6)Seek medical help, if conditions persist or continue to worsen']}, {'tag': 'Skin problems', 'patterns': ['How do you treat Skin problems?', 'what to do if i get a skin allergy?', 'Which medicine to take if I get a skin allergy?', 'How to cure skin allergy?'], 'responses': [\"1)Hydrocortisone cream. 2)Ointments like calamine lotion. 3)Antihistamines. 4)Cold compresses. 5)Oatmeal baths. 6)Talk to your doctor about what's best for your specific rash.\"]}, {'tag': 'Abdonominal Pain', 'patterns': ['How do you treat Abdonominal Pain?', 'what to do if i get a Abdonominal Pain?', 'Which medicine to take if I get a Abdonominal Pain?', 'How to cure Abdonominal Pain?'], 'responses': ['1)Provide clear fluids to sip, such as water, broth, or fruit juice diluted with water. 2)Serve bland foods, such as saltine crackers, plain bread, dry toast, rice, gelatin, or applesauce. 3)Avoid spicy or greasy foods and caffeinated or carbonated drinks until 48 hours after all symptoms have gone away. ']}, {'tag': 'Bruises', 'patterns': ['How do you treat Bruises?', 'what to do if i get a Bruise?', 'Which medicine to take if I get a Bruise?', 'How to cure Bruises?'], 'responses': ['1)Ice the bruise with an ice pack wrapped in a towel. 2)Leave it in place for 10 to 20 minutes. 3)Repeat several times a day for a day or two as needed. 4)Compress the bruised area if it is swelling, using an elastic bandage. ']}, {'tag': 'Broken Toe', 'patterns': ['How do you treat a Broken Toe?', 'what to do if i get a Broken Toe?', 'Which medicine to take if I get a Broken Toe?', 'How to cure Broken Toe?'], 'responses': ['1)To help decrease pain and swelling in a broken toe, elevate the foot, ice the injury, and stay off the foot. 2)Depending on the severity of the fracture, the toe may need to be put back into place (reduced), and some compound toe fractures may require surgery.3) Most broken toes heal without complications in six weeks.']}, {'tag': 'Choking', 'patterns': ['How do you treat Choking?', 'what to do if i get a Choke?', 'Which medicine to take if I get Choked?', 'How to cure Choking?'], 'responses': [\"1)Encourage them to keep coughing to try to clear the blockage. 2)Ask them to try to spit out the object if it's in their mouth. 3)If coughing doesn't work, start back blows and Abdonominal thrusts\"]}, {'tag': 'Wound', 'patterns': ['How do you treat a wound?', 'what to do if i get a Wound?', 'Which medicine to take if I get wounded?', 'How to cure a wound?'], 'responses': ['1)Rinse the cut or wound with water and apply pressure with sterile gauze, a bandage, or a clean cloth. 2)If blood soaks through the bandage, place another bandage on top of the first and keep applying pressure. 3)Raise the injured body part to slow bleeding. 4)When bleeding stops, cover the wound with a new, clean bandage.']}, {'tag': 'Diarrhea', 'patterns': ['How do you treat Diarrhea?', 'what to do if i get Diarrhea?', 'Which medicine to take if I get Diarrhea?', 'How to cure Diarrhea?'], 'responses': ['1)Hydrating the body is essential for recovering from diarrhea.This causes the body to lose electrolytes such as sodium and chloride. 2)It is highly recommended to avoid dairy products, as they may worsen diarrhea in some people. 3)However, if diarrhea lasts for more than 2 days, seek medical advice to avoid complications.']}, {'tag': 'Frost bite', 'patterns': ['How do you treat a Frost bite?', 'what to do if i get a Frost bite?', 'Which medicine to take if I get a Frost bite?', 'How to cure Frost bite?'], 'responses': [\"1)Get out of the cold. Once you're in a warm space, remove wet clothes and wrap up in a warm blanket. 2) Gently rewarm frostbitten areas. Soak frostbitten fingers, toes or other extremities in warm water — 105 to 110 F (about 40 to 43 C). If a thermometer isn't available, test the water by placing an uninjured hand or elbow in it — it should feel very warm, not hot. Soak for 20 to 30 minutes or until the skin becomes its normal color or loses its numbness. For the face or ears, apply a warm, wet washcloth. \"]}, {'tag': 'Heat Exhaustion', 'patterns': ['How do you treat Heat Exhaustion?', 'what to do if i feel Exhausted due to heat?', 'Which medicine to take if I get Exhausted?', 'How to cure Heat Exhaustion?'], 'responses': ['1)Move the person out of the heat and into a shady or air-conditioned place. Lay the person down and elevate the legs and feet slightly. Remove tight or heavy clothing. Have the person drink cool water or other nonalcoholic beverage without caffeine ']}, {'tag': 'Heat Stroke', 'patterns': ['How do you treat Heat Stroke?', 'what to do if i get a Heat Stroke?', 'Which medicine to take if I get Stroke?', 'How to cure a Heat Stroke?'], 'responses': [\"1)Cool the person's entire body by sponging or spraying cold water, and fan the person to help lower the person's body temperature. Watch for signs of rapidly progressing heatstroke, such as seizure, unconsciousness for longer than a few seconds, and moderate to severe difficulty breathing. \"]}, {'tag': 'Insect Bites', 'patterns': ['How do you treat a Insect Bite?', 'what to do if a insect bites me?', 'Which medicine to take if I get bitten by a insect?', 'How to cure insect bite?'], 'responses': ['1) Wash the affected area with soap and water. Apply a cold compress (such as a flannel or cloth cooled with cold water) or an ice pack to any swelling for at least 10 minutes. Raise or elevate the affected area if possible, as this can help reduce swelling. ']}, {'tag': 'nose bleed', 'patterns': ['How do you treat a bleeding nose?', 'what to do if i my nose is bleeding?', 'Which medicine to take if I get nose bleed?', 'How to cure nose bleeding?'], 'responses': ['1) Wash the affected area with soap and water. Apply a cold compress (such as a flannel or cloth cooled with cold water) or an ice pack to any swelling for at least 10 minutes. Raise or elevate the affected area if possible, as this can help reduce swelling ']}, {'tag': 'Pulled Muscle', 'patterns': ['How do you treat a Pulled Muscle?', 'what to do if my muscle is pulled?', 'Which medicine to take if I got pulled muscle?', 'How to cure a pulled muscle?'], 'responses': ['1) Apply ice for 10 to 15 minutes every 1 hour for the first day and every 3 to 4 hours after that. Use ice for the first 3 days. After 3 days, either heat or ice may be helpful if you still have pain. Rest the pulled muscle for at least a day. ']}, {'tag': 'Rectal bleeding', 'patterns': ['How do you treat Rectal Bleeding?', 'what to do if i get a Rectal Bleeding?', 'Which medicine to take if I get Rectal Bleeding?', 'How to cure Rectal Bleeding?'], 'responses': ['1) For minimal bleeding due to hemorrhoids or rectal fissures, physicians will usually direct home treatment with lots of water, ice packs and possibly over the counter ointments or suppositories to create movement in the bowels or to soften the stool. Emergency treatment might include an IV in the case of dehydration. ']}, {'tag': 'Sun Burn', 'patterns': ['How do you treat Sun Burn?', 'what to do if i get a Sun Burn?', 'Which medicine to take if I get Sun Burn?', 'How to cure a Sun Burn?'], 'responses': ['1) Cool the skin, 2) Drink water to prevent dehydration., 3) Take a pain reliever such as ibuprofen (Advil, Motrin IB, others) to help with the discomfort and swelling of sunburn. ']}, {'tag': 'Testicle Pain', 'patterns': ['How do you treat Testicle Pain?', 'what to do if i get a Testicle Pain?', 'Which medicine to take if I get a Testicle Pain?', 'How to cure Testicle Pain?'], 'responses': ['1) For pain, take over-the-counter medication such as acetaminophen (Tylenol) or ibuprofen (Advil, Motrin). For swelling, apply an ice pack to the scrotum. ']}, {'tag': 'Vertigo', 'patterns': ['How do you treat a Vertigo?', 'what to do if i get a Vertigo?', 'Which medicine to take if I get Vertigo?', 'How to cure a Vertigo?'], 'responses': ['1) Relieve or Prevent Dizziness. Have the person lie down and rest, 2) Keep the Person Safe. Help the person avoid falls, 3) Call a Health Care Provider. Any new signs and symptoms of vertigo should be checked by a health care provider.']}, {'tag': 'Normal Bleeding', 'patterns': ['How do you treat bleeding?', 'what to do if i get a Bleeding?', 'Which medicine to take if I get bleeding?', 'How to cure Bleeding?'], 'responses': ['1) First aid actions to manage external bleeding include applying direct pressure to the wound, maintaining the pressure using pads and bandages, and, raising the injured limb above the level of the heart if possible. ']}, {'tag': 'Eye Injury', 'patterns': ['How do you treat an eye Injury?', 'what to do if i get a eye Injury?', 'Which medicine to take if I injured my eye?', 'How to cure injured eye?'], 'responses': ['1) DO NOT rub the eye, 2)Blink several times and allow tears to flush out the particle, 3) Lift the upper eyelid over the lashes of your lower lid to let the eyelashes try to brush the particle out., 4) Use eyewash, saline solution or running tap water to flush the eye out ']}, {'tag': 'Chemical Burn', 'patterns': ['How do you treat a chemical burn?', 'what to do if i get a Chemical Burn?', 'Which medicine to take if I get burn due to chemicals?', 'How to cure Chemical Burn?'], 'responses': [\"1) rinsed with water · Flush the area for at least 20 minutes. · As you flush the area, take off any clothing or jewellery that has the chemical on it ,2) Don't use a strong stream of water, if possible., 3)Don't try to neutralize the burn with acid or alkali. This could cause a chemical reaction that worsens the burn, 4) Don't put antibiotic ointment on the burn. \"]}, {'tag': 'Poison', 'patterns': ['How do you treat a Poison?', 'what to do if i get Poison?', 'Which medicine to take if I am poisoned?', 'How to cure Poisoning?'], 'responses': ['1) Get to fresh air right away. Call the toll-free Poison Help line (1-800-222-1222), which connects you to your local poison center, 2) Take off any clothing the poison touched. Rinse skin with running water for 15 to 20 minutes. Call the toll-free Poison Help line (1-800-222-1222), which connects you to your local poison center.,3) If the person swallowed the wrong medicine or too much medicine: Call Poison Help (1-800-222-1222), which connects you to your local poison center.,4) Every poisoning is different. ']}, {'tag': 'Teeth', 'patterns': ['How do you treat broken Teeth ?', 'what to do if my Teeth got broken?', 'Which medicine to take if I get broken teeth?', 'cure broken teeth?'], 'responses': [\"1) lick the tooth clean if it's dirty, or rinse it in water. put it back into position (adult teeth only); never try to re-insert a baby tooth (see below) bite on a handkerchief to hold the tooth in place. go to see a dentist as an emergency \"]}, {'tag': 'seizure', 'patterns': ['How do you treat a seizure?', 'what to do if i get a seizure?', 'Which medicine to take if I get seizure?', 'How to cure seizure?'], 'responses': ['1) Stay calm and remain with the person, 2) If they have food or fluid in their mouth, roll them onto their side immediately, 3) Place something soft under their head and loosen any tight clothing. ']}, {'tag': 'Head Injury', 'patterns': ['How do you treat a head Injury?', 'what to do if i get a Head Injury?', 'Which medicine to take if I get injured in the head?', 'How to cure Head Injury?'], 'responses': [\"1) Apply firm pressure to the wound with sterile gauze or a clean cloth. But don't apply direct pressure to the wound if you suspect a skull fracture. \"]}, {'tag': 'Fainting', 'patterns': ['How do you treat Faint?', 'what to do if i feel like Fainting?', 'Which medicine to take if I get a Faint?', 'How to cure Fainting?'], 'responses': [\"1) Lie down or sit down. To reduce the chance of fainting again, don't get up too quickly, 2) Place your head between your knees if you sit down, 3)Position the person on his or her back. If there are no injuries and the person is breathing, raise the person's legs above heart level — about 12 inches (30 centimeters) — if possible. Loosen belts, collars or other constrictive clothing. \"]}, {'tag': 'Headache', 'patterns': ['How do you treat a mild Headache?', 'what to do if i get a mild Headache?', 'Which medicine to take if I have a mild headache?', 'How to cure a mild headache?'], 'responses': ['Give ibuprofen (Advil, Motrin), aspirin, or acetaminophen (Tylenol) for pain. Avoid ibuprofen and other NSAIDs if the person has heart failure or kidney failure. Do not give aspirin to a child under age 18.']}, {'tag': 'Cold', 'patterns': ['How do you treat a Cold?', 'what to do if i get a mild Cold?', 'Which medicine to take if I have a Cold?', 'How to cure Cold?'], 'responses': [\"1)Keeping hydrated is absolutely vital to help 'flush' out the cold, as well as to break down congestion and keep your throat lubricated. 2)Vitamin C is extremely helpful when fighting infection, so at the first sign of a cold be sure to increase your intake by eating plenty of berries, citrus fruits, papayas, broccoli and red peppers which will help keep you protected. 3)When it comes to combating a cold,Vitamin D is essential in helping to regulate immune response.\"]}, {'tag': 'Rash', 'patterns': ['How do you treat Rashes?', 'what to do if i get a Rash?', 'Which medicine to take if I have a Rash?', 'How to cure Rash?'], 'responses': ['1)Olive oil helps in healing and promotes skin renewal given it is packed with vitamin E and antioxidants. It also soothes the skin and reduces itching. 2)Baking soda is useful in drying skin rashes as also in relieving itching and inflammation. 3)Aloe Vera,Thanks to its antibacterial, antifungal, anti-inflammatory and emollient properties, aloe vera is excellent for treating a number of skin ailments including rashes as also soothing the skin.']}, {'tag': 'snake bite', 'patterns': ['How do you treat a snake bite?', 'what to do if i get a snake bite?', 'Which medicine to take if I get a snake bite?', 'How to cure snake bite?', 'i got bit by a snake'], 'responses': ['While waiting for medical help: 1)Move the person beyond striking distance of the snake. 2)Have the person lie down with wound below the heart. 3)Keep the person calm and at rest, remaining as still as possible to keep venom from spreading. 4)Cover the wound with loose, sterile bandage. 5)Remove any jewelry from the area that was bitten. 6)Remove shoes if the leg or foot was bitten.']}, {'tag': 'animal bite', 'patterns': ['How do you treat a animal bite?', 'How do you treat a monkey bite?', 'How do you treat a dog bite?', 'what to do if i get a animal bite?', 'Which medicine to take if I get a monekey bite?', 'How to cure dog bite?', 'i got bit by a dog'], 'responses': ['1)Wash the wound with soap and warm water. 2)Gently press a clean cloth over the wound to stop the flow of blood. 3)Apply an antibacterial ointment to the wound. 4)Cover with a sterile bandage. 5)Watch for signs of infection. 6)Seek help if you suspect infection or possible exposure to rabies, or if the wound is severe.']}, {'tag': 'Drowning', 'patterns': ['What to do if someone is Drowning?', 'what to do if someone drowned?', 'What steps to take if i see a drowning person?', 'How to help a drowning person?'], 'responses': [\"1)Place your ear next to the person's mouth and nose. Do you feel air on your cheek? 2)Look to see if the person's chest is moving.If the Person is Not Breathing, Check Pulse. 3)Check the person's pulse for 10 seconds.If There is No Pulse, Start CPR.\"]}, {'tag': 'CPR', 'patterns': ['How to give CPR??', 'what to do in a CPR?', 'What steps to take in a CPR??', 'How to help a drowning person in CPR?'], 'responses': ['1)For an adult or child, place the heel of one hand on the center of the chest at the nipple line. You can also push with one hand on top of the other. For an infant, place two fingers on the breastbone. 2)For an adult or child, press down at least 2 inches. Make sure not to press on ribs. For an infant, press down about 1 and 1/2 inches. Make sure not to press on the end of the breastbone. 3)Do chest compressions only, at the rate of 100-120 per minute or more. Let the chest rise completely between pushes. 4)Check to see if the person has started breathing.']}, {'tag': 'Fracture', 'patterns': ['How do you treat a Fracture?', 'what to do if i get a Fracture?', 'Which medicine to take if I have a Fracture?', 'How to cure a Fracture?'], 'responses': [\"1)Stop any bleeding. Apply pressure to the wound with a sterile bandage, a clean cloth or a clean piece of clothing. 2)Immobilize the injured area. Don't try to realign the bone or push a bone that's sticking out back in. If you've been trained in how to splint and professional help isn't readily available, apply a splint to the area above and below the fracture sites. Padding the splints can help reduce discomfort. 3)Apply ice packs to limit swelling and help relieve pain. Don't apply ice directly to the skin. Wrap the ice in a towel, piece of cloth or some other material. 4)Treat for shock. If the person feels faint or is breathing in short, rapid breaths, lay the person down with the head slightly lower than the trunk and, if possible, elevate the legs.\"]}]}\n"
          ]
        }
      ],
      "source": [
        "print(intents)"
      ]
    },
    {
      "cell_type": "code",
      "execution_count": 13,
      "metadata": {
        "id": "qwniAlaE-eyH"
      },
      "outputs": [],
      "source": [
        "all_words = []\n",
        "tags = []\n",
        "xy = []\n",
        "# loop through each sentence in our intents patterns\n",
        "for intent in intents['intents']:\n",
        "    tag = intent['tag']\n",
        "    # add to tag list\n",
        "    tags.append(tag)\n",
        "    for pattern in intent['patterns']:\n",
        "        # tokenize each word in the sentence\n",
        "        w = tokenize(pattern)\n",
        "        # add to our words list\n",
        "        all_words.extend(w)\n",
        "        # add to xy pair\n",
        "        xy.append((w, tag))"
      ]
    },
    {
      "cell_type": "code",
      "execution_count": null,
      "metadata": {
        "id": "jcvNXPT3NSLp"
      },
      "outputs": [],
      "source": [
        "all_words"
      ]
    },
    {
      "cell_type": "code",
      "execution_count": null,
      "metadata": {
        "id": "9o7ykD80-pm0"
      },
      "outputs": [],
      "source": [
        "xy"
      ]
    },
    {
      "cell_type": "code",
      "execution_count": 16,
      "metadata": {
        "colab": {
          "base_uri": "https://localhost:8080/"
        },
        "id": "gMq4HcFB-rMB",
        "outputId": "53143a01-1224-4929-9bc0-8d6926f3eab7"
      },
      "outputs": [
        {
          "output_type": "stream",
          "name": "stdout",
          "text": [
            "204 patterns\n",
            "48 tags: ['Abdonominal Pain', 'Abrasions', 'Broken Toe', 'Bruises', 'CPR', 'Chemical Burn', 'Choking', 'Cold', 'Cough', 'Cuts', 'Diarrhea', 'Drowning', 'Eye Injury', 'Fainting', 'Fever', 'Fracture', 'Frost bite', 'Gastrointestinal problems', 'Head Injury', 'Headache', 'Heat Exhaustion', 'Heat Stroke', 'Insect Bites', 'Nasal Congestion', 'Normal Bleeding', 'Poison', 'Pulled Muscle', 'Rash', 'Rectal bleeding', 'Skin problems', 'Sore Throat', 'Splinter', 'Sprains', 'Strains', 'Sun Burn', 'Teeth', 'Testicle Pain', 'Vertigo', 'Wound', 'animal bite', 'funny', 'goodbye', 'greeting', 'nose bleed', 'seizure', 'snake bite', 'stings', 'thanks']\n",
            "135 unique stemmed words: [\"'s\", 'a', 'abdonomin', 'abras', 'allergi', 'am', 'an', 'anim', 'anyon', 'appli', 'are', 'better', 'bit', 'bite', 'bitten', 'bleed', 'block', 'bring', 'broken', 'bruis', 'burn', 'by', 'bye', 'caus', 'chemic', 'choke', 'cold', 'congest', 'cough', 'cpr', 'cream', 'cure', 'cut', 'day', 'diagnos', 'diarrhea', 'do', 'doe', 'dog', 'drown', 'due', 'exhaust', 'eye', 'faint', 'feel', 'fever', 'for', 'fractur', 'frost', 'funni', 'ga', 'gastrointestin', 'get', 'give', 'good', 'goodby', 'got', 'have', 'head', 'headach', 'heat', 'hello', 'help', 'hey', 'hi', 'how', 'i', 'ice', 'if', 'in', 'injur', 'injuri', 'insect', 'is', 'joke', 'know', 'last', 'later', 'like', 'long', 'lot', 'me', 'medicin', 'mild', 'monekey', 'monkey', 'muscl', 'my', 'nasal', 'nose', 'of', 'on', 'or', 'pain', 'person', 'poison', 'problem', 'pull', 'rash', 'rectal', 'remov', 'rid', 'scar', 'see', 'seizur', 'skin', 'snake', 'someon', 'someth', 'sore', 'splinter', 'sprain', 'step', 'sting', 'strain', 'stroke', 'sun', 'surfac', 'take', 'teeth', 'tell', 'testicl', 'thank', 'that', 'the', 'there', 'throat', 'to', 'toe', 'treat', 'vertigo', 'what', 'which', 'wound', 'you']\n"
          ]
        }
      ],
      "source": [
        "# stem and lower each word\n",
        "ignore_words = ['?', '.', '!']\n",
        "all_words = [stem(w) for w in all_words if w not in ignore_words]\n",
        "# remove duplicates and sort\n",
        "all_words = sorted(set(all_words))\n",
        "tags = sorted(set(tags))\n",
        "\n",
        "print(len(xy), \"patterns\")\n",
        "print(len(tags), \"tags:\", tags)\n",
        "print(len(all_words), \"unique stemmed words:\", all_words)"
      ]
    },
    {
      "cell_type": "code",
      "execution_count": 17,
      "metadata": {
        "id": "lUczHXC__JmI"
      },
      "outputs": [],
      "source": [
        "\n",
        "# create training data\n",
        "X_train = []\n",
        "y_train = []\n",
        "for (pattern_sentence, tag) in xy:\n",
        "    \n",
        "    bag = bag_of_words(pattern_sentence, all_words)\n",
        "    X_train.append(bag)\n",
        "    \n",
        "    label = tags.index(tag)\n",
        "    y_train.append(label)\n",
        "\n",
        "X_train = np.array(X_train)\n",
        "y_train = np.array(y_train)\n"
      ]
    },
    {
      "cell_type": "code",
      "execution_count": 18,
      "metadata": {
        "colab": {
          "base_uri": "https://localhost:8080/"
        },
        "id": "BzKyigkATcvQ",
        "outputId": "68d2a3c7-d779-422a-8790-71b95d050fbe"
      },
      "outputs": [
        {
          "output_type": "execute_result",
          "data": {
            "text/plain": [
              "array([[0., 0., 0., ..., 0., 0., 0.],\n",
              "       [0., 0., 0., ..., 0., 0., 0.],\n",
              "       [0., 0., 0., ..., 0., 0., 1.],\n",
              "       ...,\n",
              "       [0., 1., 0., ..., 0., 0., 0.],\n",
              "       [0., 1., 0., ..., 1., 0., 0.],\n",
              "       [0., 1., 0., ..., 0., 0., 0.]], dtype=float32)"
            ]
          },
          "metadata": {},
          "execution_count": 18
        }
      ],
      "source": [
        "X_train"
      ]
    },
    {
      "cell_type": "code",
      "execution_count": 19,
      "metadata": {
        "colab": {
          "base_uri": "https://localhost:8080/"
        },
        "id": "dAQ8_ycE_5n2",
        "outputId": "22c1fa74-cc60-418c-96af-0a5eadd5b183"
      },
      "outputs": [
        {
          "output_type": "execute_result",
          "data": {
            "text/plain": [
              "array([42, 42, 42, 42, 42, 42, 41, 41, 41, 47, 47, 47, 47, 40, 40, 40,  9,\n",
              "        9,  9,  9,  9,  1,  1,  1,  1,  1,  1, 46, 46, 46, 46, 31, 31, 31,\n",
              "       31, 32, 32, 32, 32, 33, 33, 33, 33, 33, 33, 14, 14, 14, 14, 23, 23,\n",
              "       23, 23, 23, 23,  8,  8,  8,  8,  8, 30, 30, 30, 30, 17, 17, 17, 17,\n",
              "       29, 29, 29, 29,  0,  0,  0,  0,  3,  3,  3,  3,  2,  2,  2,  2,  6,\n",
              "        6,  6,  6, 38, 38, 38, 38, 10, 10, 10, 10, 16, 16, 16, 16, 20, 20,\n",
              "       20, 20, 21, 21, 21, 21, 22, 22, 22, 22, 43, 43, 43, 43, 26, 26, 26,\n",
              "       26, 28, 28, 28, 28, 34, 34, 34, 34, 36, 36, 36, 36, 37, 37, 37, 37,\n",
              "       24, 24, 24, 24, 12, 12, 12, 12,  5,  5,  5,  5, 25, 25, 25, 25, 35,\n",
              "       35, 35, 35, 44, 44, 44, 44, 18, 18, 18, 18, 13, 13, 13, 13, 19, 19,\n",
              "       19, 19,  7,  7,  7,  7, 27, 27, 27, 27, 45, 45, 45, 45, 45, 39, 39,\n",
              "       39, 39, 39, 39, 39, 11, 11, 11, 11,  4,  4,  4,  4, 15, 15, 15, 15])"
            ]
          },
          "metadata": {},
          "execution_count": 19
        }
      ],
      "source": [
        "y_train"
      ]
    },
    {
      "cell_type": "code",
      "execution_count": 20,
      "metadata": {
        "colab": {
          "base_uri": "https://localhost:8080/"
        },
        "id": "KnW6OWy3_6WN",
        "outputId": "e73bae9c-65ac-4990-ab4b-d19412ae457a"
      },
      "outputs": [
        {
          "output_type": "stream",
          "name": "stdout",
          "text": [
            "135 48\n"
          ]
        }
      ],
      "source": [
        "# Hyper-parameters \n",
        "num_epochs = 1000\n",
        "batch_size = 8\n",
        "learning_rate = 0.001\n",
        "input_size = len(X_train[0])\n",
        "hidden_size = 8\n",
        "output_size = len(tags)\n",
        "print(input_size, output_size)\n"
      ]
    },
    {
      "cell_type": "code",
      "execution_count": 21,
      "metadata": {
        "id": "4y2FtbugAhAe"
      },
      "outputs": [],
      "source": [
        "class ChatDataset(Dataset):\n",
        "\n",
        "    def __init__(self):\n",
        "        self.n_samples = len(X_train)\n",
        "        self.x_data = X_train\n",
        "        self.y_data = y_train\n",
        "\n",
        "    # support indexing such that dataset[i] can be used to get i-th sample\n",
        "    def __getitem__(self, index):\n",
        "        return self.x_data[index], self.y_data[index]\n",
        "\n",
        "    # we can call len(dataset) to return the size\n",
        "    def __len__(self):\n",
        "        return self.n_samples\n"
      ]
    },
    {
      "cell_type": "code",
      "execution_count": 22,
      "metadata": {
        "id": "EQ8JG6JGA2AK"
      },
      "outputs": [],
      "source": [
        "dataset = ChatDataset()\n",
        "train_loader = DataLoader(dataset=dataset,batch_size=batch_size,shuffle=True,num_workers=0)"
      ]
    },
    {
      "cell_type": "code",
      "execution_count": 23,
      "metadata": {
        "id": "yjGRjP-mBF-K"
      },
      "outputs": [],
      "source": [
        "device = torch.device('cuda' if torch.cuda.is_available() else 'cpu')"
      ]
    },
    {
      "cell_type": "code",
      "execution_count": 24,
      "metadata": {
        "id": "2jOqL0WCBj4E"
      },
      "outputs": [],
      "source": [
        "class NeuralNet(nn.Module):\n",
        "    def __init__(self, input_size, hidden_size, num_classes):\n",
        "        super(NeuralNet, self).__init__()\n",
        "        self.l1 = nn.Linear(input_size, hidden_size) \n",
        "        self.l2 = nn.Linear(hidden_size, hidden_size) \n",
        "        self.l3 = nn.Linear(hidden_size, num_classes)\n",
        "        self.relu = nn.ReLU()\n",
        "    \n",
        "    def forward(self, x):\n",
        "        out = self.l1(x)\n",
        "        out = self.relu(out)\n",
        "        out = self.l2(out)\n",
        "        out = self.relu(out)\n",
        "        out = self.l3(out)\n",
        "        # no activation and no softmax at the end\n",
        "        return out"
      ]
    },
    {
      "cell_type": "code",
      "execution_count": 25,
      "metadata": {
        "id": "xR6t5Hc9BLDt"
      },
      "outputs": [],
      "source": [
        "model = NeuralNet(input_size, hidden_size, output_size).to(device)"
      ]
    },
    {
      "cell_type": "code",
      "execution_count": 26,
      "metadata": {
        "colab": {
          "base_uri": "https://localhost:8080/"
        },
        "id": "JoB5KE1BBivg",
        "outputId": "bd121381-d7a3-47f3-a26f-a9e67ae9005b"
      },
      "outputs": [
        {
          "output_type": "stream",
          "name": "stdout",
          "text": [
            "NeuralNet(\n",
            "  (l1): Linear(in_features=135, out_features=8, bias=True)\n",
            "  (l2): Linear(in_features=8, out_features=8, bias=True)\n",
            "  (l3): Linear(in_features=8, out_features=48, bias=True)\n",
            "  (relu): ReLU()\n",
            ")\n"
          ]
        }
      ],
      "source": [
        "print(model)"
      ]
    },
    {
      "cell_type": "code",
      "execution_count": 36,
      "metadata": {
        "colab": {
          "base_uri": "https://localhost:8080/"
        },
        "id": "rCzQ1iXxCNlF",
        "outputId": "e073eb77-eed5-437e-a27f-d4704a20313a"
      },
      "outputs": [
        {
          "output_type": "stream",
          "name": "stdout",
          "text": [
            "----------------------------------------------------------------\n",
            "        Layer (type)               Output Shape         Param #\n",
            "================================================================\n",
            "            Linear-1                 [-1, 1, 8]           1,088\n",
            "              ReLU-2                 [-1, 1, 8]               0\n",
            "            Linear-3                 [-1, 1, 8]              72\n",
            "              ReLU-4                 [-1, 1, 8]               0\n",
            "            Linear-5                [-1, 1, 48]             432\n",
            "================================================================\n",
            "Total params: 1,592\n",
            "Trainable params: 1,592\n",
            "Non-trainable params: 0\n",
            "----------------------------------------------------------------\n",
            "Input size (MB): 0.00\n",
            "Forward/backward pass size (MB): 0.00\n",
            "Params size (MB): 0.01\n",
            "Estimated Total Size (MB): 0.01\n",
            "----------------------------------------------------------------\n"
          ]
        }
      ],
      "source": [
        "summary(model,(1, input_size))"
      ]
    },
    {
      "cell_type": "code",
      "execution_count": 28,
      "metadata": {
        "id": "2_vaGArECi3M"
      },
      "outputs": [],
      "source": [
        "# Loss and optimizer\n",
        "criterion = nn.CrossEntropyLoss()\n",
        "optimizer = torch.optim.Adam(model.parameters(), lr=learning_rate)"
      ]
    },
    {
      "cell_type": "code",
      "execution_count": 29,
      "metadata": {
        "colab": {
          "base_uri": "https://localhost:8080/"
        },
        "id": "eeVjLoTWG-ar",
        "outputId": "ae2d46ac-a2c9-4dde-f87b-e30b77c61008"
      },
      "outputs": [
        {
          "output_type": "stream",
          "name": "stdout",
          "text": [
            "Epoch [100/1000], Loss: 0.4457\n",
            "Epoch [200/1000], Loss: 0.0198\n",
            "Epoch [300/1000], Loss: 0.0010\n",
            "Epoch [400/1000], Loss: 0.0002\n",
            "Epoch [500/1000], Loss: 0.0000\n",
            "Epoch [600/1000], Loss: 0.0000\n",
            "Epoch [700/1000], Loss: 0.0000\n",
            "Epoch [800/1000], Loss: 0.0000\n",
            "Epoch [900/1000], Loss: 0.0000\n",
            "Epoch [1000/1000], Loss: 0.0000\n",
            "final loss: 0.0000\n"
          ]
        }
      ],
      "source": [
        "# Train the model\n",
        "for epoch in range(num_epochs):\n",
        "    for (words, labels) in train_loader:\n",
        "        words = words.to(device)\n",
        "        labels = labels.to(dtype=torch.long).to(device)\n",
        "        \n",
        "        # Forward pass\n",
        "        outputs = model(words)\n",
        "        # if y would be one-hot, we must apply\n",
        "        # labels = torch.max(labels, 1)[1]\n",
        "        loss = criterion(outputs, labels)\n",
        "        \n",
        "        # Backward and optimize\n",
        "        optimizer.zero_grad()\n",
        "        loss.backward()\n",
        "        optimizer.step()\n",
        "        \n",
        "    if (epoch+1) % 100 == 0:\n",
        "        print (f'Epoch [{epoch+1}/{num_epochs}], Loss: {loss.item():.4f}')\n",
        "\n",
        "\n",
        "print(f'final loss: {loss.item():.4f}')\n",
        "\n"
      ]
    },
    {
      "cell_type": "code",
      "execution_count": 30,
      "metadata": {
        "colab": {
          "base_uri": "https://localhost:8080/"
        },
        "id": "VY8bwqStHI9a",
        "outputId": "87fc0b25-41b4-4e4c-db71-22ba687f2810"
      },
      "outputs": [
        {
          "output_type": "stream",
          "name": "stdout",
          "text": [
            "training complete. file saved to data.pth\n"
          ]
        }
      ],
      "source": [
        "#save_model\n",
        "data = {\n",
        "\"model_state\": model.state_dict(),\n",
        "\"input_size\": input_size,\n",
        "\"hidden_size\": hidden_size,\n",
        "\"output_size\": output_size,\n",
        "\"all_words\": all_words,\n",
        "\"tags\": tags\n",
        "}\n",
        "\n",
        "FILE = \"data.pth\"\n",
        "torch.save(data, FILE)\n",
        "\n",
        "print(f'training complete. file saved to {FILE}')"
      ]
    },
    {
      "cell_type": "markdown",
      "metadata": {
        "id": "JCorzyTGIWVO"
      },
      "source": [
        "==============================================================================="
      ]
    },
    {
      "cell_type": "code",
      "execution_count": 31,
      "metadata": {
        "id": "XJvIn2frHZ6T"
      },
      "outputs": [],
      "source": [
        "FILE = \"data.pth\"\n",
        "data = torch.load(FILE)"
      ]
    },
    {
      "cell_type": "code",
      "execution_count": 32,
      "metadata": {
        "id": "m-QZqOYRILkG"
      },
      "outputs": [],
      "source": [
        "\n",
        "input_size = data[\"input_size\"]\n",
        "hidden_size = data[\"hidden_size\"]\n",
        "output_size = data[\"output_size\"]\n",
        "all_words = data['all_words']\n",
        "tags = data['tags']\n",
        "model_state = data[\"model_state\"]\n"
      ]
    },
    {
      "cell_type": "code",
      "execution_count": 33,
      "metadata": {
        "colab": {
          "base_uri": "https://localhost:8080/"
        },
        "id": "ajqUoMksIQ3x",
        "outputId": "cd940db4-15fc-44cc-c1d4-68310d535109"
      },
      "outputs": [
        {
          "output_type": "execute_result",
          "data": {
            "text/plain": [
              "NeuralNet(\n",
              "  (l1): Linear(in_features=135, out_features=8, bias=True)\n",
              "  (l2): Linear(in_features=8, out_features=8, bias=True)\n",
              "  (l3): Linear(in_features=8, out_features=48, bias=True)\n",
              "  (relu): ReLU()\n",
              ")"
            ]
          },
          "metadata": {},
          "execution_count": 33
        }
      ],
      "source": [
        "\n",
        "model = NeuralNet(input_size, hidden_size, output_size).to(device)\n",
        "model.load_state_dict(model_state)\n",
        "model.eval()\n"
      ]
    },
    {
      "cell_type": "code",
      "execution_count": 34,
      "metadata": {
        "colab": {
          "base_uri": "https://localhost:8080/"
        },
        "id": "w29nWcWZIZy8",
        "outputId": "e8df97cd-3f8d-4772-e930-e84143249989"
      },
      "outputs": [
        {
          "name": "stdout",
          "output_type": "stream",
          "text": [
            "Let's chat! (type 'quit' to exit)\n",
            "You: hi\n",
            "Aymon: Hi there, what can I do for you?\n",
            "You: How do I handle Cuts\n",
            "Aymon: Wash the cut properly to prevent infection and stop the bleeding by applying pressure for 1-2minutes until bleeding stops. Apply Petroleum Jelly to make sure that the wound is moist for quick healing. Finally cover the cut with a sterile bandage. Pain relievers such as acetaminophen can be applied.\n",
            "You: my muscle is pulled \n",
            "Aymon: 1) Apply ice for 10 to 15 minutes every 1 hour for the first day and every 3 to 4 hours after that. Use ice for the first 3 days. After 3 days, either heat or ice may be helpful if you still have pain. Rest the pulled muscle for at least a day. \n",
            "You: Had an accident that caused Abrasions\n",
            "Aymon: Begin with washed hands.Gently clean the area with cool to lukewarm water and mild soap. Remove dirt or other particles from the wound using sterilized tweezers.For a mild scrape that’s not bleeding, leave the wound uncovered.If the wound is bleeding, use a clean cloth or bandage, and apply gentle pressure to the area to stop any bleeding.Cover a wound that bled with a thin layer of topical antibiotic ointment, like Bacitracin, or a sterile moisture barrier ointment, like Aquaphor. Cover it with a clean bandage or gauze. Gently clean the wound and change the ointment and bandage once per day.Watch the area for signs of infection, like pain or redness and swelling. See your doctor if you suspect infection.\n",
            "You: I was exposed to stings\n",
            "Aymon: Remove any stingers immediately. Some experts recommend scraping out the stinger with a credit card. Applying ice to the site may provide some mild relief. Apply ice for 20 minutes once every hour as needed. Wrap the ice in a towel or keep a cloth between the ice and skin to keep from freezing the skin. Taking an antihistamine such as diphenhydramine (Benadryl) or a nonsedating one such as loratadine (Claritin) will help with itching and swelling. Take acetaminophen (Tylenol) or ibuprofen (Motrin)for pain relief as needed. Wash the sting site with soap and water. Placing hydrocortisone cream on the sting can help relieve redness, itching, and swelling.\n",
            "You: What to do if I have splinters?\n",
            "Aymon: 1. SOAK IT IN EPSOM SALTS. Dissolve a cup of the salts into a warm bath and soak whatever part of the body has the splinter. Failing that, you can also put some of the salts onto a bandage pad and leave it covered for a day; this will eventually help bring the splinter to the surface. 2. VINEGAR OR OIL. Another simple way to draw out that stubborn splinter is to soak the affected area in oil (olive or corn) or white vinegar. Just pour some in a bowl and soak the area for around 20 to 30 minutes,\n",
            "You: Had an accident that caused Sprains\n",
            "Aymon: Begin with washed hands.Gently clean the area with cool to lukewarm water and mild soap. Remove dirt or other particles from the wound using sterilized tweezers.For a mild scrape that’s not bleeding, leave the wound uncovered.If the wound is bleeding, use a clean cloth or bandage, and apply gentle pressure to the area to stop any bleeding.Cover a wound that bled with a thin layer of topical antibiotic ointment, like Bacitracin, or a sterile moisture barrier ointment, like Aquaphor. Cover it with a clean bandage or gauze. Gently clean the wound and change the ointment and bandage once per day.Watch the area for signs of infection, like pain or redness and swelling. See your doctor if you suspect infection.\n",
            "You: Sprains\n",
            "Aymon: 1) Cool the skin, 2) Drink water to prevent dehydration., 3) Take a pain reliever such as ibuprofen (Advil, Motrin IB, others) to help with the discomfort and swelling of sunburn. \n",
            "You: How do you treat a sprain?\n",
            "Aymon: Use an ice pack or ice slush bath immediately for 15 to 20 minutes and repeat every two to three hours while you're awake. To help stop swelling, compress the ankle with an elastic bandage until the swelling stops. In most cases, pain relievers — such as ibuprofen (Advil, Motrin IB, others) or naproxen sodium (Aleve, others) or acetaminophen (Tylenol, others) are enough to manage the pain of a sprained ankle.\n",
            "You: How do you treat a strain?\n",
            "Aymon: Rest,Ice,Compression and Elevation can be used to cure strains. Avoid using your muscle for a few days, especially if movement causes an increase in pain and also Apply ice immediately after injuring your muscle. This will minimize swelling. Don’t put ice directly on your skin. Use an ice pack or wrap ice in a towel. To reduce swelling, wrap the affected area with an elastic bandage until swelling comes down.\n",
            "You: Which medicine to take if I get a mild fever?\n",
            "Aymon: To treat a fever at home: 1)Drink plenty of fluids to stay hydrated. 2)Dress in lightweight clothing. 3)Use a light blanket if you feel chilled, until the chills end. 4)Take acetaminophen (Tylenol, others) or ibuprofen (Advil, Motrin IB, others). 5) Get medical help if the fever lasts more than five days in a row.\n",
            "You: quit\n"
          ]
        }
      ],
      "source": [
        "bot_name = \"Aymon\"\n",
        "print(\"Let's chat! (type 'quit' to exit)\")\n",
        "while True:\n",
        "    # sentence = \"do you use credit cards?\"\n",
        "    sentence = input(\"You: \")\n",
        "    if sentence == \"quit\":\n",
        "        break\n",
        "\n",
        "    sentence = tokenize(sentence)\n",
        "    X = bag_of_words(sentence, all_words)\n",
        "    X = X.reshape(1, X.shape[0])\n",
        "    X = torch.from_numpy(X).to(device)\n",
        "\n",
        "    output = model(X)\n",
        "    _, predicted = torch.max(output, dim=1)\n",
        "\n",
        "    tag = tags[predicted.item()]\n",
        "\n",
        "    probs = torch.softmax(output, dim=1)\n",
        "    prob = probs[0][predicted.item()]\n",
        "    if prob.item() > 0.60:\n",
        "        for intent in intents['intents']:\n",
        "            if tag == intent[\"tag\"]:\n",
        "                print(f\"{bot_name}: {random.choice(intent['responses'])}\")\n",
        "    else:\n",
        "        print(f\"{bot_name}: I do not understand...\")"
      ]
    },
    {
      "cell_type": "code",
      "execution_count": null,
      "metadata": {
        "id": "jO9Q02JOIhLf"
      },
      "outputs": [],
      "source": [
        ""
      ]
    }
  ],
  "metadata": {
    "colab": {
      "collapsed_sections": [],
      "name": "ChatBot.ipynb",
      "provenance": [],
      "authorship_tag": "ABX9TyM7KXIN7PJtziFyVZFzrMSj",
      "include_colab_link": true
    },
    "kernelspec": {
      "display_name": "Python 3",
      "name": "python3"
    },
    "language_info": {
      "name": "python"
    }
  },
  "nbformat": 4,
  "nbformat_minor": 0
}